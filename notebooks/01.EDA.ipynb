{
 "cells": [
  {
   "cell_type": "code",
   "execution_count": 1,
   "id": "e4a2d103",
   "metadata": {},
   "outputs": [],
   "source": [
    "# ----------------------------------------------------------------------------\n",
    "# Author        :    Vasileios Perifanis\n",
    "# Affiliation   :    Euclid team, Democritus University of Thrace, Dept. of Electrical & Computer Engineering\n",
    "# Created Date  :    03/2022\n",
    "# version       :    1.0\n",
    "# ---------------------------------------------------------------------------"
   ]
  },
  {
   "cell_type": "markdown",
   "id": "b4125251",
   "metadata": {},
   "source": [
    "# Exploratory Data Analysis (EDA)\n",
    "\n",
    "Techniques for data exploration and analysis to summarize features and observations on the given dataset.\n",
    "\n",
    "Common EDA applications:\n",
    "   - Data visualization\n",
    "   - Identification of important features\n",
    "   - Errors identification\n",
    "   - Baseline machine learning algorithms\n",
    "   - Correlations between input data and input-output data"
   ]
  },
  {
   "cell_type": "code",
   "execution_count": null,
   "id": "30257870",
   "metadata": {},
   "outputs": [],
   "source": []
  },
  {
   "cell_type": "markdown",
   "id": "08ef38ec",
   "metadata": {},
   "source": [
    "# Dataset\n",
    "We will use the Titanic <a href=\"https://www.kaggle.com/c/titanic\">dataset</a>"
   ]
  },
  {
   "cell_type": "code",
   "execution_count": null,
   "id": "5ca20bb1",
   "metadata": {},
   "outputs": [],
   "source": []
  },
  {
   "cell_type": "code",
   "execution_count": 2,
   "id": "734522b7",
   "metadata": {},
   "outputs": [],
   "source": [
    "import numpy as np # linear algebra\n",
    "import pandas as pd # data analysis\n",
    "import matplotlib.pyplot as plt\n",
    "import seaborn as sns\n",
    "\n",
    "import warnings\n",
    "warnings.filterwarnings('ignore')"
   ]
  },
  {
   "cell_type": "code",
   "execution_count": 3,
   "id": "f3e5b25e",
   "metadata": {},
   "outputs": [],
   "source": [
    "data = pd.read_csv(\"datasets/titanic_train.csv\", header=0) # read csv"
   ]
  },
  {
   "cell_type": "code",
   "execution_count": 4,
   "id": "d68b67f5",
   "metadata": {},
   "outputs": [],
   "source": [
    "pd.set_option('display.max_columns', None)"
   ]
  },
  {
   "cell_type": "code",
   "execution_count": 5,
   "id": "f1ca50f5",
   "metadata": {},
   "outputs": [
    {
     "data": {
      "text/plain": [
       "Index(['PassengerId', 'Survived', 'Pclass', 'Name', 'Sex', 'Age', 'SibSp',\n",
       "       'Parch', 'Ticket', 'Fare', 'Cabin', 'Embarked'],\n",
       "      dtype='object')"
      ]
     },
     "execution_count": 5,
     "metadata": {},
     "output_type": "execute_result"
    }
   ],
   "source": [
    "data.columns # get the columns"
   ]
  },
  {
   "cell_type": "code",
   "execution_count": null,
   "id": "89107c21",
   "metadata": {},
   "outputs": [],
   "source": []
  },
  {
   "cell_type": "markdown",
   "id": "bf594ab9",
   "metadata": {},
   "source": [
    "| Feature | Description |\n",
    "| --- | --- |\n",
    "| PassengerId | id\n",
    "| Survived | 0-1 (target variable)\n",
    "| Pclass | Ticket Class (1,2 or 3)\n",
    "| Name | Passenger's Name\n",
    "| Sex | Passenger's Sex (male or female)\n",
    "| Age | Passenger's Age\n",
    "| SibSp | Number of siblings/spouses aboard the Titanic\n",
    "| Parch | Number of parents/children aboard the Titanic\n",
    "| Ticket | Ticket Number\n",
    "| Fare | Paid amount for the trip\n",
    "| Cabin | Cabin's Number\n",
    "| Embarked | Town (C = Cherbourg, Q = Queenstown, S = Southampton)"
   ]
  },
  {
   "cell_type": "code",
   "execution_count": null,
   "id": "1350bee2",
   "metadata": {},
   "outputs": [],
   "source": []
  },
  {
   "cell_type": "code",
   "execution_count": 6,
   "id": "90d07367",
   "metadata": {},
   "outputs": [
    {
     "data": {
      "text/html": [
       "<div>\n",
       "<style scoped>\n",
       "    .dataframe tbody tr th:only-of-type {\n",
       "        vertical-align: middle;\n",
       "    }\n",
       "\n",
       "    .dataframe tbody tr th {\n",
       "        vertical-align: top;\n",
       "    }\n",
       "\n",
       "    .dataframe thead th {\n",
       "        text-align: right;\n",
       "    }\n",
       "</style>\n",
       "<table border=\"1\" class=\"dataframe\">\n",
       "  <thead>\n",
       "    <tr style=\"text-align: right;\">\n",
       "      <th></th>\n",
       "      <th>PassengerId</th>\n",
       "      <th>Survived</th>\n",
       "      <th>Pclass</th>\n",
       "      <th>Name</th>\n",
       "      <th>Sex</th>\n",
       "      <th>Age</th>\n",
       "      <th>SibSp</th>\n",
       "      <th>Parch</th>\n",
       "      <th>Ticket</th>\n",
       "      <th>Fare</th>\n",
       "      <th>Cabin</th>\n",
       "      <th>Embarked</th>\n",
       "    </tr>\n",
       "  </thead>\n",
       "  <tbody>\n",
       "    <tr>\n",
       "      <th>0</th>\n",
       "      <td>1</td>\n",
       "      <td>0</td>\n",
       "      <td>3</td>\n",
       "      <td>Braund, Mr. Owen Harris</td>\n",
       "      <td>male</td>\n",
       "      <td>22.0</td>\n",
       "      <td>1</td>\n",
       "      <td>0</td>\n",
       "      <td>A/5 21171</td>\n",
       "      <td>7.2500</td>\n",
       "      <td>NaN</td>\n",
       "      <td>S</td>\n",
       "    </tr>\n",
       "    <tr>\n",
       "      <th>1</th>\n",
       "      <td>2</td>\n",
       "      <td>1</td>\n",
       "      <td>1</td>\n",
       "      <td>Cumings, Mrs. John Bradley (Florence Briggs Th...</td>\n",
       "      <td>female</td>\n",
       "      <td>38.0</td>\n",
       "      <td>1</td>\n",
       "      <td>0</td>\n",
       "      <td>PC 17599</td>\n",
       "      <td>71.2833</td>\n",
       "      <td>C85</td>\n",
       "      <td>C</td>\n",
       "    </tr>\n",
       "    <tr>\n",
       "      <th>2</th>\n",
       "      <td>3</td>\n",
       "      <td>1</td>\n",
       "      <td>3</td>\n",
       "      <td>Heikkinen, Miss. Laina</td>\n",
       "      <td>female</td>\n",
       "      <td>26.0</td>\n",
       "      <td>0</td>\n",
       "      <td>0</td>\n",
       "      <td>STON/O2. 3101282</td>\n",
       "      <td>7.9250</td>\n",
       "      <td>NaN</td>\n",
       "      <td>S</td>\n",
       "    </tr>\n",
       "    <tr>\n",
       "      <th>3</th>\n",
       "      <td>4</td>\n",
       "      <td>1</td>\n",
       "      <td>1</td>\n",
       "      <td>Futrelle, Mrs. Jacques Heath (Lily May Peel)</td>\n",
       "      <td>female</td>\n",
       "      <td>35.0</td>\n",
       "      <td>1</td>\n",
       "      <td>0</td>\n",
       "      <td>113803</td>\n",
       "      <td>53.1000</td>\n",
       "      <td>C123</td>\n",
       "      <td>S</td>\n",
       "    </tr>\n",
       "    <tr>\n",
       "      <th>4</th>\n",
       "      <td>5</td>\n",
       "      <td>0</td>\n",
       "      <td>3</td>\n",
       "      <td>Allen, Mr. William Henry</td>\n",
       "      <td>male</td>\n",
       "      <td>35.0</td>\n",
       "      <td>0</td>\n",
       "      <td>0</td>\n",
       "      <td>373450</td>\n",
       "      <td>8.0500</td>\n",
       "      <td>NaN</td>\n",
       "      <td>S</td>\n",
       "    </tr>\n",
       "  </tbody>\n",
       "</table>\n",
       "</div>"
      ],
      "text/plain": [
       "   PassengerId  Survived  Pclass  \\\n",
       "0            1         0       3   \n",
       "1            2         1       1   \n",
       "2            3         1       3   \n",
       "3            4         1       1   \n",
       "4            5         0       3   \n",
       "\n",
       "                                                Name     Sex   Age  SibSp  \\\n",
       "0                            Braund, Mr. Owen Harris    male  22.0      1   \n",
       "1  Cumings, Mrs. John Bradley (Florence Briggs Th...  female  38.0      1   \n",
       "2                             Heikkinen, Miss. Laina  female  26.0      0   \n",
       "3       Futrelle, Mrs. Jacques Heath (Lily May Peel)  female  35.0      1   \n",
       "4                           Allen, Mr. William Henry    male  35.0      0   \n",
       "\n",
       "   Parch            Ticket     Fare Cabin Embarked  \n",
       "0      0         A/5 21171   7.2500   NaN        S  \n",
       "1      0          PC 17599  71.2833   C85        C  \n",
       "2      0  STON/O2. 3101282   7.9250   NaN        S  \n",
       "3      0            113803  53.1000  C123        S  \n",
       "4      0            373450   8.0500   NaN        S  "
      ]
     },
     "execution_count": 6,
     "metadata": {},
     "output_type": "execute_result"
    }
   ],
   "source": [
    "data.head() # show the first 5 observations"
   ]
  },
  {
   "cell_type": "code",
   "execution_count": 7,
   "id": "f0aef413",
   "metadata": {},
   "outputs": [
    {
     "data": {
      "text/plain": [
       "(891, 12)"
      ]
     },
     "execution_count": 7,
     "metadata": {},
     "output_type": "execute_result"
    }
   ],
   "source": [
    "data.shape # get the number of rows and columns"
   ]
  },
  {
   "cell_type": "code",
   "execution_count": 8,
   "id": "0aee3cb9",
   "metadata": {},
   "outputs": [
    {
     "data": {
      "text/html": [
       "<div>\n",
       "<style scoped>\n",
       "    .dataframe tbody tr th:only-of-type {\n",
       "        vertical-align: middle;\n",
       "    }\n",
       "\n",
       "    .dataframe tbody tr th {\n",
       "        vertical-align: top;\n",
       "    }\n",
       "\n",
       "    .dataframe thead th {\n",
       "        text-align: right;\n",
       "    }\n",
       "</style>\n",
       "<table border=\"1\" class=\"dataframe\">\n",
       "  <thead>\n",
       "    <tr style=\"text-align: right;\">\n",
       "      <th></th>\n",
       "      <th>PassengerId</th>\n",
       "      <th>Survived</th>\n",
       "      <th>Pclass</th>\n",
       "      <th>Age</th>\n",
       "      <th>SibSp</th>\n",
       "      <th>Parch</th>\n",
       "      <th>Fare</th>\n",
       "    </tr>\n",
       "  </thead>\n",
       "  <tbody>\n",
       "    <tr>\n",
       "      <th>count</th>\n",
       "      <td>891.000000</td>\n",
       "      <td>891.000000</td>\n",
       "      <td>891.000000</td>\n",
       "      <td>714.000000</td>\n",
       "      <td>891.000000</td>\n",
       "      <td>891.000000</td>\n",
       "      <td>891.000000</td>\n",
       "    </tr>\n",
       "    <tr>\n",
       "      <th>mean</th>\n",
       "      <td>446.000000</td>\n",
       "      <td>0.383838</td>\n",
       "      <td>2.308642</td>\n",
       "      <td>29.699118</td>\n",
       "      <td>0.523008</td>\n",
       "      <td>0.381594</td>\n",
       "      <td>32.204208</td>\n",
       "    </tr>\n",
       "    <tr>\n",
       "      <th>std</th>\n",
       "      <td>257.353842</td>\n",
       "      <td>0.486592</td>\n",
       "      <td>0.836071</td>\n",
       "      <td>14.526497</td>\n",
       "      <td>1.102743</td>\n",
       "      <td>0.806057</td>\n",
       "      <td>49.693429</td>\n",
       "    </tr>\n",
       "    <tr>\n",
       "      <th>min</th>\n",
       "      <td>1.000000</td>\n",
       "      <td>0.000000</td>\n",
       "      <td>1.000000</td>\n",
       "      <td>0.420000</td>\n",
       "      <td>0.000000</td>\n",
       "      <td>0.000000</td>\n",
       "      <td>0.000000</td>\n",
       "    </tr>\n",
       "    <tr>\n",
       "      <th>25%</th>\n",
       "      <td>223.500000</td>\n",
       "      <td>0.000000</td>\n",
       "      <td>2.000000</td>\n",
       "      <td>20.125000</td>\n",
       "      <td>0.000000</td>\n",
       "      <td>0.000000</td>\n",
       "      <td>7.910400</td>\n",
       "    </tr>\n",
       "    <tr>\n",
       "      <th>50%</th>\n",
       "      <td>446.000000</td>\n",
       "      <td>0.000000</td>\n",
       "      <td>3.000000</td>\n",
       "      <td>28.000000</td>\n",
       "      <td>0.000000</td>\n",
       "      <td>0.000000</td>\n",
       "      <td>14.454200</td>\n",
       "    </tr>\n",
       "    <tr>\n",
       "      <th>75%</th>\n",
       "      <td>668.500000</td>\n",
       "      <td>1.000000</td>\n",
       "      <td>3.000000</td>\n",
       "      <td>38.000000</td>\n",
       "      <td>1.000000</td>\n",
       "      <td>0.000000</td>\n",
       "      <td>31.000000</td>\n",
       "    </tr>\n",
       "    <tr>\n",
       "      <th>max</th>\n",
       "      <td>891.000000</td>\n",
       "      <td>1.000000</td>\n",
       "      <td>3.000000</td>\n",
       "      <td>80.000000</td>\n",
       "      <td>8.000000</td>\n",
       "      <td>6.000000</td>\n",
       "      <td>512.329200</td>\n",
       "    </tr>\n",
       "  </tbody>\n",
       "</table>\n",
       "</div>"
      ],
      "text/plain": [
       "       PassengerId    Survived      Pclass         Age       SibSp  \\\n",
       "count   891.000000  891.000000  891.000000  714.000000  891.000000   \n",
       "mean    446.000000    0.383838    2.308642   29.699118    0.523008   \n",
       "std     257.353842    0.486592    0.836071   14.526497    1.102743   \n",
       "min       1.000000    0.000000    1.000000    0.420000    0.000000   \n",
       "25%     223.500000    0.000000    2.000000   20.125000    0.000000   \n",
       "50%     446.000000    0.000000    3.000000   28.000000    0.000000   \n",
       "75%     668.500000    1.000000    3.000000   38.000000    1.000000   \n",
       "max     891.000000    1.000000    3.000000   80.000000    8.000000   \n",
       "\n",
       "            Parch        Fare  \n",
       "count  891.000000  891.000000  \n",
       "mean     0.381594   32.204208  \n",
       "std      0.806057   49.693429  \n",
       "min      0.000000    0.000000  \n",
       "25%      0.000000    7.910400  \n",
       "50%      0.000000   14.454200  \n",
       "75%      0.000000   31.000000  \n",
       "max      6.000000  512.329200  "
      ]
     },
     "execution_count": 8,
     "metadata": {},
     "output_type": "execute_result"
    }
   ],
   "source": [
    "data.describe() # summarize numerical statistics"
   ]
  },
  {
   "cell_type": "code",
   "execution_count": null,
   "id": "b367b4ed",
   "metadata": {},
   "outputs": [],
   "source": []
  },
  {
   "cell_type": "markdown",
   "id": "aff8411a",
   "metadata": {},
   "source": [
    "# Observations \n",
    "\n",
    "1. There are 891 samples (rows) with 12 features (columns)\n",
    "\n",
    "2. The mean age is 29.7 and the median age is 28. If there is a significant difference between the mean and median values, then it is highly likely that the dataset contains outliers. For instance, considering that we have the following age samples: [2, 30, 31, 32], the mean value is 23.75 and the median is 30.5. \n",
    "\n",
    "3. The existence of outliers is observed in the Fare feature, i.e., the trip’s payment amount. The mean value is 32.2 and the median is 14.45. Hence, we can conclude that exists at least one sample with a high Fare amount."
   ]
  },
  {
   "cell_type": "code",
   "execution_count": 9,
   "id": "d4db2415",
   "metadata": {},
   "outputs": [
    {
     "data": {
      "text/plain": [
       "630    80.0\n",
       "851    74.0\n",
       "96     71.0\n",
       "493    71.0\n",
       "116    70.5\n",
       "672    70.0\n",
       "745    70.0\n",
       "33     66.0\n",
       "54     65.0\n",
       "280    65.0\n",
       "Name: Age, dtype: float64"
      ]
     },
     "execution_count": 9,
     "metadata": {},
     "output_type": "execute_result"
    }
   ],
   "source": [
    "data.nlargest(10, ['Age'])['Age']"
   ]
  },
  {
   "cell_type": "code",
   "execution_count": 10,
   "id": "e7ef16d3",
   "metadata": {},
   "outputs": [
    {
     "data": {
      "text/plain": [
       "258    512.3292\n",
       "679    512.3292\n",
       "737    512.3292\n",
       "27     263.0000\n",
       "88     263.0000\n",
       "341    263.0000\n",
       "438    263.0000\n",
       "311    262.3750\n",
       "742    262.3750\n",
       "118    247.5208\n",
       "Name: Fare, dtype: float64"
      ]
     },
     "execution_count": 10,
     "metadata": {},
     "output_type": "execute_result"
    }
   ],
   "source": [
    "data.nlargest(10, ['Fare'])['Fare']"
   ]
  },
  {
   "cell_type": "code",
   "execution_count": null,
   "id": "c5cf35b6",
   "metadata": {},
   "outputs": [],
   "source": []
  },
  {
   "cell_type": "code",
   "execution_count": 11,
   "id": "d53a916d",
   "metadata": {},
   "outputs": [
    {
     "name": "stdout",
     "output_type": "stream",
     "text": [
      "PassengerId 891\n",
      "Survived 2\n",
      "Pclass 3\n",
      "Name 891\n",
      "Sex 2\n",
      "Age 89\n",
      "SibSp 7\n",
      "Parch 7\n",
      "Ticket 681\n",
      "Fare 248\n",
      "Cabin 148\n",
      "Embarked 4\n"
     ]
    }
   ],
   "source": [
    "for col in list(data.columns):\n",
    "    print(col, len(data[col].unique()))"
   ]
  },
  {
   "cell_type": "code",
   "execution_count": 12,
   "id": "5ee0b9e1",
   "metadata": {},
   "outputs": [
    {
     "data": {
      "text/plain": [
       "PassengerId      0\n",
       "Survived         0\n",
       "Pclass           0\n",
       "Name             0\n",
       "Sex              0\n",
       "Age            177\n",
       "SibSp            0\n",
       "Parch            0\n",
       "Ticket           0\n",
       "Fare             0\n",
       "Cabin          687\n",
       "Embarked         2\n",
       "dtype: int64"
      ]
     },
     "execution_count": 12,
     "metadata": {},
     "output_type": "execute_result"
    }
   ],
   "source": [
    "data.isnull().sum()"
   ]
  },
  {
   "cell_type": "markdown",
   "id": "98915a71",
   "metadata": {},
   "source": [
    "‘Age’ has 177, ‘Cabin’ has 687 and ‘Embarked’ has 2 NaN/null values."
   ]
  },
  {
   "cell_type": "code",
   "execution_count": null,
   "id": "c06593fb",
   "metadata": {},
   "outputs": [],
   "source": []
  },
  {
   "cell_type": "code",
   "execution_count": null,
   "id": "9eae648c",
   "metadata": {},
   "outputs": [],
   "source": []
  },
  {
   "cell_type": "code",
   "execution_count": 13,
   "id": "84f96754",
   "metadata": {},
   "outputs": [
    {
     "data": {
      "text/plain": [
       "0    549\n",
       "1    342\n",
       "Name: Survived, dtype: int64"
      ]
     },
     "execution_count": 13,
     "metadata": {},
     "output_type": "execute_result"
    }
   ],
   "source": [
    "data['Survived'].value_counts()"
   ]
  },
  {
   "cell_type": "markdown",
   "id": "e977c9dc",
   "metadata": {},
   "source": [
    "342 out of 891 passengers (38.4%) have survived. Hence, the dataset is imbalanced."
   ]
  },
  {
   "cell_type": "code",
   "execution_count": null,
   "id": "99bf22b2",
   "metadata": {},
   "outputs": [],
   "source": []
  },
  {
   "cell_type": "code",
   "execution_count": 14,
   "id": "7abf7a0d",
   "metadata": {},
   "outputs": [
    {
     "data": {
      "image/png": "[encoded data removed]",
      "text/plain": [
       "<Figure size 1296x576 with 2 Axes>"
      ]
     },
     "metadata": {
      "needs_background": "light"
     },
     "output_type": "display_data"
    }
   ],
   "source": [
    "f,ax=plt.subplots(1,2,figsize=(18,8))\n",
    "data['Survived'].value_counts().plot.pie(explode=[0,0.1],autopct='%1.1f%%',ax=ax[0],shadow=True)\n",
    "ax[0].set_title('Survived')\n",
    "ax[0].set_ylabel('')\n",
    "sns.countplot('Survived',data=data,ax=ax[1])\n",
    "ax[1].set_title('Survived')\n",
    "plt.show()"
   ]
  },
  {
   "cell_type": "code",
   "execution_count": null,
   "id": "00238bee",
   "metadata": {},
   "outputs": [],
   "source": []
  },
  {
   "cell_type": "code",
   "execution_count": 15,
   "id": "55541cd2",
   "metadata": {},
   "outputs": [
    {
     "data": {
      "text/plain": [
       "male      577\n",
       "female    314\n",
       "Name: Sex, dtype: int64"
      ]
     },
     "execution_count": 15,
     "metadata": {},
     "output_type": "execute_result"
    }
   ],
   "source": [
    "data['Sex'].value_counts()"
   ]
  },
  {
   "cell_type": "code",
   "execution_count": 16,
   "id": "59189fa2",
   "metadata": {},
   "outputs": [
    {
     "data": {
      "text/plain": [
       "Sex     Survived\n",
       "female  0            81\n",
       "        1           233\n",
       "male    0           468\n",
       "        1           109\n",
       "Name: Survived, dtype: int64"
      ]
     },
     "execution_count": 16,
     "metadata": {},
     "output_type": "execute_result"
    }
   ],
   "source": [
    "data.groupby(['Sex','Survived'])['Survived'].count()"
   ]
  },
  {
   "cell_type": "markdown",
   "id": "94b2b357",
   "metadata": {},
   "source": [
    "Approximately, the 75% of female population has survived, while only the 19% of male population has survived the trip."
   ]
  },
  {
   "cell_type": "code",
   "execution_count": null,
   "id": "d79bea06",
   "metadata": {},
   "outputs": [],
   "source": []
  },
  {
   "cell_type": "code",
   "execution_count": 17,
   "id": "dcec2f4e",
   "metadata": {},
   "outputs": [
    {
     "data": {
      "image/png": "[encoded data removed]",
      "text/plain": [
       "<Figure size 1296x576 with 2 Axes>"
      ]
     },
     "metadata": {
      "needs_background": "light"
     },
     "output_type": "display_data"
    }
   ],
   "source": [
    "f,ax=plt.subplots(1,2,figsize=(18,8))\n",
    "data[['Sex','Survived']].groupby(['Sex']).mean().plot.bar(ax=ax[0])\n",
    "ax[0].set_title('Survived vs Sex')\n",
    "sns.countplot('Sex',hue='Survived',data=data,ax=ax[1])\n",
    "ax[1].set_title('Sex:Survived vs Not Survived')\n",
    "plt.show()"
   ]
  },
  {
   "cell_type": "code",
   "execution_count": null,
   "id": "006e8485",
   "metadata": {},
   "outputs": [],
   "source": []
  },
  {
   "cell_type": "code",
   "execution_count": 18,
   "id": "d0aadc19",
   "metadata": {},
   "outputs": [
    {
     "data": {
      "text/plain": [
       "3    491\n",
       "1    216\n",
       "2    184\n",
       "Name: Pclass, dtype: int64"
      ]
     },
     "execution_count": 18,
     "metadata": {},
     "output_type": "execute_result"
    }
   ],
   "source": [
    "data['Pclass'].value_counts()"
   ]
  },
  {
   "cell_type": "code",
   "execution_count": 19,
   "id": "33e5ba8d",
   "metadata": {},
   "outputs": [
    {
     "data": {
      "text/html": [
       "<style type=\"text/css\">\n",
       "#T_bf43c_row0_col0, #T_bf43c_row1_col1, #T_bf43c_row1_col2 {\n",
       "  background-color: #ffff66;\n",
       "  color: #000000;\n",
       "}\n",
       "#T_bf43c_row0_col1 {\n",
       "  background-color: #cee666;\n",
       "  color: #000000;\n",
       "}\n",
       "#T_bf43c_row0_col2 {\n",
       "  background-color: #f4fa66;\n",
       "  color: #000000;\n",
       "}\n",
       "#T_bf43c_row1_col0 {\n",
       "  background-color: #f6fa66;\n",
       "  color: #000000;\n",
       "}\n",
       "#T_bf43c_row2_col0 {\n",
       "  background-color: #60b066;\n",
       "  color: #f1f1f1;\n",
       "}\n",
       "#T_bf43c_row2_col1 {\n",
       "  background-color: #dfef66;\n",
       "  color: #000000;\n",
       "}\n",
       "#T_bf43c_row2_col2 {\n",
       "  background-color: #90c866;\n",
       "  color: #000000;\n",
       "}\n",
       "#T_bf43c_row3_col0, #T_bf43c_row3_col1, #T_bf43c_row3_col2 {\n",
       "  background-color: #008066;\n",
       "  color: #f1f1f1;\n",
       "}\n",
       "</style>\n",
       "<table id=\"T_bf43c\">\n",
       "  <thead>\n",
       "    <tr>\n",
       "      <th class=\"index_name level0\" >Survived</th>\n",
       "      <th id=\"T_bf43c_level0_col0\" class=\"col_heading level0 col0\" >0</th>\n",
       "      <th id=\"T_bf43c_level0_col1\" class=\"col_heading level0 col1\" >1</th>\n",
       "      <th id=\"T_bf43c_level0_col2\" class=\"col_heading level0 col2\" >All</th>\n",
       "    </tr>\n",
       "    <tr>\n",
       "      <th class=\"index_name level0\" >Pclass</th>\n",
       "      <th class=\"blank col0\" >&nbsp;</th>\n",
       "      <th class=\"blank col1\" >&nbsp;</th>\n",
       "      <th class=\"blank col2\" >&nbsp;</th>\n",
       "    </tr>\n",
       "  </thead>\n",
       "  <tbody>\n",
       "    <tr>\n",
       "      <th id=\"T_bf43c_level0_row0\" class=\"row_heading level0 row0\" >1</th>\n",
       "      <td id=\"T_bf43c_row0_col0\" class=\"data row0 col0\" >80</td>\n",
       "      <td id=\"T_bf43c_row0_col1\" class=\"data row0 col1\" >136</td>\n",
       "      <td id=\"T_bf43c_row0_col2\" class=\"data row0 col2\" >216</td>\n",
       "    </tr>\n",
       "    <tr>\n",
       "      <th id=\"T_bf43c_level0_row1\" class=\"row_heading level0 row1\" >2</th>\n",
       "      <td id=\"T_bf43c_row1_col0\" class=\"data row1 col0\" >97</td>\n",
       "      <td id=\"T_bf43c_row1_col1\" class=\"data row1 col1\" >87</td>\n",
       "      <td id=\"T_bf43c_row1_col2\" class=\"data row1 col2\" >184</td>\n",
       "    </tr>\n",
       "    <tr>\n",
       "      <th id=\"T_bf43c_level0_row2\" class=\"row_heading level0 row2\" >3</th>\n",
       "      <td id=\"T_bf43c_row2_col0\" class=\"data row2 col0\" >372</td>\n",
       "      <td id=\"T_bf43c_row2_col1\" class=\"data row2 col1\" >119</td>\n",
       "      <td id=\"T_bf43c_row2_col2\" class=\"data row2 col2\" >491</td>\n",
       "    </tr>\n",
       "    <tr>\n",
       "      <th id=\"T_bf43c_level0_row3\" class=\"row_heading level0 row3\" >All</th>\n",
       "      <td id=\"T_bf43c_row3_col0\" class=\"data row3 col0\" >549</td>\n",
       "      <td id=\"T_bf43c_row3_col1\" class=\"data row3 col1\" >342</td>\n",
       "      <td id=\"T_bf43c_row3_col2\" class=\"data row3 col2\" >891</td>\n",
       "    </tr>\n",
       "  </tbody>\n",
       "</table>\n"
      ],
      "text/plain": [
       "<pandas.io.formats.style.Styler at 0x7f745d9ef910>"
      ]
     },
     "execution_count": 19,
     "metadata": {},
     "output_type": "execute_result"
    }
   ],
   "source": [
    "pd.crosstab(data.Pclass,data.Survived,margins=True).style.background_gradient(cmap='summer_r')"
   ]
  },
  {
   "cell_type": "markdown",
   "id": "322f3972",
   "metadata": {},
   "source": [
    "As observed, the passengers of class 3 (lower class) have lower probability of surviving (25%). On the other hand, passengers from class 2 have 48% probability of surviving and finally, passengers from class 3 have 63% probability of surviving. "
   ]
  },
  {
   "cell_type": "code",
   "execution_count": null,
   "id": "838800dc",
   "metadata": {},
   "outputs": [],
   "source": []
  },
  {
   "cell_type": "code",
   "execution_count": 20,
   "id": "43b34ed6",
   "metadata": {},
   "outputs": [
    {
     "data": {
      "image/png": "[encoded data removed]",
      "text/plain": [
       "<Figure size 1296x576 with 2 Axes>"
      ]
     },
     "metadata": {
      "needs_background": "light"
     },
     "output_type": "display_data"
    }
   ],
   "source": [
    "f,ax=plt.subplots(1,2,figsize=(18,8))\n",
    "data['Pclass'].value_counts().plot.bar(color=['#CD7F32','#FFDF00','#D3D3D3'],ax=ax[0])\n",
    "ax[0].set_title('Number Of Passengers By Pclass')\n",
    "ax[0].set_ylabel('Count')\n",
    "sns.countplot('Pclass',hue='Survived',data=data,ax=ax[1])\n",
    "ax[1].set_title('Pclass:Survived vs Not Survived')\n",
    "plt.show()"
   ]
  },
  {
   "cell_type": "code",
   "execution_count": null,
   "id": "89a26a4e",
   "metadata": {},
   "outputs": [],
   "source": []
  },
  {
   "cell_type": "code",
   "execution_count": 21,
   "id": "31d6ca52",
   "metadata": {},
   "outputs": [
    {
     "name": "stdout",
     "output_type": "stream",
     "text": [
      "Oldest Passenger: 80.0 Years\n",
      "Youngest Passenger: 0.42 Years\n",
      "Average Age: 29.69911764705882 Years\n"
     ]
    }
   ],
   "source": [
    "print('Oldest Passenger:',data['Age'].max(),'Years')\n",
    "print('Youngest Passenger:',data['Age'].min(),'Years')\n",
    "print('Average Age:',data['Age'].mean(),'Years')"
   ]
  },
  {
   "cell_type": "code",
   "execution_count": 22,
   "id": "bca51de8",
   "metadata": {},
   "outputs": [],
   "source": [
    "children = data.loc[data['Age'] <= 18]"
   ]
  },
  {
   "cell_type": "code",
   "execution_count": 23,
   "id": "cc3ff819",
   "metadata": {},
   "outputs": [
    {
     "data": {
      "text/html": [
       "<style type=\"text/css\">\n",
       "#T_f31cd_row0_col0, #T_f31cd_row0_col2, #T_f31cd_row1_col0, #T_f31cd_row1_col2, #T_f31cd_row2_col0, #T_f31cd_row3_col0, #T_f31cd_row4_col0, #T_f31cd_row4_col2, #T_f31cd_row9_col0, #T_f31cd_row14_col1, #T_f31cd_row16_col0, #T_f31cd_row16_col2, #T_f31cd_row17_col0, #T_f31cd_row19_col1, #T_f31cd_row19_col2 {\n",
       "  background-color: #ffff66;\n",
       "  color: #000000;\n",
       "}\n",
       "#T_f31cd_row0_col1, #T_f31cd_row1_col1, #T_f31cd_row4_col1, #T_f31cd_row7_col0, #T_f31cd_row10_col0, #T_f31cd_row10_col2, #T_f31cd_row11_col1, #T_f31cd_row11_col2, #T_f31cd_row15_col1, #T_f31cd_row16_col1, #T_f31cd_row19_col0, #T_f31cd_row20_col0 {\n",
       "  background-color: #fcfe66;\n",
       "  color: #000000;\n",
       "}\n",
       "#T_f31cd_row2_col1, #T_f31cd_row3_col1, #T_f31cd_row5_col0, #T_f31cd_row10_col1, #T_f31cd_row11_col0, #T_f31cd_row12_col0, #T_f31cd_row12_col1, #T_f31cd_row13_col1, #T_f31cd_row14_col0, #T_f31cd_row17_col1, #T_f31cd_row20_col2 {\n",
       "  background-color: #f8fc66;\n",
       "  color: #000000;\n",
       "}\n",
       "#T_f31cd_row2_col2, #T_f31cd_row3_col2, #T_f31cd_row14_col2, #T_f31cd_row17_col2 {\n",
       "  background-color: #fefe66;\n",
       "  color: #000000;\n",
       "}\n",
       "#T_f31cd_row5_col1, #T_f31cd_row7_col1 {\n",
       "  background-color: #edf666;\n",
       "  color: #000000;\n",
       "}\n",
       "#T_f31cd_row5_col2, #T_f31cd_row8_col0, #T_f31cd_row15_col0, #T_f31cd_row18_col0 {\n",
       "  background-color: #f4fa66;\n",
       "  color: #000000;\n",
       "}\n",
       "#T_f31cd_row6_col0, #T_f31cd_row8_col1, #T_f31cd_row22_col0 {\n",
       "  background-color: #e6f266;\n",
       "  color: #000000;\n",
       "}\n",
       "#T_f31cd_row6_col1, #T_f31cd_row18_col1 {\n",
       "  background-color: #f5fa66;\n",
       "  color: #000000;\n",
       "}\n",
       "#T_f31cd_row6_col2, #T_f31cd_row8_col2 {\n",
       "  background-color: #eff766;\n",
       "  color: #000000;\n",
       "}\n",
       "#T_f31cd_row7_col2, #T_f31cd_row18_col2 {\n",
       "  background-color: #f6fa66;\n",
       "  color: #000000;\n",
       "}\n",
       "#T_f31cd_row9_col1, #T_f31cd_row20_col1 {\n",
       "  background-color: #f1f866;\n",
       "  color: #000000;\n",
       "}\n",
       "#T_f31cd_row9_col2, #T_f31cd_row12_col2, #T_f31cd_row15_col2 {\n",
       "  background-color: #fafc66;\n",
       "  color: #000000;\n",
       "}\n",
       "#T_f31cd_row13_col0, #T_f31cd_row22_col2 {\n",
       "  background-color: #e9f466;\n",
       "  color: #000000;\n",
       "}\n",
       "#T_f31cd_row13_col2 {\n",
       "  background-color: #f3f966;\n",
       "  color: #000000;\n",
       "}\n",
       "#T_f31cd_row21_col0 {\n",
       "  background-color: #d7eb66;\n",
       "  color: #000000;\n",
       "}\n",
       "#T_f31cd_row21_col1, #T_f31cd_row22_col1 {\n",
       "  background-color: #eaf466;\n",
       "  color: #000000;\n",
       "}\n",
       "#T_f31cd_row21_col2 {\n",
       "  background-color: #e2f066;\n",
       "  color: #000000;\n",
       "}\n",
       "#T_f31cd_row23_col0 {\n",
       "  background-color: #c0e066;\n",
       "  color: #000000;\n",
       "}\n",
       "#T_f31cd_row23_col1 {\n",
       "  background-color: #dfef66;\n",
       "  color: #000000;\n",
       "}\n",
       "#T_f31cd_row23_col2 {\n",
       "  background-color: #d1e866;\n",
       "  color: #000000;\n",
       "}\n",
       "#T_f31cd_row24_col0, #T_f31cd_row24_col1, #T_f31cd_row24_col2 {\n",
       "  background-color: #008066;\n",
       "  color: #f1f1f1;\n",
       "}\n",
       "</style>\n",
       "<table id=\"T_f31cd\">\n",
       "  <thead>\n",
       "    <tr>\n",
       "      <th class=\"index_name level0\" >Survived</th>\n",
       "      <th id=\"T_f31cd_level0_col0\" class=\"col_heading level0 col0\" >0</th>\n",
       "      <th id=\"T_f31cd_level0_col1\" class=\"col_heading level0 col1\" >1</th>\n",
       "      <th id=\"T_f31cd_level0_col2\" class=\"col_heading level0 col2\" >All</th>\n",
       "    </tr>\n",
       "    <tr>\n",
       "      <th class=\"index_name level0\" >Age</th>\n",
       "      <th class=\"blank col0\" >&nbsp;</th>\n",
       "      <th class=\"blank col1\" >&nbsp;</th>\n",
       "      <th class=\"blank col2\" >&nbsp;</th>\n",
       "    </tr>\n",
       "  </thead>\n",
       "  <tbody>\n",
       "    <tr>\n",
       "      <th id=\"T_f31cd_level0_row0\" class=\"row_heading level0 row0\" >0.420000</th>\n",
       "      <td id=\"T_f31cd_row0_col0\" class=\"data row0 col0\" >0</td>\n",
       "      <td id=\"T_f31cd_row0_col1\" class=\"data row0 col1\" >1</td>\n",
       "      <td id=\"T_f31cd_row0_col2\" class=\"data row0 col2\" >1</td>\n",
       "    </tr>\n",
       "    <tr>\n",
       "      <th id=\"T_f31cd_level0_row1\" class=\"row_heading level0 row1\" >0.670000</th>\n",
       "      <td id=\"T_f31cd_row1_col0\" class=\"data row1 col0\" >0</td>\n",
       "      <td id=\"T_f31cd_row1_col1\" class=\"data row1 col1\" >1</td>\n",
       "      <td id=\"T_f31cd_row1_col2\" class=\"data row1 col2\" >1</td>\n",
       "    </tr>\n",
       "    <tr>\n",
       "      <th id=\"T_f31cd_level0_row2\" class=\"row_heading level0 row2\" >0.750000</th>\n",
       "      <td id=\"T_f31cd_row2_col0\" class=\"data row2 col0\" >0</td>\n",
       "      <td id=\"T_f31cd_row2_col1\" class=\"data row2 col1\" >2</td>\n",
       "      <td id=\"T_f31cd_row2_col2\" class=\"data row2 col2\" >2</td>\n",
       "    </tr>\n",
       "    <tr>\n",
       "      <th id=\"T_f31cd_level0_row3\" class=\"row_heading level0 row3\" >0.830000</th>\n",
       "      <td id=\"T_f31cd_row3_col0\" class=\"data row3 col0\" >0</td>\n",
       "      <td id=\"T_f31cd_row3_col1\" class=\"data row3 col1\" >2</td>\n",
       "      <td id=\"T_f31cd_row3_col2\" class=\"data row3 col2\" >2</td>\n",
       "    </tr>\n",
       "    <tr>\n",
       "      <th id=\"T_f31cd_level0_row4\" class=\"row_heading level0 row4\" >0.920000</th>\n",
       "      <td id=\"T_f31cd_row4_col0\" class=\"data row4 col0\" >0</td>\n",
       "      <td id=\"T_f31cd_row4_col1\" class=\"data row4 col1\" >1</td>\n",
       "      <td id=\"T_f31cd_row4_col2\" class=\"data row4 col2\" >1</td>\n",
       "    </tr>\n",
       "    <tr>\n",
       "      <th id=\"T_f31cd_level0_row5\" class=\"row_heading level0 row5\" >1.000000</th>\n",
       "      <td id=\"T_f31cd_row5_col0\" class=\"data row5 col0\" >2</td>\n",
       "      <td id=\"T_f31cd_row5_col1\" class=\"data row5 col1\" >5</td>\n",
       "      <td id=\"T_f31cd_row5_col2\" class=\"data row5 col2\" >7</td>\n",
       "    </tr>\n",
       "    <tr>\n",
       "      <th id=\"T_f31cd_level0_row6\" class=\"row_heading level0 row6\" >2.000000</th>\n",
       "      <td id=\"T_f31cd_row6_col0\" class=\"data row6 col0\" >7</td>\n",
       "      <td id=\"T_f31cd_row6_col1\" class=\"data row6 col1\" >3</td>\n",
       "      <td id=\"T_f31cd_row6_col2\" class=\"data row6 col2\" >10</td>\n",
       "    </tr>\n",
       "    <tr>\n",
       "      <th id=\"T_f31cd_level0_row7\" class=\"row_heading level0 row7\" >3.000000</th>\n",
       "      <td id=\"T_f31cd_row7_col0\" class=\"data row7 col0\" >1</td>\n",
       "      <td id=\"T_f31cd_row7_col1\" class=\"data row7 col1\" >5</td>\n",
       "      <td id=\"T_f31cd_row7_col2\" class=\"data row7 col2\" >6</td>\n",
       "    </tr>\n",
       "    <tr>\n",
       "      <th id=\"T_f31cd_level0_row8\" class=\"row_heading level0 row8\" >4.000000</th>\n",
       "      <td id=\"T_f31cd_row8_col0\" class=\"data row8 col0\" >3</td>\n",
       "      <td id=\"T_f31cd_row8_col1\" class=\"data row8 col1\" >7</td>\n",
       "      <td id=\"T_f31cd_row8_col2\" class=\"data row8 col2\" >10</td>\n",
       "    </tr>\n",
       "    <tr>\n",
       "      <th id=\"T_f31cd_level0_row9\" class=\"row_heading level0 row9\" >5.000000</th>\n",
       "      <td id=\"T_f31cd_row9_col0\" class=\"data row9 col0\" >0</td>\n",
       "      <td id=\"T_f31cd_row9_col1\" class=\"data row9 col1\" >4</td>\n",
       "      <td id=\"T_f31cd_row9_col2\" class=\"data row9 col2\" >4</td>\n",
       "    </tr>\n",
       "    <tr>\n",
       "      <th id=\"T_f31cd_level0_row10\" class=\"row_heading level0 row10\" >6.000000</th>\n",
       "      <td id=\"T_f31cd_row10_col0\" class=\"data row10 col0\" >1</td>\n",
       "      <td id=\"T_f31cd_row10_col1\" class=\"data row10 col1\" >2</td>\n",
       "      <td id=\"T_f31cd_row10_col2\" class=\"data row10 col2\" >3</td>\n",
       "    </tr>\n",
       "    <tr>\n",
       "      <th id=\"T_f31cd_level0_row11\" class=\"row_heading level0 row11\" >7.000000</th>\n",
       "      <td id=\"T_f31cd_row11_col0\" class=\"data row11 col0\" >2</td>\n",
       "      <td id=\"T_f31cd_row11_col1\" class=\"data row11 col1\" >1</td>\n",
       "      <td id=\"T_f31cd_row11_col2\" class=\"data row11 col2\" >3</td>\n",
       "    </tr>\n",
       "    <tr>\n",
       "      <th id=\"T_f31cd_level0_row12\" class=\"row_heading level0 row12\" >8.000000</th>\n",
       "      <td id=\"T_f31cd_row12_col0\" class=\"data row12 col0\" >2</td>\n",
       "      <td id=\"T_f31cd_row12_col1\" class=\"data row12 col1\" >2</td>\n",
       "      <td id=\"T_f31cd_row12_col2\" class=\"data row12 col2\" >4</td>\n",
       "    </tr>\n",
       "    <tr>\n",
       "      <th id=\"T_f31cd_level0_row13\" class=\"row_heading level0 row13\" >9.000000</th>\n",
       "      <td id=\"T_f31cd_row13_col0\" class=\"data row13 col0\" >6</td>\n",
       "      <td id=\"T_f31cd_row13_col1\" class=\"data row13 col1\" >2</td>\n",
       "      <td id=\"T_f31cd_row13_col2\" class=\"data row13 col2\" >8</td>\n",
       "    </tr>\n",
       "    <tr>\n",
       "      <th id=\"T_f31cd_level0_row14\" class=\"row_heading level0 row14\" >10.000000</th>\n",
       "      <td id=\"T_f31cd_row14_col0\" class=\"data row14 col0\" >2</td>\n",
       "      <td id=\"T_f31cd_row14_col1\" class=\"data row14 col1\" >0</td>\n",
       "      <td id=\"T_f31cd_row14_col2\" class=\"data row14 col2\" >2</td>\n",
       "    </tr>\n",
       "    <tr>\n",
       "      <th id=\"T_f31cd_level0_row15\" class=\"row_heading level0 row15\" >11.000000</th>\n",
       "      <td id=\"T_f31cd_row15_col0\" class=\"data row15 col0\" >3</td>\n",
       "      <td id=\"T_f31cd_row15_col1\" class=\"data row15 col1\" >1</td>\n",
       "      <td id=\"T_f31cd_row15_col2\" class=\"data row15 col2\" >4</td>\n",
       "    </tr>\n",
       "    <tr>\n",
       "      <th id=\"T_f31cd_level0_row16\" class=\"row_heading level0 row16\" >12.000000</th>\n",
       "      <td id=\"T_f31cd_row16_col0\" class=\"data row16 col0\" >0</td>\n",
       "      <td id=\"T_f31cd_row16_col1\" class=\"data row16 col1\" >1</td>\n",
       "      <td id=\"T_f31cd_row16_col2\" class=\"data row16 col2\" >1</td>\n",
       "    </tr>\n",
       "    <tr>\n",
       "      <th id=\"T_f31cd_level0_row17\" class=\"row_heading level0 row17\" >13.000000</th>\n",
       "      <td id=\"T_f31cd_row17_col0\" class=\"data row17 col0\" >0</td>\n",
       "      <td id=\"T_f31cd_row17_col1\" class=\"data row17 col1\" >2</td>\n",
       "      <td id=\"T_f31cd_row17_col2\" class=\"data row17 col2\" >2</td>\n",
       "    </tr>\n",
       "    <tr>\n",
       "      <th id=\"T_f31cd_level0_row18\" class=\"row_heading level0 row18\" >14.000000</th>\n",
       "      <td id=\"T_f31cd_row18_col0\" class=\"data row18 col0\" >3</td>\n",
       "      <td id=\"T_f31cd_row18_col1\" class=\"data row18 col1\" >3</td>\n",
       "      <td id=\"T_f31cd_row18_col2\" class=\"data row18 col2\" >6</td>\n",
       "    </tr>\n",
       "    <tr>\n",
       "      <th id=\"T_f31cd_level0_row19\" class=\"row_heading level0 row19\" >14.500000</th>\n",
       "      <td id=\"T_f31cd_row19_col0\" class=\"data row19 col0\" >1</td>\n",
       "      <td id=\"T_f31cd_row19_col1\" class=\"data row19 col1\" >0</td>\n",
       "      <td id=\"T_f31cd_row19_col2\" class=\"data row19 col2\" >1</td>\n",
       "    </tr>\n",
       "    <tr>\n",
       "      <th id=\"T_f31cd_level0_row20\" class=\"row_heading level0 row20\" >15.000000</th>\n",
       "      <td id=\"T_f31cd_row20_col0\" class=\"data row20 col0\" >1</td>\n",
       "      <td id=\"T_f31cd_row20_col1\" class=\"data row20 col1\" >4</td>\n",
       "      <td id=\"T_f31cd_row20_col2\" class=\"data row20 col2\" >5</td>\n",
       "    </tr>\n",
       "    <tr>\n",
       "      <th id=\"T_f31cd_level0_row21\" class=\"row_heading level0 row21\" >16.000000</th>\n",
       "      <td id=\"T_f31cd_row21_col0\" class=\"data row21 col0\" >11</td>\n",
       "      <td id=\"T_f31cd_row21_col1\" class=\"data row21 col1\" >6</td>\n",
       "      <td id=\"T_f31cd_row21_col2\" class=\"data row21 col2\" >17</td>\n",
       "    </tr>\n",
       "    <tr>\n",
       "      <th id=\"T_f31cd_level0_row22\" class=\"row_heading level0 row22\" >17.000000</th>\n",
       "      <td id=\"T_f31cd_row22_col0\" class=\"data row22 col0\" >7</td>\n",
       "      <td id=\"T_f31cd_row22_col1\" class=\"data row22 col1\" >6</td>\n",
       "      <td id=\"T_f31cd_row22_col2\" class=\"data row22 col2\" >13</td>\n",
       "    </tr>\n",
       "    <tr>\n",
       "      <th id=\"T_f31cd_level0_row23\" class=\"row_heading level0 row23\" >18.000000</th>\n",
       "      <td id=\"T_f31cd_row23_col0\" class=\"data row23 col0\" >17</td>\n",
       "      <td id=\"T_f31cd_row23_col1\" class=\"data row23 col1\" >9</td>\n",
       "      <td id=\"T_f31cd_row23_col2\" class=\"data row23 col2\" >26</td>\n",
       "    </tr>\n",
       "    <tr>\n",
       "      <th id=\"T_f31cd_level0_row24\" class=\"row_heading level0 row24\" >All</th>\n",
       "      <td id=\"T_f31cd_row24_col0\" class=\"data row24 col0\" >69</td>\n",
       "      <td id=\"T_f31cd_row24_col1\" class=\"data row24 col1\" >70</td>\n",
       "      <td id=\"T_f31cd_row24_col2\" class=\"data row24 col2\" >139</td>\n",
       "    </tr>\n",
       "  </tbody>\n",
       "</table>\n"
      ],
      "text/plain": [
       "<pandas.io.formats.style.Styler at 0x7f745d8bb5b0>"
      ]
     },
     "execution_count": 23,
     "metadata": {},
     "output_type": "execute_result"
    }
   ],
   "source": [
    "pd.crosstab(children.Age,children.Survived,margins=True).style.background_gradient(cmap='summer_r')"
   ]
  },
  {
   "cell_type": "code",
   "execution_count": 24,
   "id": "04ba19b2",
   "metadata": {},
   "outputs": [
    {
     "data": {
      "text/html": [
       "<style type=\"text/css\">\n",
       "#T_59914_row0_col0, #T_59914_row0_col1, #T_59914_row0_col3, #T_59914_row1_col0, #T_59914_row1_col2, #T_59914_row1_col3, #T_59914_row2_col0, #T_59914_row2_col1, #T_59914_row3_col0, #T_59914_row3_col2, #T_59914_row4_col1, #T_59914_row4_col2, #T_59914_row4_col3, #T_59914_row5_col0, #T_59914_row7_col0, #T_59914_row9_col0, #T_59914_row10_col0, #T_59914_row11_col0, #T_59914_row12_col0, #T_59914_row13_col0, #T_59914_row13_col1, #T_59914_row14_col0, #T_59914_row14_col1, #T_59914_row15_col1, #T_59914_row16_col0, #T_59914_row16_col1, #T_59914_row16_col3, #T_59914_row17_col0, #T_59914_row19_col0, #T_59914_row19_col1, #T_59914_row19_col3, #T_59914_row20_col1 {\n",
       "  background-color: #ffff66;\n",
       "  color: #000000;\n",
       "}\n",
       "#T_59914_row0_col2, #T_59914_row16_col2, #T_59914_row17_col2, #T_59914_row19_col2 {\n",
       "  background-color: #fdfe66;\n",
       "  color: #000000;\n",
       "}\n",
       "#T_59914_row1_col1, #T_59914_row7_col2, #T_59914_row9_col1, #T_59914_row9_col2, #T_59914_row10_col1, #T_59914_row11_col1, #T_59914_row15_col2, #T_59914_row17_col1, #T_59914_row18_col1 {\n",
       "  background-color: #f7fb66;\n",
       "  color: #000000;\n",
       "}\n",
       "#T_59914_row2_col2, #T_59914_row9_col3, #T_59914_row10_col2, #T_59914_row11_col2, #T_59914_row12_col2, #T_59914_row12_col3, #T_59914_row14_col2, #T_59914_row15_col3 {\n",
       "  background-color: #fafc66;\n",
       "  color: #000000;\n",
       "}\n",
       "#T_59914_row2_col3, #T_59914_row3_col3, #T_59914_row14_col3, #T_59914_row17_col3 {\n",
       "  background-color: #fefe66;\n",
       "  color: #000000;\n",
       "}\n",
       "#T_59914_row3_col1, #T_59914_row5_col1, #T_59914_row6_col1, #T_59914_row8_col1, #T_59914_row12_col1, #T_59914_row21_col1, #T_59914_row22_col1 {\n",
       "  background-color: #eef666;\n",
       "  color: #000000;\n",
       "}\n",
       "#T_59914_row4_col0, #T_59914_row6_col0, #T_59914_row6_col3, #T_59914_row8_col0, #T_59914_row8_col3, #T_59914_row15_col0, #T_59914_row18_col0, #T_59914_row20_col0 {\n",
       "  background-color: #eff766;\n",
       "  color: #000000;\n",
       "}\n",
       "#T_59914_row5_col2 {\n",
       "  background-color: #f2f866;\n",
       "  color: #000000;\n",
       "}\n",
       "#T_59914_row5_col3 {\n",
       "  background-color: #f4fa66;\n",
       "  color: #000000;\n",
       "}\n",
       "#T_59914_row6_col2, #T_59914_row8_col2 {\n",
       "  background-color: #ecf666;\n",
       "  color: #000000;\n",
       "}\n",
       "#T_59914_row7_col1 {\n",
       "  background-color: #e5f266;\n",
       "  color: #000000;\n",
       "}\n",
       "#T_59914_row7_col3, #T_59914_row18_col3 {\n",
       "  background-color: #f6fa66;\n",
       "  color: #000000;\n",
       "}\n",
       "#T_59914_row10_col3, #T_59914_row11_col3 {\n",
       "  background-color: #fcfe66;\n",
       "  color: #000000;\n",
       "}\n",
       "#T_59914_row13_col2, #T_59914_row22_col2 {\n",
       "  background-color: #eaf466;\n",
       "  color: #000000;\n",
       "}\n",
       "#T_59914_row13_col3 {\n",
       "  background-color: #f3f966;\n",
       "  color: #000000;\n",
       "}\n",
       "#T_59914_row18_col2, #T_59914_row20_col2 {\n",
       "  background-color: #f5fa66;\n",
       "  color: #000000;\n",
       "}\n",
       "#T_59914_row20_col3 {\n",
       "  background-color: #f8fc66;\n",
       "  color: #000000;\n",
       "}\n",
       "#T_59914_row21_col0, #T_59914_row22_col0 {\n",
       "  background-color: #cfe766;\n",
       "  color: #000000;\n",
       "}\n",
       "#T_59914_row21_col2 {\n",
       "  background-color: #dfef66;\n",
       "  color: #000000;\n",
       "}\n",
       "#T_59914_row21_col3 {\n",
       "  background-color: #e2f066;\n",
       "  color: #000000;\n",
       "}\n",
       "#T_59914_row22_col3 {\n",
       "  background-color: #e9f466;\n",
       "  color: #000000;\n",
       "}\n",
       "#T_59914_row23_col0 {\n",
       "  background-color: #bfdf66;\n",
       "  color: #000000;\n",
       "}\n",
       "#T_59914_row23_col1 {\n",
       "  background-color: #cbe566;\n",
       "  color: #000000;\n",
       "}\n",
       "#T_59914_row23_col2 {\n",
       "  background-color: #d4ea66;\n",
       "  color: #000000;\n",
       "}\n",
       "#T_59914_row23_col3 {\n",
       "  background-color: #d1e866;\n",
       "  color: #000000;\n",
       "}\n",
       "#T_59914_row24_col0, #T_59914_row24_col1, #T_59914_row24_col2, #T_59914_row24_col3 {\n",
       "  background-color: #008066;\n",
       "  color: #f1f1f1;\n",
       "}\n",
       "</style>\n",
       "<table id=\"T_59914\">\n",
       "  <thead>\n",
       "    <tr>\n",
       "      <th class=\"index_name level0\" >Pclass</th>\n",
       "      <th id=\"T_59914_level0_col0\" class=\"col_heading level0 col0\" >1</th>\n",
       "      <th id=\"T_59914_level0_col1\" class=\"col_heading level0 col1\" >2</th>\n",
       "      <th id=\"T_59914_level0_col2\" class=\"col_heading level0 col2\" >3</th>\n",
       "      <th id=\"T_59914_level0_col3\" class=\"col_heading level0 col3\" >All</th>\n",
       "    </tr>\n",
       "    <tr>\n",
       "      <th class=\"index_name level0\" >Age</th>\n",
       "      <th class=\"blank col0\" >&nbsp;</th>\n",
       "      <th class=\"blank col1\" >&nbsp;</th>\n",
       "      <th class=\"blank col2\" >&nbsp;</th>\n",
       "      <th class=\"blank col3\" >&nbsp;</th>\n",
       "    </tr>\n",
       "  </thead>\n",
       "  <tbody>\n",
       "    <tr>\n",
       "      <th id=\"T_59914_level0_row0\" class=\"row_heading level0 row0\" >0.420000</th>\n",
       "      <td id=\"T_59914_row0_col0\" class=\"data row0 col0\" >0</td>\n",
       "      <td id=\"T_59914_row0_col1\" class=\"data row0 col1\" >0</td>\n",
       "      <td id=\"T_59914_row0_col2\" class=\"data row0 col2\" >1</td>\n",
       "      <td id=\"T_59914_row0_col3\" class=\"data row0 col3\" >1</td>\n",
       "    </tr>\n",
       "    <tr>\n",
       "      <th id=\"T_59914_level0_row1\" class=\"row_heading level0 row1\" >0.670000</th>\n",
       "      <td id=\"T_59914_row1_col0\" class=\"data row1 col0\" >0</td>\n",
       "      <td id=\"T_59914_row1_col1\" class=\"data row1 col1\" >1</td>\n",
       "      <td id=\"T_59914_row1_col2\" class=\"data row1 col2\" >0</td>\n",
       "      <td id=\"T_59914_row1_col3\" class=\"data row1 col3\" >1</td>\n",
       "    </tr>\n",
       "    <tr>\n",
       "      <th id=\"T_59914_level0_row2\" class=\"row_heading level0 row2\" >0.750000</th>\n",
       "      <td id=\"T_59914_row2_col0\" class=\"data row2 col0\" >0</td>\n",
       "      <td id=\"T_59914_row2_col1\" class=\"data row2 col1\" >0</td>\n",
       "      <td id=\"T_59914_row2_col2\" class=\"data row2 col2\" >2</td>\n",
       "      <td id=\"T_59914_row2_col3\" class=\"data row2 col3\" >2</td>\n",
       "    </tr>\n",
       "    <tr>\n",
       "      <th id=\"T_59914_level0_row3\" class=\"row_heading level0 row3\" >0.830000</th>\n",
       "      <td id=\"T_59914_row3_col0\" class=\"data row3 col0\" >0</td>\n",
       "      <td id=\"T_59914_row3_col1\" class=\"data row3 col1\" >2</td>\n",
       "      <td id=\"T_59914_row3_col2\" class=\"data row3 col2\" >0</td>\n",
       "      <td id=\"T_59914_row3_col3\" class=\"data row3 col3\" >2</td>\n",
       "    </tr>\n",
       "    <tr>\n",
       "      <th id=\"T_59914_level0_row4\" class=\"row_heading level0 row4\" >0.920000</th>\n",
       "      <td id=\"T_59914_row4_col0\" class=\"data row4 col0\" >1</td>\n",
       "      <td id=\"T_59914_row4_col1\" class=\"data row4 col1\" >0</td>\n",
       "      <td id=\"T_59914_row4_col2\" class=\"data row4 col2\" >0</td>\n",
       "      <td id=\"T_59914_row4_col3\" class=\"data row4 col3\" >1</td>\n",
       "    </tr>\n",
       "    <tr>\n",
       "      <th id=\"T_59914_level0_row5\" class=\"row_heading level0 row5\" >1.000000</th>\n",
       "      <td id=\"T_59914_row5_col0\" class=\"data row5 col0\" >0</td>\n",
       "      <td id=\"T_59914_row5_col1\" class=\"data row5 col1\" >2</td>\n",
       "      <td id=\"T_59914_row5_col2\" class=\"data row5 col2\" >5</td>\n",
       "      <td id=\"T_59914_row5_col3\" class=\"data row5 col3\" >7</td>\n",
       "    </tr>\n",
       "    <tr>\n",
       "      <th id=\"T_59914_level0_row6\" class=\"row_heading level0 row6\" >2.000000</th>\n",
       "      <td id=\"T_59914_row6_col0\" class=\"data row6 col0\" >1</td>\n",
       "      <td id=\"T_59914_row6_col1\" class=\"data row6 col1\" >2</td>\n",
       "      <td id=\"T_59914_row6_col2\" class=\"data row6 col2\" >7</td>\n",
       "      <td id=\"T_59914_row6_col3\" class=\"data row6 col3\" >10</td>\n",
       "    </tr>\n",
       "    <tr>\n",
       "      <th id=\"T_59914_level0_row7\" class=\"row_heading level0 row7\" >3.000000</th>\n",
       "      <td id=\"T_59914_row7_col0\" class=\"data row7 col0\" >0</td>\n",
       "      <td id=\"T_59914_row7_col1\" class=\"data row7 col1\" >3</td>\n",
       "      <td id=\"T_59914_row7_col2\" class=\"data row7 col2\" >3</td>\n",
       "      <td id=\"T_59914_row7_col3\" class=\"data row7 col3\" >6</td>\n",
       "    </tr>\n",
       "    <tr>\n",
       "      <th id=\"T_59914_level0_row8\" class=\"row_heading level0 row8\" >4.000000</th>\n",
       "      <td id=\"T_59914_row8_col0\" class=\"data row8 col0\" >1</td>\n",
       "      <td id=\"T_59914_row8_col1\" class=\"data row8 col1\" >2</td>\n",
       "      <td id=\"T_59914_row8_col2\" class=\"data row8 col2\" >7</td>\n",
       "      <td id=\"T_59914_row8_col3\" class=\"data row8 col3\" >10</td>\n",
       "    </tr>\n",
       "    <tr>\n",
       "      <th id=\"T_59914_level0_row9\" class=\"row_heading level0 row9\" >5.000000</th>\n",
       "      <td id=\"T_59914_row9_col0\" class=\"data row9 col0\" >0</td>\n",
       "      <td id=\"T_59914_row9_col1\" class=\"data row9 col1\" >1</td>\n",
       "      <td id=\"T_59914_row9_col2\" class=\"data row9 col2\" >3</td>\n",
       "      <td id=\"T_59914_row9_col3\" class=\"data row9 col3\" >4</td>\n",
       "    </tr>\n",
       "    <tr>\n",
       "      <th id=\"T_59914_level0_row10\" class=\"row_heading level0 row10\" >6.000000</th>\n",
       "      <td id=\"T_59914_row10_col0\" class=\"data row10 col0\" >0</td>\n",
       "      <td id=\"T_59914_row10_col1\" class=\"data row10 col1\" >1</td>\n",
       "      <td id=\"T_59914_row10_col2\" class=\"data row10 col2\" >2</td>\n",
       "      <td id=\"T_59914_row10_col3\" class=\"data row10 col3\" >3</td>\n",
       "    </tr>\n",
       "    <tr>\n",
       "      <th id=\"T_59914_level0_row11\" class=\"row_heading level0 row11\" >7.000000</th>\n",
       "      <td id=\"T_59914_row11_col0\" class=\"data row11 col0\" >0</td>\n",
       "      <td id=\"T_59914_row11_col1\" class=\"data row11 col1\" >1</td>\n",
       "      <td id=\"T_59914_row11_col2\" class=\"data row11 col2\" >2</td>\n",
       "      <td id=\"T_59914_row11_col3\" class=\"data row11 col3\" >3</td>\n",
       "    </tr>\n",
       "    <tr>\n",
       "      <th id=\"T_59914_level0_row12\" class=\"row_heading level0 row12\" >8.000000</th>\n",
       "      <td id=\"T_59914_row12_col0\" class=\"data row12 col0\" >0</td>\n",
       "      <td id=\"T_59914_row12_col1\" class=\"data row12 col1\" >2</td>\n",
       "      <td id=\"T_59914_row12_col2\" class=\"data row12 col2\" >2</td>\n",
       "      <td id=\"T_59914_row12_col3\" class=\"data row12 col3\" >4</td>\n",
       "    </tr>\n",
       "    <tr>\n",
       "      <th id=\"T_59914_level0_row13\" class=\"row_heading level0 row13\" >9.000000</th>\n",
       "      <td id=\"T_59914_row13_col0\" class=\"data row13 col0\" >0</td>\n",
       "      <td id=\"T_59914_row13_col1\" class=\"data row13 col1\" >0</td>\n",
       "      <td id=\"T_59914_row13_col2\" class=\"data row13 col2\" >8</td>\n",
       "      <td id=\"T_59914_row13_col3\" class=\"data row13 col3\" >8</td>\n",
       "    </tr>\n",
       "    <tr>\n",
       "      <th id=\"T_59914_level0_row14\" class=\"row_heading level0 row14\" >10.000000</th>\n",
       "      <td id=\"T_59914_row14_col0\" class=\"data row14 col0\" >0</td>\n",
       "      <td id=\"T_59914_row14_col1\" class=\"data row14 col1\" >0</td>\n",
       "      <td id=\"T_59914_row14_col2\" class=\"data row14 col2\" >2</td>\n",
       "      <td id=\"T_59914_row14_col3\" class=\"data row14 col3\" >2</td>\n",
       "    </tr>\n",
       "    <tr>\n",
       "      <th id=\"T_59914_level0_row15\" class=\"row_heading level0 row15\" >11.000000</th>\n",
       "      <td id=\"T_59914_row15_col0\" class=\"data row15 col0\" >1</td>\n",
       "      <td id=\"T_59914_row15_col1\" class=\"data row15 col1\" >0</td>\n",
       "      <td id=\"T_59914_row15_col2\" class=\"data row15 col2\" >3</td>\n",
       "      <td id=\"T_59914_row15_col3\" class=\"data row15 col3\" >4</td>\n",
       "    </tr>\n",
       "    <tr>\n",
       "      <th id=\"T_59914_level0_row16\" class=\"row_heading level0 row16\" >12.000000</th>\n",
       "      <td id=\"T_59914_row16_col0\" class=\"data row16 col0\" >0</td>\n",
       "      <td id=\"T_59914_row16_col1\" class=\"data row16 col1\" >0</td>\n",
       "      <td id=\"T_59914_row16_col2\" class=\"data row16 col2\" >1</td>\n",
       "      <td id=\"T_59914_row16_col3\" class=\"data row16 col3\" >1</td>\n",
       "    </tr>\n",
       "    <tr>\n",
       "      <th id=\"T_59914_level0_row17\" class=\"row_heading level0 row17\" >13.000000</th>\n",
       "      <td id=\"T_59914_row17_col0\" class=\"data row17 col0\" >0</td>\n",
       "      <td id=\"T_59914_row17_col1\" class=\"data row17 col1\" >1</td>\n",
       "      <td id=\"T_59914_row17_col2\" class=\"data row17 col2\" >1</td>\n",
       "      <td id=\"T_59914_row17_col3\" class=\"data row17 col3\" >2</td>\n",
       "    </tr>\n",
       "    <tr>\n",
       "      <th id=\"T_59914_level0_row18\" class=\"row_heading level0 row18\" >14.000000</th>\n",
       "      <td id=\"T_59914_row18_col0\" class=\"data row18 col0\" >1</td>\n",
       "      <td id=\"T_59914_row18_col1\" class=\"data row18 col1\" >1</td>\n",
       "      <td id=\"T_59914_row18_col2\" class=\"data row18 col2\" >4</td>\n",
       "      <td id=\"T_59914_row18_col3\" class=\"data row18 col3\" >6</td>\n",
       "    </tr>\n",
       "    <tr>\n",
       "      <th id=\"T_59914_level0_row19\" class=\"row_heading level0 row19\" >14.500000</th>\n",
       "      <td id=\"T_59914_row19_col0\" class=\"data row19 col0\" >0</td>\n",
       "      <td id=\"T_59914_row19_col1\" class=\"data row19 col1\" >0</td>\n",
       "      <td id=\"T_59914_row19_col2\" class=\"data row19 col2\" >1</td>\n",
       "      <td id=\"T_59914_row19_col3\" class=\"data row19 col3\" >1</td>\n",
       "    </tr>\n",
       "    <tr>\n",
       "      <th id=\"T_59914_level0_row20\" class=\"row_heading level0 row20\" >15.000000</th>\n",
       "      <td id=\"T_59914_row20_col0\" class=\"data row20 col0\" >1</td>\n",
       "      <td id=\"T_59914_row20_col1\" class=\"data row20 col1\" >0</td>\n",
       "      <td id=\"T_59914_row20_col2\" class=\"data row20 col2\" >4</td>\n",
       "      <td id=\"T_59914_row20_col3\" class=\"data row20 col3\" >5</td>\n",
       "    </tr>\n",
       "    <tr>\n",
       "      <th id=\"T_59914_level0_row21\" class=\"row_heading level0 row21\" >16.000000</th>\n",
       "      <td id=\"T_59914_row21_col0\" class=\"data row21 col0\" >3</td>\n",
       "      <td id=\"T_59914_row21_col1\" class=\"data row21 col1\" >2</td>\n",
       "      <td id=\"T_59914_row21_col2\" class=\"data row21 col2\" >12</td>\n",
       "      <td id=\"T_59914_row21_col3\" class=\"data row21 col3\" >17</td>\n",
       "    </tr>\n",
       "    <tr>\n",
       "      <th id=\"T_59914_level0_row22\" class=\"row_heading level0 row22\" >17.000000</th>\n",
       "      <td id=\"T_59914_row22_col0\" class=\"data row22 col0\" >3</td>\n",
       "      <td id=\"T_59914_row22_col1\" class=\"data row22 col1\" >2</td>\n",
       "      <td id=\"T_59914_row22_col2\" class=\"data row22 col2\" >8</td>\n",
       "      <td id=\"T_59914_row22_col3\" class=\"data row22 col3\" >13</td>\n",
       "    </tr>\n",
       "    <tr>\n",
       "      <th id=\"T_59914_level0_row23\" class=\"row_heading level0 row23\" >18.000000</th>\n",
       "      <td id=\"T_59914_row23_col0\" class=\"data row23 col0\" >4</td>\n",
       "      <td id=\"T_59914_row23_col1\" class=\"data row23 col1\" >6</td>\n",
       "      <td id=\"T_59914_row23_col2\" class=\"data row23 col2\" >16</td>\n",
       "      <td id=\"T_59914_row23_col3\" class=\"data row23 col3\" >26</td>\n",
       "    </tr>\n",
       "    <tr>\n",
       "      <th id=\"T_59914_level0_row24\" class=\"row_heading level0 row24\" >All</th>\n",
       "      <td id=\"T_59914_row24_col0\" class=\"data row24 col0\" >16</td>\n",
       "      <td id=\"T_59914_row24_col1\" class=\"data row24 col1\" >29</td>\n",
       "      <td id=\"T_59914_row24_col2\" class=\"data row24 col2\" >94</td>\n",
       "      <td id=\"T_59914_row24_col3\" class=\"data row24 col3\" >139</td>\n",
       "    </tr>\n",
       "  </tbody>\n",
       "</table>\n"
      ],
      "text/plain": [
       "<pandas.io.formats.style.Styler at 0x7f745d5b5430>"
      ]
     },
     "execution_count": 24,
     "metadata": {},
     "output_type": "execute_result"
    }
   ],
   "source": [
    "pd.crosstab(children.Age,children.Pclass,margins=True).style.background_gradient(cmap='summer_r')"
   ]
  },
  {
   "cell_type": "markdown",
   "id": "8cad2ceb",
   "metadata": {},
   "source": [
    "The number of children increases by the class, while the survival rate of children is 50%. However, we have 177 null values."
   ]
  },
  {
   "cell_type": "code",
   "execution_count": 25,
   "id": "ab2f6877",
   "metadata": {},
   "outputs": [
    {
     "data": {
      "text/plain": [
       "177"
      ]
     },
     "execution_count": 25,
     "metadata": {},
     "output_type": "execute_result"
    }
   ],
   "source": [
    "data['Age'].isnull().sum()"
   ]
  },
  {
   "cell_type": "markdown",
   "id": "27e7e97c",
   "metadata": {},
   "source": [
    "# Observations\n",
    "\n",
    "1. The gender attribute affects the survival.\n",
    "2. The class attribute affects the survival rate.\n",
    "3. The survival rate of children is high."
   ]
  },
  {
   "cell_type": "code",
   "execution_count": null,
   "id": "fce5e74d",
   "metadata": {},
   "outputs": [],
   "source": []
  },
  {
   "cell_type": "markdown",
   "id": "775ee2b1",
   "metadata": {},
   "source": [
    "# Handling Null Values in the Titanic Dataset\n",
    "\n",
    "In many cases, datasets contain multiple null values in one or more features. A simple approach to handle null values is to eliminate those samples. A second approach is to eliminate the feature (column) that contains multiple null values. These approaches can lead to the generation of a capable machine learning model. However, we need to handle null values at least in the inference stage.\n",
    "\n",
    "In the given dataset, we observed that the minimum age is 0.4 and the maximum is 80. In addition, most children have survived. Hence, it is not that easy to simply delete or ignore the null values. A common approach is to replace the null values using the mean, median, mode or a constant value. However, the age range varies significantly and is not straightforward to just replace the null values with a constant.\n",
    "\n",
    "Fortunately, we are given the name of the passenger. Although this feature cannot be included in the training stage of a machine learning model, it helps us to approximate a sample's empty 'age' attribute. The name attribute contains salutations such as Mr, Mrs or Miss. Hence, in empty values that we observe these salutations, it is highly likely that the individual is an adult."
   ]
  },
  {
   "cell_type": "code",
   "execution_count": 26,
   "id": "a90ac5dd",
   "metadata": {},
   "outputs": [],
   "source": [
    "data['Initial']=0\n",
    "for i in data:\n",
    "    data['Initial']=data.Name.str.extract('([A-Za-z]+)\\.') #extract the Salutations"
   ]
  },
  {
   "cell_type": "code",
   "execution_count": 27,
   "id": "fded93ce",
   "metadata": {},
   "outputs": [
    {
     "data": {
      "text/html": [
       "<style type=\"text/css\">\n",
       "#T_2d4af_row0_col0, #T_2d4af_row0_col1, #T_2d4af_row0_col3, #T_2d4af_row0_col4, #T_2d4af_row0_col5, #T_2d4af_row0_col7, #T_2d4af_row0_col8, #T_2d4af_row0_col12, #T_2d4af_row0_col15, #T_2d4af_row0_col16, #T_2d4af_row1_col2, #T_2d4af_row1_col6, #T_2d4af_row1_col9, #T_2d4af_row1_col10, #T_2d4af_row1_col11, #T_2d4af_row1_col13, #T_2d4af_row1_col14 {\n",
       "  background-color: #ffff66;\n",
       "  color: #000000;\n",
       "}\n",
       "#T_2d4af_row0_col2, #T_2d4af_row0_col6, #T_2d4af_row0_col9, #T_2d4af_row0_col10, #T_2d4af_row0_col11, #T_2d4af_row0_col13, #T_2d4af_row0_col14, #T_2d4af_row1_col0, #T_2d4af_row1_col1, #T_2d4af_row1_col3, #T_2d4af_row1_col4, #T_2d4af_row1_col5, #T_2d4af_row1_col7, #T_2d4af_row1_col8, #T_2d4af_row1_col12, #T_2d4af_row1_col15, #T_2d4af_row1_col16 {\n",
       "  background-color: #008066;\n",
       "  color: #f1f1f1;\n",
       "}\n",
       "</style>\n",
       "<table id=\"T_2d4af\">\n",
       "  <thead>\n",
       "    <tr>\n",
       "      <th class=\"index_name level0\" >Initial</th>\n",
       "      <th id=\"T_2d4af_level0_col0\" class=\"col_heading level0 col0\" >Capt</th>\n",
       "      <th id=\"T_2d4af_level0_col1\" class=\"col_heading level0 col1\" >Col</th>\n",
       "      <th id=\"T_2d4af_level0_col2\" class=\"col_heading level0 col2\" >Countess</th>\n",
       "      <th id=\"T_2d4af_level0_col3\" class=\"col_heading level0 col3\" >Don</th>\n",
       "      <th id=\"T_2d4af_level0_col4\" class=\"col_heading level0 col4\" >Dr</th>\n",
       "      <th id=\"T_2d4af_level0_col5\" class=\"col_heading level0 col5\" >Jonkheer</th>\n",
       "      <th id=\"T_2d4af_level0_col6\" class=\"col_heading level0 col6\" >Lady</th>\n",
       "      <th id=\"T_2d4af_level0_col7\" class=\"col_heading level0 col7\" >Major</th>\n",
       "      <th id=\"T_2d4af_level0_col8\" class=\"col_heading level0 col8\" >Master</th>\n",
       "      <th id=\"T_2d4af_level0_col9\" class=\"col_heading level0 col9\" >Miss</th>\n",
       "      <th id=\"T_2d4af_level0_col10\" class=\"col_heading level0 col10\" >Mlle</th>\n",
       "      <th id=\"T_2d4af_level0_col11\" class=\"col_heading level0 col11\" >Mme</th>\n",
       "      <th id=\"T_2d4af_level0_col12\" class=\"col_heading level0 col12\" >Mr</th>\n",
       "      <th id=\"T_2d4af_level0_col13\" class=\"col_heading level0 col13\" >Mrs</th>\n",
       "      <th id=\"T_2d4af_level0_col14\" class=\"col_heading level0 col14\" >Ms</th>\n",
       "      <th id=\"T_2d4af_level0_col15\" class=\"col_heading level0 col15\" >Rev</th>\n",
       "      <th id=\"T_2d4af_level0_col16\" class=\"col_heading level0 col16\" >Sir</th>\n",
       "    </tr>\n",
       "    <tr>\n",
       "      <th class=\"index_name level0\" >Sex</th>\n",
       "      <th class=\"blank col0\" >&nbsp;</th>\n",
       "      <th class=\"blank col1\" >&nbsp;</th>\n",
       "      <th class=\"blank col2\" >&nbsp;</th>\n",
       "      <th class=\"blank col3\" >&nbsp;</th>\n",
       "      <th class=\"blank col4\" >&nbsp;</th>\n",
       "      <th class=\"blank col5\" >&nbsp;</th>\n",
       "      <th class=\"blank col6\" >&nbsp;</th>\n",
       "      <th class=\"blank col7\" >&nbsp;</th>\n",
       "      <th class=\"blank col8\" >&nbsp;</th>\n",
       "      <th class=\"blank col9\" >&nbsp;</th>\n",
       "      <th class=\"blank col10\" >&nbsp;</th>\n",
       "      <th class=\"blank col11\" >&nbsp;</th>\n",
       "      <th class=\"blank col12\" >&nbsp;</th>\n",
       "      <th class=\"blank col13\" >&nbsp;</th>\n",
       "      <th class=\"blank col14\" >&nbsp;</th>\n",
       "      <th class=\"blank col15\" >&nbsp;</th>\n",
       "      <th class=\"blank col16\" >&nbsp;</th>\n",
       "    </tr>\n",
       "  </thead>\n",
       "  <tbody>\n",
       "    <tr>\n",
       "      <th id=\"T_2d4af_level0_row0\" class=\"row_heading level0 row0\" >female</th>\n",
       "      <td id=\"T_2d4af_row0_col0\" class=\"data row0 col0\" >0</td>\n",
       "      <td id=\"T_2d4af_row0_col1\" class=\"data row0 col1\" >0</td>\n",
       "      <td id=\"T_2d4af_row0_col2\" class=\"data row0 col2\" >1</td>\n",
       "      <td id=\"T_2d4af_row0_col3\" class=\"data row0 col3\" >0</td>\n",
       "      <td id=\"T_2d4af_row0_col4\" class=\"data row0 col4\" >1</td>\n",
       "      <td id=\"T_2d4af_row0_col5\" class=\"data row0 col5\" >0</td>\n",
       "      <td id=\"T_2d4af_row0_col6\" class=\"data row0 col6\" >1</td>\n",
       "      <td id=\"T_2d4af_row0_col7\" class=\"data row0 col7\" >0</td>\n",
       "      <td id=\"T_2d4af_row0_col8\" class=\"data row0 col8\" >0</td>\n",
       "      <td id=\"T_2d4af_row0_col9\" class=\"data row0 col9\" >182</td>\n",
       "      <td id=\"T_2d4af_row0_col10\" class=\"data row0 col10\" >2</td>\n",
       "      <td id=\"T_2d4af_row0_col11\" class=\"data row0 col11\" >1</td>\n",
       "      <td id=\"T_2d4af_row0_col12\" class=\"data row0 col12\" >0</td>\n",
       "      <td id=\"T_2d4af_row0_col13\" class=\"data row0 col13\" >125</td>\n",
       "      <td id=\"T_2d4af_row0_col14\" class=\"data row0 col14\" >1</td>\n",
       "      <td id=\"T_2d4af_row0_col15\" class=\"data row0 col15\" >0</td>\n",
       "      <td id=\"T_2d4af_row0_col16\" class=\"data row0 col16\" >0</td>\n",
       "    </tr>\n",
       "    <tr>\n",
       "      <th id=\"T_2d4af_level0_row1\" class=\"row_heading level0 row1\" >male</th>\n",
       "      <td id=\"T_2d4af_row1_col0\" class=\"data row1 col0\" >1</td>\n",
       "      <td id=\"T_2d4af_row1_col1\" class=\"data row1 col1\" >2</td>\n",
       "      <td id=\"T_2d4af_row1_col2\" class=\"data row1 col2\" >0</td>\n",
       "      <td id=\"T_2d4af_row1_col3\" class=\"data row1 col3\" >1</td>\n",
       "      <td id=\"T_2d4af_row1_col4\" class=\"data row1 col4\" >6</td>\n",
       "      <td id=\"T_2d4af_row1_col5\" class=\"data row1 col5\" >1</td>\n",
       "      <td id=\"T_2d4af_row1_col6\" class=\"data row1 col6\" >0</td>\n",
       "      <td id=\"T_2d4af_row1_col7\" class=\"data row1 col7\" >2</td>\n",
       "      <td id=\"T_2d4af_row1_col8\" class=\"data row1 col8\" >40</td>\n",
       "      <td id=\"T_2d4af_row1_col9\" class=\"data row1 col9\" >0</td>\n",
       "      <td id=\"T_2d4af_row1_col10\" class=\"data row1 col10\" >0</td>\n",
       "      <td id=\"T_2d4af_row1_col11\" class=\"data row1 col11\" >0</td>\n",
       "      <td id=\"T_2d4af_row1_col12\" class=\"data row1 col12\" >517</td>\n",
       "      <td id=\"T_2d4af_row1_col13\" class=\"data row1 col13\" >0</td>\n",
       "      <td id=\"T_2d4af_row1_col14\" class=\"data row1 col14\" >0</td>\n",
       "      <td id=\"T_2d4af_row1_col15\" class=\"data row1 col15\" >6</td>\n",
       "      <td id=\"T_2d4af_row1_col16\" class=\"data row1 col16\" >1</td>\n",
       "    </tr>\n",
       "  </tbody>\n",
       "</table>\n"
      ],
      "text/plain": [
       "<pandas.io.formats.style.Styler at 0x7f745d67f9d0>"
      ]
     },
     "execution_count": 27,
     "metadata": {},
     "output_type": "execute_result"
    }
   ],
   "source": [
    "pd.crosstab(data.Initial,data.Sex).T.style.background_gradient(cmap='summer_r') #Checking the Initials with the Sex"
   ]
  },
  {
   "cell_type": "markdown",
   "id": "01d13c7d",
   "metadata": {},
   "source": [
    "It is observed that each salutation corresponds to a single gender. In addition, we observe some grammatical errors such as Mlle and Mmme. "
   ]
  },
  {
   "cell_type": "code",
   "execution_count": null,
   "id": "778ffb88",
   "metadata": {},
   "outputs": [],
   "source": []
  },
  {
   "cell_type": "code",
   "execution_count": 28,
   "id": "67206b60",
   "metadata": {},
   "outputs": [],
   "source": [
    "data['Initial'].replace(['Mlle','Mme','Ms','Dr','Major','Lady',\n",
    "                         'Countess','Jonkheer','Col','Rev','Capt',\n",
    "                         'Sir','Don'],\n",
    "                        ['Miss','Miss','Miss','Mr','Mr','Mrs',\n",
    "                         'Mrs','Other','Other','Other','Mr',\n",
    "                         'Mr','Mr'],inplace=True)"
   ]
  },
  {
   "cell_type": "code",
   "execution_count": 29,
   "id": "6a167424",
   "metadata": {},
   "outputs": [
    {
     "data": {
      "text/plain": [
       "Initial\n",
       "Master     4.574167\n",
       "Miss      21.860000\n",
       "Mr        32.739609\n",
       "Mrs       35.981818\n",
       "Other     45.888889\n",
       "Name: Age, dtype: float64"
      ]
     },
     "execution_count": 29,
     "metadata": {},
     "output_type": "execute_result"
    }
   ],
   "source": [
    "data.groupby('Initial')['Age'].mean()"
   ]
  },
  {
   "cell_type": "code",
   "execution_count": 30,
   "id": "d5af9b8d",
   "metadata": {},
   "outputs": [
    {
     "data": {
      "text/html": [
       "<style type=\"text/css\">\n",
       "#T_4ada7_row0_col0, #T_4ada7_row0_col2, #T_4ada7_row0_col4, #T_4ada7_row1_col1, #T_4ada7_row1_col3 {\n",
       "  background-color: #ffff66;\n",
       "  color: #000000;\n",
       "}\n",
       "#T_4ada7_row0_col1, #T_4ada7_row0_col3, #T_4ada7_row1_col0, #T_4ada7_row1_col2, #T_4ada7_row1_col4 {\n",
       "  background-color: #008066;\n",
       "  color: #f1f1f1;\n",
       "}\n",
       "</style>\n",
       "<table id=\"T_4ada7\">\n",
       "  <thead>\n",
       "    <tr>\n",
       "      <th class=\"index_name level0\" >Initial</th>\n",
       "      <th id=\"T_4ada7_level0_col0\" class=\"col_heading level0 col0\" >Master</th>\n",
       "      <th id=\"T_4ada7_level0_col1\" class=\"col_heading level0 col1\" >Miss</th>\n",
       "      <th id=\"T_4ada7_level0_col2\" class=\"col_heading level0 col2\" >Mr</th>\n",
       "      <th id=\"T_4ada7_level0_col3\" class=\"col_heading level0 col3\" >Mrs</th>\n",
       "      <th id=\"T_4ada7_level0_col4\" class=\"col_heading level0 col4\" >Other</th>\n",
       "    </tr>\n",
       "    <tr>\n",
       "      <th class=\"index_name level0\" >Sex</th>\n",
       "      <th class=\"blank col0\" >&nbsp;</th>\n",
       "      <th class=\"blank col1\" >&nbsp;</th>\n",
       "      <th class=\"blank col2\" >&nbsp;</th>\n",
       "      <th class=\"blank col3\" >&nbsp;</th>\n",
       "      <th class=\"blank col4\" >&nbsp;</th>\n",
       "    </tr>\n",
       "  </thead>\n",
       "  <tbody>\n",
       "    <tr>\n",
       "      <th id=\"T_4ada7_level0_row0\" class=\"row_heading level0 row0\" >female</th>\n",
       "      <td id=\"T_4ada7_row0_col0\" class=\"data row0 col0\" >0</td>\n",
       "      <td id=\"T_4ada7_row0_col1\" class=\"data row0 col1\" >186</td>\n",
       "      <td id=\"T_4ada7_row0_col2\" class=\"data row0 col2\" >1</td>\n",
       "      <td id=\"T_4ada7_row0_col3\" class=\"data row0 col3\" >127</td>\n",
       "      <td id=\"T_4ada7_row0_col4\" class=\"data row0 col4\" >0</td>\n",
       "    </tr>\n",
       "    <tr>\n",
       "      <th id=\"T_4ada7_level0_row1\" class=\"row_heading level0 row1\" >male</th>\n",
       "      <td id=\"T_4ada7_row1_col0\" class=\"data row1 col0\" >40</td>\n",
       "      <td id=\"T_4ada7_row1_col1\" class=\"data row1 col1\" >0</td>\n",
       "      <td id=\"T_4ada7_row1_col2\" class=\"data row1 col2\" >528</td>\n",
       "      <td id=\"T_4ada7_row1_col3\" class=\"data row1 col3\" >0</td>\n",
       "      <td id=\"T_4ada7_row1_col4\" class=\"data row1 col4\" >9</td>\n",
       "    </tr>\n",
       "  </tbody>\n",
       "</table>\n"
      ],
      "text/plain": [
       "<pandas.io.formats.style.Styler at 0x7f745d66e280>"
      ]
     },
     "execution_count": 30,
     "metadata": {},
     "output_type": "execute_result"
    }
   ],
   "source": [
    "pd.crosstab(data.Initial,data.Sex).T.style.background_gradient(cmap='summer_r') #Checking the Initials with the Sex"
   ]
  },
  {
   "cell_type": "code",
   "execution_count": 31,
   "id": "703cbb12",
   "metadata": {},
   "outputs": [],
   "source": [
    "# Assigning the NaN Values the mean ages\n",
    "data.loc[(data.Age.isnull())&(data.Initial=='Mr'),'Age']=33\n",
    "data.loc[(data.Age.isnull())&(data.Initial=='Mrs'),'Age']=36\n",
    "data.loc[(data.Age.isnull())&(data.Initial=='Master'),'Age']=5\n",
    "data.loc[(data.Age.isnull())&(data.Initial=='Miss'),'Age']=22\n",
    "data.loc[(data.Age.isnull())&(data.Initial=='Other'),'Age']=46"
   ]
  },
  {
   "cell_type": "code",
   "execution_count": 32,
   "id": "0f3d25df",
   "metadata": {},
   "outputs": [
    {
     "data": {
      "text/plain": [
       "0"
      ]
     },
     "execution_count": 32,
     "metadata": {},
     "output_type": "execute_result"
    }
   ],
   "source": [
    "data.Age.isnull().sum()"
   ]
  },
  {
   "cell_type": "code",
   "execution_count": 33,
   "id": "8ef00123",
   "metadata": {},
   "outputs": [
    {
     "data": {
      "text/plain": [
       "PassengerId      0\n",
       "Survived         0\n",
       "Pclass           0\n",
       "Name             0\n",
       "Sex              0\n",
       "Age              0\n",
       "SibSp            0\n",
       "Parch            0\n",
       "Ticket           0\n",
       "Fare             0\n",
       "Cabin          687\n",
       "Embarked         2\n",
       "Initial          0\n",
       "dtype: int64"
      ]
     },
     "execution_count": 33,
     "metadata": {},
     "output_type": "execute_result"
    }
   ],
   "source": [
    "data.isnull().sum()"
   ]
  },
  {
   "cell_type": "code",
   "execution_count": 34,
   "id": "0de15ddd",
   "metadata": {},
   "outputs": [
    {
     "data": {
      "image/png": "[encoded data removed]",
      "text/plain": [
       "<Figure size 1440x720 with 2 Axes>"
      ]
     },
     "metadata": {
      "needs_background": "light"
     },
     "output_type": "display_data"
    }
   ],
   "source": [
    "f,ax=plt.subplots(1,2,figsize=(20,10))\n",
    "data[data['Survived']==0].Age.plot.hist(ax=ax[0],bins=20,edgecolor='black',color='red')\n",
    "ax[0].set_title('Survived= 0')\n",
    "x1=list(range(0,85,5))\n",
    "ax[0].set_xticks(x1)\n",
    "data[data['Survived']==1].Age.plot.hist(ax=ax[1],color='green',bins=20,edgecolor='black')\n",
    "ax[1].set_title('Survived= 1')\n",
    "x2=list(range(0,85,5))\n",
    "ax[1].set_xticks(x2)\n",
    "plt.show()"
   ]
  },
  {
   "cell_type": "markdown",
   "id": "2c4dc432",
   "metadata": {},
   "source": [
    "# Observations\n",
    "\n",
    "1. Most children under 5 years old have survived.\n",
    "2. Most individuals that have not survived belong to the 30-35 age group.\n",
    "3. The oldest individual (80) has survived."
   ]
  },
  {
   "cell_type": "code",
   "execution_count": null,
   "id": "68ccd972",
   "metadata": {},
   "outputs": [],
   "source": []
  },
  {
   "cell_type": "code",
   "execution_count": 35,
   "id": "695a27b5",
   "metadata": {},
   "outputs": [
    {
     "data": {
      "text/html": [
       "<style type=\"text/css\">\n",
       "#T_b64e6_row0_col0, #T_b64e6_row1_col2 {\n",
       "  background-color: #fcfe66;\n",
       "  color: #000000;\n",
       "}\n",
       "#T_b64e6_row0_col1 {\n",
       "  background-color: #d2e866;\n",
       "  color: #000000;\n",
       "}\n",
       "#T_b64e6_row0_col2 {\n",
       "  background-color: #f2f866;\n",
       "  color: #000000;\n",
       "}\n",
       "#T_b64e6_row0_col3 {\n",
       "  background-color: #d8ec66;\n",
       "  color: #000000;\n",
       "}\n",
       "#T_b64e6_row0_col4, #T_b64e6_row2_col3 {\n",
       "  background-color: #e8f466;\n",
       "  color: #000000;\n",
       "}\n",
       "#T_b64e6_row1_col0, #T_b64e6_row3_col0, #T_b64e6_row3_col1, #T_b64e6_row3_col2, #T_b64e6_row3_col3, #T_b64e6_row3_col4, #T_b64e6_row4_col0, #T_b64e6_row4_col2, #T_b64e6_row4_col3, #T_b64e6_row4_col4 {\n",
       "  background-color: #ffff66;\n",
       "  color: #000000;\n",
       "}\n",
       "#T_b64e6_row1_col1, #T_b64e6_row6_col0 {\n",
       "  background-color: #f9fc66;\n",
       "  color: #000000;\n",
       "}\n",
       "#T_b64e6_row1_col3, #T_b64e6_row1_col4 {\n",
       "  background-color: #fbfd66;\n",
       "  color: #000000;\n",
       "}\n",
       "#T_b64e6_row2_col0, #T_b64e6_row5_col1 {\n",
       "  background-color: #e6f266;\n",
       "  color: #000000;\n",
       "}\n",
       "#T_b64e6_row2_col1 {\n",
       "  background-color: #f0f866;\n",
       "  color: #000000;\n",
       "}\n",
       "#T_b64e6_row2_col2 {\n",
       "  background-color: #eef666;\n",
       "  color: #000000;\n",
       "}\n",
       "#T_b64e6_row2_col4, #T_b64e6_row7_col0 {\n",
       "  background-color: #edf666;\n",
       "  color: #000000;\n",
       "}\n",
       "#T_b64e6_row4_col1 {\n",
       "  background-color: #fefe66;\n",
       "  color: #000000;\n",
       "}\n",
       "#T_b64e6_row5_col0 {\n",
       "  background-color: #e3f166;\n",
       "  color: #000000;\n",
       "}\n",
       "#T_b64e6_row5_col2 {\n",
       "  background-color: #ecf666;\n",
       "  color: #000000;\n",
       "}\n",
       "#T_b64e6_row5_col3 {\n",
       "  background-color: #f8fc66;\n",
       "  color: #000000;\n",
       "}\n",
       "#T_b64e6_row5_col4 {\n",
       "  background-color: #ebf566;\n",
       "  color: #000000;\n",
       "}\n",
       "#T_b64e6_row6_col1 {\n",
       "  background-color: #cde666;\n",
       "  color: #000000;\n",
       "}\n",
       "#T_b64e6_row6_col2 {\n",
       "  background-color: #e4f266;\n",
       "  color: #000000;\n",
       "}\n",
       "#T_b64e6_row6_col3 {\n",
       "  background-color: #bede66;\n",
       "  color: #000000;\n",
       "}\n",
       "#T_b64e6_row6_col4 {\n",
       "  background-color: #dbed66;\n",
       "  color: #000000;\n",
       "}\n",
       "#T_b64e6_row7_col1 {\n",
       "  background-color: #bdde66;\n",
       "  color: #000000;\n",
       "}\n",
       "#T_b64e6_row7_col2 {\n",
       "  background-color: #d3e966;\n",
       "  color: #000000;\n",
       "}\n",
       "#T_b64e6_row7_col3, #T_b64e6_row8_col1 {\n",
       "  background-color: #dcee66;\n",
       "  color: #000000;\n",
       "}\n",
       "#T_b64e6_row7_col4 {\n",
       "  background-color: #d1e866;\n",
       "  color: #000000;\n",
       "}\n",
       "#T_b64e6_row8_col0 {\n",
       "  background-color: #52a866;\n",
       "  color: #f1f1f1;\n",
       "}\n",
       "#T_b64e6_row8_col2 {\n",
       "  background-color: #81c066;\n",
       "  color: #000000;\n",
       "}\n",
       "#T_b64e6_row8_col3 {\n",
       "  background-color: #b0d866;\n",
       "  color: #000000;\n",
       "}\n",
       "#T_b64e6_row8_col4 {\n",
       "  background-color: #9acc66;\n",
       "  color: #000000;\n",
       "}\n",
       "#T_b64e6_row9_col0, #T_b64e6_row9_col1, #T_b64e6_row9_col2, #T_b64e6_row9_col3, #T_b64e6_row9_col4 {\n",
       "  background-color: #008066;\n",
       "  color: #f1f1f1;\n",
       "}\n",
       "</style>\n",
       "<table id=\"T_b64e6\">\n",
       "  <thead>\n",
       "    <tr>\n",
       "      <th class=\"blank\" >&nbsp;</th>\n",
       "      <th class=\"index_name level0\" >Sex</th>\n",
       "      <th id=\"T_b64e6_level0_col0\" class=\"col_heading level0 col0\" colspan=\"2\">female</th>\n",
       "      <th id=\"T_b64e6_level0_col2\" class=\"col_heading level0 col2\" colspan=\"2\">male</th>\n",
       "      <th id=\"T_b64e6_level0_col4\" class=\"col_heading level0 col4\" >All</th>\n",
       "    </tr>\n",
       "    <tr>\n",
       "      <th class=\"blank\" >&nbsp;</th>\n",
       "      <th class=\"index_name level1\" >Survived</th>\n",
       "      <th id=\"T_b64e6_level1_col0\" class=\"col_heading level1 col0\" >0</th>\n",
       "      <th id=\"T_b64e6_level1_col1\" class=\"col_heading level1 col1\" >1</th>\n",
       "      <th id=\"T_b64e6_level1_col2\" class=\"col_heading level1 col2\" >0</th>\n",
       "      <th id=\"T_b64e6_level1_col3\" class=\"col_heading level1 col3\" >1</th>\n",
       "      <th id=\"T_b64e6_level1_col4\" class=\"col_heading level1 col4\" ></th>\n",
       "    </tr>\n",
       "    <tr>\n",
       "      <th class=\"index_name level0\" >Embarked</th>\n",
       "      <th class=\"index_name level1\" >Pclass</th>\n",
       "      <th class=\"blank col0\" >&nbsp;</th>\n",
       "      <th class=\"blank col1\" >&nbsp;</th>\n",
       "      <th class=\"blank col2\" >&nbsp;</th>\n",
       "      <th class=\"blank col3\" >&nbsp;</th>\n",
       "      <th class=\"blank col4\" >&nbsp;</th>\n",
       "    </tr>\n",
       "  </thead>\n",
       "  <tbody>\n",
       "    <tr>\n",
       "      <th id=\"T_b64e6_level0_row0\" class=\"row_heading level0 row0\" rowspan=\"3\">C</th>\n",
       "      <th id=\"T_b64e6_level1_row0\" class=\"row_heading level1 row0\" >1</th>\n",
       "      <td id=\"T_b64e6_row0_col0\" class=\"data row0 col0\" >1</td>\n",
       "      <td id=\"T_b64e6_row0_col1\" class=\"data row0 col1\" >42</td>\n",
       "      <td id=\"T_b64e6_row0_col2\" class=\"data row0 col2\" >25</td>\n",
       "      <td id=\"T_b64e6_row0_col3\" class=\"data row0 col3\" >17</td>\n",
       "      <td id=\"T_b64e6_row0_col4\" class=\"data row0 col4\" >85</td>\n",
       "    </tr>\n",
       "    <tr>\n",
       "      <th id=\"T_b64e6_level1_row1\" class=\"row_heading level1 row1\" >2</th>\n",
       "      <td id=\"T_b64e6_row1_col0\" class=\"data row1 col0\" >0</td>\n",
       "      <td id=\"T_b64e6_row1_col1\" class=\"data row1 col1\" >7</td>\n",
       "      <td id=\"T_b64e6_row1_col2\" class=\"data row1 col2\" >8</td>\n",
       "      <td id=\"T_b64e6_row1_col3\" class=\"data row1 col3\" >2</td>\n",
       "      <td id=\"T_b64e6_row1_col4\" class=\"data row1 col4\" >17</td>\n",
       "    </tr>\n",
       "    <tr>\n",
       "      <th id=\"T_b64e6_level1_row2\" class=\"row_heading level1 row2\" >3</th>\n",
       "      <td id=\"T_b64e6_row2_col0\" class=\"data row2 col0\" >8</td>\n",
       "      <td id=\"T_b64e6_row2_col1\" class=\"data row2 col1\" >15</td>\n",
       "      <td id=\"T_b64e6_row2_col2\" class=\"data row2 col2\" >33</td>\n",
       "      <td id=\"T_b64e6_row2_col3\" class=\"data row2 col3\" >10</td>\n",
       "      <td id=\"T_b64e6_row2_col4\" class=\"data row2 col4\" >66</td>\n",
       "    </tr>\n",
       "    <tr>\n",
       "      <th id=\"T_b64e6_level0_row3\" class=\"row_heading level0 row3\" rowspan=\"3\">Q</th>\n",
       "      <th id=\"T_b64e6_level1_row3\" class=\"row_heading level1 row3\" >1</th>\n",
       "      <td id=\"T_b64e6_row3_col0\" class=\"data row3 col0\" >0</td>\n",
       "      <td id=\"T_b64e6_row3_col1\" class=\"data row3 col1\" >1</td>\n",
       "      <td id=\"T_b64e6_row3_col2\" class=\"data row3 col2\" >1</td>\n",
       "      <td id=\"T_b64e6_row3_col3\" class=\"data row3 col3\" >0</td>\n",
       "      <td id=\"T_b64e6_row3_col4\" class=\"data row3 col4\" >2</td>\n",
       "    </tr>\n",
       "    <tr>\n",
       "      <th id=\"T_b64e6_level1_row4\" class=\"row_heading level1 row4\" >2</th>\n",
       "      <td id=\"T_b64e6_row4_col0\" class=\"data row4 col0\" >0</td>\n",
       "      <td id=\"T_b64e6_row4_col1\" class=\"data row4 col1\" >2</td>\n",
       "      <td id=\"T_b64e6_row4_col2\" class=\"data row4 col2\" >1</td>\n",
       "      <td id=\"T_b64e6_row4_col3\" class=\"data row4 col3\" >0</td>\n",
       "      <td id=\"T_b64e6_row4_col4\" class=\"data row4 col4\" >3</td>\n",
       "    </tr>\n",
       "    <tr>\n",
       "      <th id=\"T_b64e6_level1_row5\" class=\"row_heading level1 row5\" >3</th>\n",
       "      <td id=\"T_b64e6_row5_col0\" class=\"data row5 col0\" >9</td>\n",
       "      <td id=\"T_b64e6_row5_col1\" class=\"data row5 col1\" >24</td>\n",
       "      <td id=\"T_b64e6_row5_col2\" class=\"data row5 col2\" >36</td>\n",
       "      <td id=\"T_b64e6_row5_col3\" class=\"data row5 col3\" >3</td>\n",
       "      <td id=\"T_b64e6_row5_col4\" class=\"data row5 col4\" >72</td>\n",
       "    </tr>\n",
       "    <tr>\n",
       "      <th id=\"T_b64e6_level0_row6\" class=\"row_heading level0 row6\" rowspan=\"3\">S</th>\n",
       "      <th id=\"T_b64e6_level1_row6\" class=\"row_heading level1 row6\" >1</th>\n",
       "      <td id=\"T_b64e6_row6_col0\" class=\"data row6 col0\" >2</td>\n",
       "      <td id=\"T_b64e6_row6_col1\" class=\"data row6 col1\" >46</td>\n",
       "      <td id=\"T_b64e6_row6_col2\" class=\"data row6 col2\" >51</td>\n",
       "      <td id=\"T_b64e6_row6_col3\" class=\"data row6 col3\" >28</td>\n",
       "      <td id=\"T_b64e6_row6_col4\" class=\"data row6 col4\" >127</td>\n",
       "    </tr>\n",
       "    <tr>\n",
       "      <th id=\"T_b64e6_level1_row7\" class=\"row_heading level1 row7\" >2</th>\n",
       "      <td id=\"T_b64e6_row7_col0\" class=\"data row7 col0\" >6</td>\n",
       "      <td id=\"T_b64e6_row7_col1\" class=\"data row7 col1\" >61</td>\n",
       "      <td id=\"T_b64e6_row7_col2\" class=\"data row7 col2\" >82</td>\n",
       "      <td id=\"T_b64e6_row7_col3\" class=\"data row7 col3\" >15</td>\n",
       "      <td id=\"T_b64e6_row7_col4\" class=\"data row7 col4\" >164</td>\n",
       "    </tr>\n",
       "    <tr>\n",
       "      <th id=\"T_b64e6_level1_row8\" class=\"row_heading level1 row8\" >3</th>\n",
       "      <td id=\"T_b64e6_row8_col0\" class=\"data row8 col0\" >55</td>\n",
       "      <td id=\"T_b64e6_row8_col1\" class=\"data row8 col1\" >33</td>\n",
       "      <td id=\"T_b64e6_row8_col2\" class=\"data row8 col2\" >231</td>\n",
       "      <td id=\"T_b64e6_row8_col3\" class=\"data row8 col3\" >34</td>\n",
       "      <td id=\"T_b64e6_row8_col4\" class=\"data row8 col4\" >353</td>\n",
       "    </tr>\n",
       "    <tr>\n",
       "      <th id=\"T_b64e6_level0_row9\" class=\"row_heading level0 row9\" >All</th>\n",
       "      <th id=\"T_b64e6_level1_row9\" class=\"row_heading level1 row9\" ></th>\n",
       "      <td id=\"T_b64e6_row9_col0\" class=\"data row9 col0\" >81</td>\n",
       "      <td id=\"T_b64e6_row9_col1\" class=\"data row9 col1\" >231</td>\n",
       "      <td id=\"T_b64e6_row9_col2\" class=\"data row9 col2\" >468</td>\n",
       "      <td id=\"T_b64e6_row9_col3\" class=\"data row9 col3\" >109</td>\n",
       "      <td id=\"T_b64e6_row9_col4\" class=\"data row9 col4\" >889</td>\n",
       "    </tr>\n",
       "  </tbody>\n",
       "</table>\n"
      ],
      "text/plain": [
       "<pandas.io.formats.style.Styler at 0x7f745d457d90>"
      ]
     },
     "execution_count": 35,
     "metadata": {},
     "output_type": "execute_result"
    }
   ],
   "source": [
    "pd.crosstab([data.Embarked,data.Pclass],[data.Sex,data.Survived],margins=True).style.background_gradient(cmap='summer_r')"
   ]
  },
  {
   "cell_type": "code",
   "execution_count": 36,
   "id": "8039e118",
   "metadata": {},
   "outputs": [
    {
     "data": {
      "image/png": "[encoded data removed]",
      "text/plain": [
       "<Figure size 1440x1080 with 4 Axes>"
      ]
     },
     "metadata": {
      "needs_background": "light"
     },
     "output_type": "display_data"
    }
   ],
   "source": [
    "f,ax=plt.subplots(2,2,figsize=(20,15))\n",
    "sns.countplot('Embarked',data=data,ax=ax[0,0])\n",
    "ax[0,0].set_title('No. Of Passengers Boarded')\n",
    "sns.countplot('Embarked',hue='Sex',data=data,ax=ax[0,1])\n",
    "ax[0,1].set_title('Male-Female Split for Embarked')\n",
    "sns.countplot('Embarked',hue='Survived',data=data,ax=ax[1,0])\n",
    "ax[1,0].set_title('Embarked vs Survived')\n",
    "sns.countplot('Embarked',hue='Pclass',data=data,ax=ax[1,1])\n",
    "ax[1,1].set_title('Embarked vs Pclass')\n",
    "plt.subplots_adjust(wspace=0.2,hspace=0.5)\n",
    "plt.show()"
   ]
  },
  {
   "cell_type": "markdown",
   "id": "3eb38484",
   "metadata": {},
   "source": [
    "# Observations\n",
    "\n",
    "1. Most individuals departed from port S and are mostly men.\n",
    "2. The men/women ratio departed from port C is almost equivalent.\n",
    "3. Most individuals departed from port S belong to class 3. However, most individuals from port S have not survived.\n",
    "4. Most individuals departed from port Q belong to class 3. However, most individuals from port Q have not survived."
   ]
  },
  {
   "cell_type": "code",
   "execution_count": 37,
   "id": "8211cfeb",
   "metadata": {},
   "outputs": [
    {
     "data": {
      "text/plain": [
       "PassengerId      0\n",
       "Survived         0\n",
       "Pclass           0\n",
       "Name             0\n",
       "Sex              0\n",
       "Age              0\n",
       "SibSp            0\n",
       "Parch            0\n",
       "Ticket           0\n",
       "Fare             0\n",
       "Cabin          687\n",
       "Embarked         0\n",
       "Initial          0\n",
       "dtype: int64"
      ]
     },
     "execution_count": 37,
     "metadata": {},
     "output_type": "execute_result"
    }
   ],
   "source": [
    "# Fill the two NaNs with 'S'\n",
    "data['Embarked'].fillna('S',inplace=True)\n",
    "data.isnull().sum()"
   ]
  },
  {
   "cell_type": "code",
   "execution_count": null,
   "id": "6d6d2d1f",
   "metadata": {},
   "outputs": [],
   "source": []
  },
  {
   "cell_type": "code",
   "execution_count": 38,
   "id": "237ccda0",
   "metadata": {},
   "outputs": [
    {
     "data": {
      "text/html": [
       "<style type=\"text/css\">\n",
       "#T_05a35_row0_col0, #T_05a35_row0_col1 {\n",
       "  background-color: #008066;\n",
       "  color: #f1f1f1;\n",
       "}\n",
       "#T_05a35_row1_col0 {\n",
       "  background-color: #c4e266;\n",
       "  color: #000000;\n",
       "}\n",
       "#T_05a35_row1_col1 {\n",
       "  background-color: #77bb66;\n",
       "  color: #f1f1f1;\n",
       "}\n",
       "#T_05a35_row2_col0, #T_05a35_row4_col0 {\n",
       "  background-color: #f9fc66;\n",
       "  color: #000000;\n",
       "}\n",
       "#T_05a35_row2_col1 {\n",
       "  background-color: #f0f866;\n",
       "  color: #000000;\n",
       "}\n",
       "#T_05a35_row3_col0, #T_05a35_row3_col1 {\n",
       "  background-color: #fbfd66;\n",
       "  color: #000000;\n",
       "}\n",
       "#T_05a35_row4_col1 {\n",
       "  background-color: #fcfe66;\n",
       "  color: #000000;\n",
       "}\n",
       "#T_05a35_row5_col0, #T_05a35_row5_col1, #T_05a35_row6_col1 {\n",
       "  background-color: #ffff66;\n",
       "  color: #000000;\n",
       "}\n",
       "#T_05a35_row6_col0 {\n",
       "  background-color: #fefe66;\n",
       "  color: #000000;\n",
       "}\n",
       "</style>\n",
       "<table id=\"T_05a35\">\n",
       "  <thead>\n",
       "    <tr>\n",
       "      <th class=\"index_name level0\" >Survived</th>\n",
       "      <th id=\"T_05a35_level0_col0\" class=\"col_heading level0 col0\" >0</th>\n",
       "      <th id=\"T_05a35_level0_col1\" class=\"col_heading level0 col1\" >1</th>\n",
       "    </tr>\n",
       "    <tr>\n",
       "      <th class=\"index_name level0\" >SibSp</th>\n",
       "      <th class=\"blank col0\" >&nbsp;</th>\n",
       "      <th class=\"blank col1\" >&nbsp;</th>\n",
       "    </tr>\n",
       "  </thead>\n",
       "  <tbody>\n",
       "    <tr>\n",
       "      <th id=\"T_05a35_level0_row0\" class=\"row_heading level0 row0\" >0</th>\n",
       "      <td id=\"T_05a35_row0_col0\" class=\"data row0 col0\" >398</td>\n",
       "      <td id=\"T_05a35_row0_col1\" class=\"data row0 col1\" >210</td>\n",
       "    </tr>\n",
       "    <tr>\n",
       "      <th id=\"T_05a35_level0_row1\" class=\"row_heading level0 row1\" >1</th>\n",
       "      <td id=\"T_05a35_row1_col0\" class=\"data row1 col0\" >97</td>\n",
       "      <td id=\"T_05a35_row1_col1\" class=\"data row1 col1\" >112</td>\n",
       "    </tr>\n",
       "    <tr>\n",
       "      <th id=\"T_05a35_level0_row2\" class=\"row_heading level0 row2\" >2</th>\n",
       "      <td id=\"T_05a35_row2_col0\" class=\"data row2 col0\" >15</td>\n",
       "      <td id=\"T_05a35_row2_col1\" class=\"data row2 col1\" >13</td>\n",
       "    </tr>\n",
       "    <tr>\n",
       "      <th id=\"T_05a35_level0_row3\" class=\"row_heading level0 row3\" >3</th>\n",
       "      <td id=\"T_05a35_row3_col0\" class=\"data row3 col0\" >12</td>\n",
       "      <td id=\"T_05a35_row3_col1\" class=\"data row3 col1\" >4</td>\n",
       "    </tr>\n",
       "    <tr>\n",
       "      <th id=\"T_05a35_level0_row4\" class=\"row_heading level0 row4\" >4</th>\n",
       "      <td id=\"T_05a35_row4_col0\" class=\"data row4 col0\" >15</td>\n",
       "      <td id=\"T_05a35_row4_col1\" class=\"data row4 col1\" >3</td>\n",
       "    </tr>\n",
       "    <tr>\n",
       "      <th id=\"T_05a35_level0_row5\" class=\"row_heading level0 row5\" >5</th>\n",
       "      <td id=\"T_05a35_row5_col0\" class=\"data row5 col0\" >5</td>\n",
       "      <td id=\"T_05a35_row5_col1\" class=\"data row5 col1\" >0</td>\n",
       "    </tr>\n",
       "    <tr>\n",
       "      <th id=\"T_05a35_level0_row6\" class=\"row_heading level0 row6\" >8</th>\n",
       "      <td id=\"T_05a35_row6_col0\" class=\"data row6 col0\" >7</td>\n",
       "      <td id=\"T_05a35_row6_col1\" class=\"data row6 col1\" >0</td>\n",
       "    </tr>\n",
       "  </tbody>\n",
       "</table>\n"
      ],
      "text/plain": [
       "<pandas.io.formats.style.Styler at 0x7f745d664ee0>"
      ]
     },
     "execution_count": 38,
     "metadata": {},
     "output_type": "execute_result"
    }
   ],
   "source": [
    "pd.crosstab([data.SibSp],data.Survived).style.background_gradient(cmap='summer_r')"
   ]
  },
  {
   "cell_type": "code",
   "execution_count": 39,
   "id": "0ad80835",
   "metadata": {},
   "outputs": [
    {
     "data": {
      "text/html": [
       "<style type=\"text/css\">\n",
       "#T_1d093_row0_col0, #T_1d093_row0_col1, #T_1d093_row0_col2 {\n",
       "  background-color: #008066;\n",
       "  color: #f1f1f1;\n",
       "}\n",
       "#T_1d093_row1_col0 {\n",
       "  background-color: #7bbd66;\n",
       "  color: #000000;\n",
       "}\n",
       "#T_1d093_row1_col1 {\n",
       "  background-color: #8ac466;\n",
       "  color: #000000;\n",
       "}\n",
       "#T_1d093_row1_col2 {\n",
       "  background-color: #c6e266;\n",
       "  color: #000000;\n",
       "}\n",
       "#T_1d093_row2_col0, #T_1d093_row4_col2 {\n",
       "  background-color: #f6fa66;\n",
       "  color: #000000;\n",
       "}\n",
       "#T_1d093_row2_col1 {\n",
       "  background-color: #eef666;\n",
       "  color: #000000;\n",
       "}\n",
       "#T_1d093_row2_col2 {\n",
       "  background-color: #f8fc66;\n",
       "  color: #000000;\n",
       "}\n",
       "#T_1d093_row3_col0, #T_1d093_row3_col2 {\n",
       "  background-color: #fafc66;\n",
       "  color: #000000;\n",
       "}\n",
       "#T_1d093_row3_col1 {\n",
       "  background-color: #fdfe66;\n",
       "  color: #000000;\n",
       "}\n",
       "#T_1d093_row4_col0, #T_1d093_row4_col1, #T_1d093_row5_col0, #T_1d093_row5_col1, #T_1d093_row5_col2, #T_1d093_row6_col0, #T_1d093_row6_col1 {\n",
       "  background-color: #ffff66;\n",
       "  color: #000000;\n",
       "}\n",
       "#T_1d093_row6_col2 {\n",
       "  background-color: #fefe66;\n",
       "  color: #000000;\n",
       "}\n",
       "</style>\n",
       "<table id=\"T_1d093\">\n",
       "  <thead>\n",
       "    <tr>\n",
       "      <th class=\"index_name level0\" >Pclass</th>\n",
       "      <th id=\"T_1d093_level0_col0\" class=\"col_heading level0 col0\" >1</th>\n",
       "      <th id=\"T_1d093_level0_col1\" class=\"col_heading level0 col1\" >2</th>\n",
       "      <th id=\"T_1d093_level0_col2\" class=\"col_heading level0 col2\" >3</th>\n",
       "    </tr>\n",
       "    <tr>\n",
       "      <th class=\"index_name level0\" >SibSp</th>\n",
       "      <th class=\"blank col0\" >&nbsp;</th>\n",
       "      <th class=\"blank col1\" >&nbsp;</th>\n",
       "      <th class=\"blank col2\" >&nbsp;</th>\n",
       "    </tr>\n",
       "  </thead>\n",
       "  <tbody>\n",
       "    <tr>\n",
       "      <th id=\"T_1d093_level0_row0\" class=\"row_heading level0 row0\" >0</th>\n",
       "      <td id=\"T_1d093_row0_col0\" class=\"data row0 col0\" >137</td>\n",
       "      <td id=\"T_1d093_row0_col1\" class=\"data row0 col1\" >120</td>\n",
       "      <td id=\"T_1d093_row0_col2\" class=\"data row0 col2\" >351</td>\n",
       "    </tr>\n",
       "    <tr>\n",
       "      <th id=\"T_1d093_level0_row1\" class=\"row_heading level0 row1\" >1</th>\n",
       "      <td id=\"T_1d093_row1_col0\" class=\"data row1 col0\" >71</td>\n",
       "      <td id=\"T_1d093_row1_col1\" class=\"data row1 col1\" >55</td>\n",
       "      <td id=\"T_1d093_row1_col2\" class=\"data row1 col2\" >83</td>\n",
       "    </tr>\n",
       "    <tr>\n",
       "      <th id=\"T_1d093_level0_row2\" class=\"row_heading level0 row2\" >2</th>\n",
       "      <td id=\"T_1d093_row2_col0\" class=\"data row2 col0\" >5</td>\n",
       "      <td id=\"T_1d093_row2_col1\" class=\"data row2 col1\" >8</td>\n",
       "      <td id=\"T_1d093_row2_col2\" class=\"data row2 col2\" >15</td>\n",
       "    </tr>\n",
       "    <tr>\n",
       "      <th id=\"T_1d093_level0_row3\" class=\"row_heading level0 row3\" >3</th>\n",
       "      <td id=\"T_1d093_row3_col0\" class=\"data row3 col0\" >3</td>\n",
       "      <td id=\"T_1d093_row3_col1\" class=\"data row3 col1\" >1</td>\n",
       "      <td id=\"T_1d093_row3_col2\" class=\"data row3 col2\" >12</td>\n",
       "    </tr>\n",
       "    <tr>\n",
       "      <th id=\"T_1d093_level0_row4\" class=\"row_heading level0 row4\" >4</th>\n",
       "      <td id=\"T_1d093_row4_col0\" class=\"data row4 col0\" >0</td>\n",
       "      <td id=\"T_1d093_row4_col1\" class=\"data row4 col1\" >0</td>\n",
       "      <td id=\"T_1d093_row4_col2\" class=\"data row4 col2\" >18</td>\n",
       "    </tr>\n",
       "    <tr>\n",
       "      <th id=\"T_1d093_level0_row5\" class=\"row_heading level0 row5\" >5</th>\n",
       "      <td id=\"T_1d093_row5_col0\" class=\"data row5 col0\" >0</td>\n",
       "      <td id=\"T_1d093_row5_col1\" class=\"data row5 col1\" >0</td>\n",
       "      <td id=\"T_1d093_row5_col2\" class=\"data row5 col2\" >5</td>\n",
       "    </tr>\n",
       "    <tr>\n",
       "      <th id=\"T_1d093_level0_row6\" class=\"row_heading level0 row6\" >8</th>\n",
       "      <td id=\"T_1d093_row6_col0\" class=\"data row6 col0\" >0</td>\n",
       "      <td id=\"T_1d093_row6_col1\" class=\"data row6 col1\" >0</td>\n",
       "      <td id=\"T_1d093_row6_col2\" class=\"data row6 col2\" >7</td>\n",
       "    </tr>\n",
       "  </tbody>\n",
       "</table>\n"
      ],
      "text/plain": [
       "<pandas.io.formats.style.Styler at 0x7f745d45e3d0>"
      ]
     },
     "execution_count": 39,
     "metadata": {},
     "output_type": "execute_result"
    }
   ],
   "source": [
    "pd.crosstab(data.SibSp,data.Pclass).style.background_gradient(cmap='summer_r')"
   ]
  },
  {
   "cell_type": "markdown",
   "id": "17b495bd",
   "metadata": {},
   "source": [
    "# Observations\n",
    "\n",
    "1. The 35% of the passengers who did not travel with a relative survived.\n",
    "2. From the individuals traveling with 1 or 2 relatives, aprroximately the 50% of them have survived.\n",
    "3. The more the relatives in the trip, the lower the survival rate.\n",
    "4. Individuals with many relatives belong to class 3. Families with 5 or more members did not survive."
   ]
  },
  {
   "cell_type": "code",
   "execution_count": null,
   "id": "dda7d422",
   "metadata": {},
   "outputs": [],
   "source": []
  },
  {
   "cell_type": "code",
   "execution_count": 40,
   "id": "16896dbc",
   "metadata": {},
   "outputs": [
    {
     "name": "stdout",
     "output_type": "stream",
     "text": [
      "Highest Fare: 512.3292\n",
      "Lowest Fare: 0.0\n",
      "Average Fare: 32.204207968574636\n"
     ]
    }
   ],
   "source": [
    "print('Highest Fare:',data['Fare'].max())\n",
    "print('Lowest Fare:',data['Fare'].min())\n",
    "print('Average Fare:',data['Fare'].mean())"
   ]
  },
  {
   "cell_type": "code",
   "execution_count": 41,
   "id": "7ce39d96",
   "metadata": {},
   "outputs": [
    {
     "data": {
      "image/png": "[encoded data removed]",
      "text/plain": [
       "<Figure size 1440x576 with 3 Axes>"
      ]
     },
     "metadata": {
      "needs_background": "light"
     },
     "output_type": "display_data"
    }
   ],
   "source": [
    "f,ax=plt.subplots(1,3,figsize=(20,8))\n",
    "sns.distplot(data[data['Pclass']==1].Fare,ax=ax[0])\n",
    "ax[0].set_title('Fares in Pclass 1')\n",
    "sns.distplot(data[data['Pclass']==2].Fare,ax=ax[1])\n",
    "ax[1].set_title('Fares in Pclass 2')\n",
    "sns.distplot(data[data['Pclass']==3].Fare,ax=ax[2])\n",
    "ax[2].set_title('Fares in Pclass 3')\n",
    "plt.show()"
   ]
  },
  {
   "cell_type": "code",
   "execution_count": null,
   "id": "006bef59",
   "metadata": {},
   "outputs": [],
   "source": []
  },
  {
   "cell_type": "markdown",
   "id": "7f496d47",
   "metadata": {},
   "source": [
    "# Summarized Observations\n",
    "\n",
    "1. The survival rate is higher on women and children.\n",
    "2. Passengers of the first class have higher survival rate, while passengers of the third class have lower survival rate.\n",
    "3. Individuals traveling with their relatives with limited members (e.g., 3) have higher survival rate."
   ]
  },
  {
   "cell_type": "code",
   "execution_count": 42,
   "id": "45fdbabb",
   "metadata": {},
   "outputs": [],
   "source": [
    "data['Sex'] = data['Sex'].map(dict(zip(['male','female'],[0,1])))\n",
    "data['Embarked'] = data['Embarked'].map(dict(zip(['S','C','Q'],[0,1,2])))"
   ]
  },
  {
   "cell_type": "code",
   "execution_count": 43,
   "id": "5feff7fb",
   "metadata": {},
   "outputs": [
    {
     "data": {
      "text/html": [
       "<div>\n",
       "<style scoped>\n",
       "    .dataframe tbody tr th:only-of-type {\n",
       "        vertical-align: middle;\n",
       "    }\n",
       "\n",
       "    .dataframe tbody tr th {\n",
       "        vertical-align: top;\n",
       "    }\n",
       "\n",
       "    .dataframe thead th {\n",
       "        text-align: right;\n",
       "    }\n",
       "</style>\n",
       "<table border=\"1\" class=\"dataframe\">\n",
       "  <thead>\n",
       "    <tr style=\"text-align: right;\">\n",
       "      <th></th>\n",
       "      <th>PassengerId</th>\n",
       "      <th>Survived</th>\n",
       "      <th>Pclass</th>\n",
       "      <th>Name</th>\n",
       "      <th>Sex</th>\n",
       "      <th>Age</th>\n",
       "      <th>SibSp</th>\n",
       "      <th>Parch</th>\n",
       "      <th>Ticket</th>\n",
       "      <th>Fare</th>\n",
       "      <th>Cabin</th>\n",
       "      <th>Embarked</th>\n",
       "      <th>Initial</th>\n",
       "    </tr>\n",
       "  </thead>\n",
       "  <tbody>\n",
       "    <tr>\n",
       "      <th>0</th>\n",
       "      <td>1</td>\n",
       "      <td>0</td>\n",
       "      <td>3</td>\n",
       "      <td>Braund, Mr. Owen Harris</td>\n",
       "      <td>0</td>\n",
       "      <td>22.0</td>\n",
       "      <td>1</td>\n",
       "      <td>0</td>\n",
       "      <td>A/5 21171</td>\n",
       "      <td>7.2500</td>\n",
       "      <td>NaN</td>\n",
       "      <td>0</td>\n",
       "      <td>Mr</td>\n",
       "    </tr>\n",
       "    <tr>\n",
       "      <th>1</th>\n",
       "      <td>2</td>\n",
       "      <td>1</td>\n",
       "      <td>1</td>\n",
       "      <td>Cumings, Mrs. John Bradley (Florence Briggs Th...</td>\n",
       "      <td>1</td>\n",
       "      <td>38.0</td>\n",
       "      <td>1</td>\n",
       "      <td>0</td>\n",
       "      <td>PC 17599</td>\n",
       "      <td>71.2833</td>\n",
       "      <td>C85</td>\n",
       "      <td>1</td>\n",
       "      <td>Mrs</td>\n",
       "    </tr>\n",
       "    <tr>\n",
       "      <th>2</th>\n",
       "      <td>3</td>\n",
       "      <td>1</td>\n",
       "      <td>3</td>\n",
       "      <td>Heikkinen, Miss. Laina</td>\n",
       "      <td>1</td>\n",
       "      <td>26.0</td>\n",
       "      <td>0</td>\n",
       "      <td>0</td>\n",
       "      <td>STON/O2. 3101282</td>\n",
       "      <td>7.9250</td>\n",
       "      <td>NaN</td>\n",
       "      <td>0</td>\n",
       "      <td>Miss</td>\n",
       "    </tr>\n",
       "    <tr>\n",
       "      <th>3</th>\n",
       "      <td>4</td>\n",
       "      <td>1</td>\n",
       "      <td>1</td>\n",
       "      <td>Futrelle, Mrs. Jacques Heath (Lily May Peel)</td>\n",
       "      <td>1</td>\n",
       "      <td>35.0</td>\n",
       "      <td>1</td>\n",
       "      <td>0</td>\n",
       "      <td>113803</td>\n",
       "      <td>53.1000</td>\n",
       "      <td>C123</td>\n",
       "      <td>0</td>\n",
       "      <td>Mrs</td>\n",
       "    </tr>\n",
       "    <tr>\n",
       "      <th>4</th>\n",
       "      <td>5</td>\n",
       "      <td>0</td>\n",
       "      <td>3</td>\n",
       "      <td>Allen, Mr. William Henry</td>\n",
       "      <td>0</td>\n",
       "      <td>35.0</td>\n",
       "      <td>0</td>\n",
       "      <td>0</td>\n",
       "      <td>373450</td>\n",
       "      <td>8.0500</td>\n",
       "      <td>NaN</td>\n",
       "      <td>0</td>\n",
       "      <td>Mr</td>\n",
       "    </tr>\n",
       "  </tbody>\n",
       "</table>\n",
       "</div>"
      ],
      "text/plain": [
       "   PassengerId  Survived  Pclass  \\\n",
       "0            1         0       3   \n",
       "1            2         1       1   \n",
       "2            3         1       3   \n",
       "3            4         1       1   \n",
       "4            5         0       3   \n",
       "\n",
       "                                                Name  Sex   Age  SibSp  Parch  \\\n",
       "0                            Braund, Mr. Owen Harris    0  22.0      1      0   \n",
       "1  Cumings, Mrs. John Bradley (Florence Briggs Th...    1  38.0      1      0   \n",
       "2                             Heikkinen, Miss. Laina    1  26.0      0      0   \n",
       "3       Futrelle, Mrs. Jacques Heath (Lily May Peel)    1  35.0      1      0   \n",
       "4                           Allen, Mr. William Henry    0  35.0      0      0   \n",
       "\n",
       "             Ticket     Fare Cabin  Embarked Initial  \n",
       "0         A/5 21171   7.2500   NaN         0      Mr  \n",
       "1          PC 17599  71.2833   C85         1     Mrs  \n",
       "2  STON/O2. 3101282   7.9250   NaN         0    Miss  \n",
       "3            113803  53.1000  C123         0     Mrs  \n",
       "4            373450   8.0500   NaN         0      Mr  "
      ]
     },
     "execution_count": 43,
     "metadata": {},
     "output_type": "execute_result"
    }
   ],
   "source": [
    "data.head()"
   ]
  },
  {
   "cell_type": "code",
   "execution_count": 44,
   "id": "b19456f0",
   "metadata": {},
   "outputs": [
    {
     "data": {
      "image/png": "[encoded data removed]",
      "text/plain": [
       "<Figure size 1296x576 with 2 Axes>"
      ]
     },
     "metadata": {
      "needs_background": "light"
     },
     "output_type": "display_data"
    }
   ],
   "source": [
    "plt.figure(figsize=(18,8))\n",
    "sns.heatmap(data.corr(),annot=True,cmap='Greens',linewidths=0.2)\n",
    "plt.show()"
   ]
  },
  {
   "cell_type": "markdown",
   "id": "51fb2218",
   "metadata": {},
   "source": [
    "# Correlations\n",
    "\n",
    "The heatmap above shows the correlation among features (considering the numeric data). \n",
    "\n",
    "In general, a correlation value is in the range [-1,1]. A negative correlation implies that with the increase of the first feature, the second feature decreases.\n",
    "\n",
    "Based on the heatmap, it is observed that the target feature, i.e., the survival has:\n",
    "1. Positive correlation with the gender attribute. Recall that we transformed women to the label 1.\n",
    "2. Negative correlation with the age attribute. Recall that the lower the age the higher the survival rate.\n",
    "3. Negative correlation with the class. Recall that the higher the class, the lower the survival rate.\n",
    "4. Positive correlation with the Fare amount. Recall that the higher the Fare, the lower the class and the higher the survival rate."
   ]
  }
 ],
 "metadata": {
  "kernelspec": {
   "display_name": "Python 3 (ipykernel)",
   "language": "python",
   "name": "python3"
  },
  "language_info": {
   "codemirror_mode": {
    "name": "ipython",
    "version": 3
   },
   "file_extension": ".py",
   "mimetype": "text/x-python",
   "name": "python",
   "nbconvert_exporter": "python",
   "pygments_lexer": "ipython3",
   "version": "3.8.12"
  }
 },
 "nbformat": 4,
 "nbformat_minor": 5
}
