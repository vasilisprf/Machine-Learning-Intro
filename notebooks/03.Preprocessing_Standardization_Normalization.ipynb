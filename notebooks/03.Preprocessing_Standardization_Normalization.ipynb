{
 "cells": [
  {
   "cell_type": "code",
   "execution_count": 1,
   "id": "5bc19858",
   "metadata": {},
   "outputs": [],
   "source": [
    "# ----------------------------------------------------------------------------\n",
    "# Author        :    Vasileios Perifanis\n",
    "# Affiliation   :    Euclid team, Democritus University of Thrace, Dept. of Electrical & Computer Engineering\n",
    "# Created Date  :    03/2022\n",
    "# version       :    1.0\n",
    "# ---------------------------------------------------------------------------"
   ]
  },
  {
   "cell_type": "code",
   "execution_count": 2,
   "id": "c4207420",
   "metadata": {},
   "outputs": [],
   "source": [
    "import numpy as np # linear algebra\n",
    "import pandas as pd # data analysis\n",
    "from sklearn.neural_network import MLPClassifier\n",
    "from sklearn.model_selection import train_test_split\n",
    "from sklearn.metrics import accuracy_score, precision_score, recall_score, f1_score\n",
    "\n",
    "import warnings\n",
    "warnings.filterwarnings('ignore')"
   ]
  },
  {
   "cell_type": "code",
   "execution_count": 3,
   "id": "007a9c34",
   "metadata": {},
   "outputs": [
    {
     "data": {
      "text/html": [
       "<div>\n",
       "<style scoped>\n",
       "    .dataframe tbody tr th:only-of-type {\n",
       "        vertical-align: middle;\n",
       "    }\n",
       "\n",
       "    .dataframe tbody tr th {\n",
       "        vertical-align: top;\n",
       "    }\n",
       "\n",
       "    .dataframe thead th {\n",
       "        text-align: right;\n",
       "    }\n",
       "</style>\n",
       "<table border=\"1\" class=\"dataframe\">\n",
       "  <thead>\n",
       "    <tr style=\"text-align: right;\">\n",
       "      <th></th>\n",
       "      <th>Survived</th>\n",
       "      <th>Pclass</th>\n",
       "      <th>Sex</th>\n",
       "      <th>SibSp</th>\n",
       "      <th>Parch</th>\n",
       "      <th>Embarked</th>\n",
       "      <th>Age_band</th>\n",
       "      <th>Family_Size</th>\n",
       "      <th>Alone</th>\n",
       "      <th>Fare_cat</th>\n",
       "    </tr>\n",
       "  </thead>\n",
       "  <tbody>\n",
       "    <tr>\n",
       "      <th>0</th>\n",
       "      <td>0</td>\n",
       "      <td>3</td>\n",
       "      <td>0</td>\n",
       "      <td>1</td>\n",
       "      <td>0</td>\n",
       "      <td>0</td>\n",
       "      <td>1</td>\n",
       "      <td>1</td>\n",
       "      <td>0</td>\n",
       "      <td>0</td>\n",
       "    </tr>\n",
       "    <tr>\n",
       "      <th>1</th>\n",
       "      <td>1</td>\n",
       "      <td>1</td>\n",
       "      <td>1</td>\n",
       "      <td>1</td>\n",
       "      <td>0</td>\n",
       "      <td>1</td>\n",
       "      <td>2</td>\n",
       "      <td>1</td>\n",
       "      <td>0</td>\n",
       "      <td>3</td>\n",
       "    </tr>\n",
       "    <tr>\n",
       "      <th>2</th>\n",
       "      <td>1</td>\n",
       "      <td>3</td>\n",
       "      <td>1</td>\n",
       "      <td>0</td>\n",
       "      <td>0</td>\n",
       "      <td>0</td>\n",
       "      <td>1</td>\n",
       "      <td>0</td>\n",
       "      <td>1</td>\n",
       "      <td>1</td>\n",
       "    </tr>\n",
       "    <tr>\n",
       "      <th>3</th>\n",
       "      <td>1</td>\n",
       "      <td>1</td>\n",
       "      <td>1</td>\n",
       "      <td>1</td>\n",
       "      <td>0</td>\n",
       "      <td>0</td>\n",
       "      <td>2</td>\n",
       "      <td>1</td>\n",
       "      <td>0</td>\n",
       "      <td>3</td>\n",
       "    </tr>\n",
       "    <tr>\n",
       "      <th>4</th>\n",
       "      <td>0</td>\n",
       "      <td>3</td>\n",
       "      <td>0</td>\n",
       "      <td>0</td>\n",
       "      <td>0</td>\n",
       "      <td>0</td>\n",
       "      <td>2</td>\n",
       "      <td>0</td>\n",
       "      <td>1</td>\n",
       "      <td>1</td>\n",
       "    </tr>\n",
       "  </tbody>\n",
       "</table>\n",
       "</div>"
      ],
      "text/plain": [
       "   Survived  Pclass  Sex  SibSp  Parch  Embarked  Age_band  Family_Size  \\\n",
       "0         0       3    0      1      0         0         1            1   \n",
       "1         1       1    1      1      0         1         2            1   \n",
       "2         1       3    1      0      0         0         1            0   \n",
       "3         1       1    1      1      0         0         2            1   \n",
       "4         0       3    0      0      0         0         2            0   \n",
       "\n",
       "   Alone  Fare_cat  \n",
       "0      0         0  \n",
       "1      0         3  \n",
       "2      1         1  \n",
       "3      0         3  \n",
       "4      1         1  "
      ]
     },
     "execution_count": 3,
     "metadata": {},
     "output_type": "execute_result"
    }
   ],
   "source": [
    "data = pd.read_csv(\"datasets/titanic_train.csv\", header=0) # read csv\n",
    "\n",
    "data['Initial']=0\n",
    "for i in data:\n",
    "    data['Initial']=data.Name.str.extract('([A-Za-z]+)\\.') #extract the Salutations\n",
    "\n",
    "# Assigning the NaN Values the mean ages\n",
    "data.loc[(data.Age.isnull())&(data.Initial=='Mr'),'Age']=33\n",
    "data.loc[(data.Age.isnull())&(data.Initial=='Mrs'),'Age']=36\n",
    "data.loc[(data.Age.isnull())&(data.Initial=='Master'),'Age']=5\n",
    "data.loc[(data.Age.isnull())&(data.Initial=='Miss'),'Age']=22\n",
    "data.loc[(data.Age.isnull())&(data.Initial=='Other'),'Age']=46\n",
    "\n",
    "data['Embarked'].fillna('S',inplace=True)\n",
    "\n",
    "data['Age_band']=0\n",
    "data.loc[data['Age']<=16,'Age_band']=0\n",
    "data.loc[(data['Age']>16)&(data['Age']<=32),'Age_band']=1\n",
    "data.loc[(data['Age']>32)&(data['Age']<=48),'Age_band']=2\n",
    "data.loc[(data['Age']>48)&(data['Age']<=64),'Age_band']=3\n",
    "data.loc[data['Age']>64,'Age_band']=4\n",
    "\n",
    "data['Family_Size']=0\n",
    "data['Family_Size']=data['Parch']+data['SibSp']#family size\n",
    "data['Alone']=0\n",
    "data.loc[data.Family_Size==0,'Alone']=1#Alone\n",
    "\n",
    "data['Fare_Range']=pd.qcut(data['Fare'],5)\n",
    "data['Fare_cat']=0\n",
    "data.loc[data['Fare']<=7.91,'Fare_cat']=0\n",
    "data.loc[(data['Fare']>7.91)&(data['Fare']<=14.454),'Fare_cat']=1\n",
    "data.loc[(data['Fare']>14.454)&(data['Fare']<=31),'Fare_cat']=2\n",
    "data.loc[(data['Fare']>31)&(data['Fare']<=513),'Fare_cat']=3\n",
    "\n",
    "data['Sex'].replace(['male','female'],[0,1],inplace=True)\n",
    "data['Embarked'].replace(['S','C','Q'],[0,1,2],inplace=True)\n",
    "data['Initial'].replace(['Mr','Mrs','Miss','Master','Other'],[0,1,2,3,4],inplace=True)\n",
    "\n",
    "data.drop(['Name','Age','Ticket','Fare','Cabin','Initial','Fare_Range','PassengerId'],axis=1,inplace=True)\n",
    "\n",
    "data.head()"
   ]
  },
  {
   "cell_type": "code",
   "execution_count": 4,
   "id": "71eec1d4",
   "metadata": {},
   "outputs": [],
   "source": [
    "train,test=train_test_split(data,test_size=0.2,random_state=0,stratify=data['Survived'])\n",
    "train_X=train[train.columns[1:]].to_numpy()\n",
    "train_Y=train[train.columns[:1]].to_numpy().ravel()\n",
    "test_X=test[test.columns[1:]].to_numpy()\n",
    "test_Y=test[test.columns[:1]].to_numpy().ravel()"
   ]
  },
  {
   "cell_type": "code",
   "execution_count": 5,
   "id": "6e8489d0",
   "metadata": {},
   "outputs": [],
   "source": [
    "def train_sk(train_X, train_Y, test_X, test_Y):\n",
    "    # initialize classifier\n",
    "    classifier = MLPClassifier(hidden_layer_sizes=(32,32,32), random_state=0, max_iter=500)\n",
    "\n",
    "    # train the classifier\n",
    "    classifier.fit(train_X,train_Y)\n",
    "\n",
    "    # make predictions on train/test set\n",
    "    y_pred_train = classifier.predict(train_X)\n",
    "    y_pred = classifier.predict(test_X)\n",
    "\n",
    "    # calculate scores\n",
    "    accuracy_train = accuracy_score(y_pred_train, train_Y)\n",
    "    precision_train = precision_score(y_pred_train, train_Y)\n",
    "    recall_train = recall_score(y_pred_train, train_Y)\n",
    "    f1_train = f1_score(y_pred_train, train_Y)\n",
    "\n",
    "    accuracy = accuracy_score(y_pred, test_Y)\n",
    "    precision = precision_score(y_pred, test_Y)\n",
    "    recall = recall_score(y_pred, test_Y)\n",
    "    f1 = f1_score(y_pred, test_Y)\n",
    "\n",
    "    print(f\"[Training set] Accuracy: {accuracy_train:.4f}, Precision: {precision_train:.4f}, Recall: {recall_train:.4f}, F1: {f1_train:.4f}\\n\",\n",
    "          f\"[Testing set] Accuracy: {accuracy:.4f}, Precision: {precision:.4f}, Recall: {recall:.4f}, F1: {f1:.4f}\")\n",
    "    return accuracy, precision, recall, f1"
   ]
  },
  {
   "cell_type": "code",
   "execution_count": null,
   "id": "68d294ea",
   "metadata": {},
   "outputs": [],
   "source": []
  },
  {
   "cell_type": "code",
   "execution_count": 6,
   "id": "8c219e96",
   "metadata": {},
   "outputs": [],
   "source": [
    "accuracy, precision, recall, f1 = dict(), dict(), dict(), dict()"
   ]
  },
  {
   "cell_type": "code",
   "execution_count": 7,
   "id": "a5eb0424",
   "metadata": {},
   "outputs": [
    {
     "name": "stdout",
     "output_type": "stream",
     "text": [
      "[Training set] Accuracy: 0.8848, Precision: 0.8718, Recall: 0.8351, F1: 0.8530\n",
      " [Testing set] Accuracy: 0.7709, Precision: 0.6957, Recall: 0.7059, F1: 0.7007\n"
     ]
    }
   ],
   "source": [
    "acc, prec, rec, f = train_sk(train_X, train_Y, test_X, test_Y)\n",
    "accuracy['plain'] = acc\n",
    "precision['plain'] = prec\n",
    "recall['plain'] = rec\n",
    "f1['plain'] = f"
   ]
  },
  {
   "cell_type": "code",
   "execution_count": null,
   "id": "b8272c5b",
   "metadata": {},
   "outputs": [],
   "source": []
  },
  {
   "cell_type": "markdown",
   "id": "fddb136f",
   "metadata": {},
   "source": [
    "# Standardization"
   ]
  },
  {
   "cell_type": "code",
   "execution_count": 8,
   "id": "51dd1f9d",
   "metadata": {},
   "outputs": [],
   "source": [
    "from sklearn import preprocessing"
   ]
  },
  {
   "cell_type": "code",
   "execution_count": null,
   "id": "6d82e0d1",
   "metadata": {},
   "outputs": [],
   "source": []
  },
  {
   "cell_type": "code",
   "execution_count": 9,
   "id": "40a35eac",
   "metadata": {},
   "outputs": [],
   "source": [
    "scaler = preprocessing.StandardScaler().fit(train_X)\n",
    "train_X_standard_scaler = scaler.transform(train_X)\n",
    "test_X_standard_scaler = scaler.transform(test_X)"
   ]
  },
  {
   "cell_type": "code",
   "execution_count": 10,
   "id": "e32065f2",
   "metadata": {},
   "outputs": [
    {
     "data": {
      "text/plain": [
       "(array([3, 1, 0, 0, 2, 1, 0, 1, 0]),\n",
       " array([ 0.8342464 ,  1.35523186, -0.48693486, -0.46765914,  2.59907315,\n",
       "        -0.51902785, -0.56377913,  0.80744793, -1.3602312 ]))"
      ]
     },
     "execution_count": 10,
     "metadata": {},
     "output_type": "execute_result"
    }
   ],
   "source": [
    "train_X[0], train_X_standard_scaler[0]"
   ]
  },
  {
   "cell_type": "code",
   "execution_count": 11,
   "id": "027b2457",
   "metadata": {},
   "outputs": [
    {
     "name": "stdout",
     "output_type": "stream",
     "text": [
      "[Training set] Accuracy: 0.8961, Precision: 0.8498, Recall: 0.8755, F1: 0.8625\n",
      " [Testing set] Accuracy: 0.7654, Precision: 0.6232, Recall: 0.7288, F1: 0.6719\n"
     ]
    }
   ],
   "source": [
    "acc, prec, rec, f = train_sk(train_X_standard_scaler, train_Y, test_X_standard_scaler, test_Y)\n",
    "accuracy['standard'] = acc\n",
    "precision['standard'] = prec\n",
    "recall['standard'] = rec\n",
    "f1['standard'] = f"
   ]
  },
  {
   "cell_type": "code",
   "execution_count": null,
   "id": "ab16db8d",
   "metadata": {},
   "outputs": [],
   "source": []
  },
  {
   "cell_type": "code",
   "execution_count": 12,
   "id": "5bc10bdd",
   "metadata": {},
   "outputs": [
    {
     "data": {
      "text/plain": [
       "(array([3, 1, 0, 0, 2, 1, 0, 1, 0]),\n",
       " array([ 0.8342464 ,  1.35523186, -0.48693486, -0.46765914,  2.59907315,\n",
       "        -0.51902785, -0.56377913,  0.80744793, -1.3602312 ]),\n",
       " array([1.  , 1.  , 0.  , 0.  , 1.  , 0.25, 0.  , 1.  , 0.  ]))"
      ]
     },
     "execution_count": 12,
     "metadata": {},
     "output_type": "execute_result"
    }
   ],
   "source": [
    "min_max_scaler = preprocessing.MinMaxScaler().fit(train_X)\n",
    "train_X_min_max_scaler = min_max_scaler.transform(train_X)\n",
    "test_X_min_max_scaler = min_max_scaler.transform(test_X)\n",
    "train_X[0], train_X_standard_scaler[0], train_X_min_max_scaler[0]"
   ]
  },
  {
   "cell_type": "code",
   "execution_count": 13,
   "id": "e9622cab",
   "metadata": {},
   "outputs": [
    {
     "name": "stdout",
     "output_type": "stream",
     "text": [
      "[Training set] Accuracy: 0.8820, Precision: 0.8388, Recall: 0.8513, F1: 0.8450\n",
      " [Testing set] Accuracy: 0.7933, Precision: 0.6522, Recall: 0.7759, F1: 0.7087\n"
     ]
    }
   ],
   "source": [
    "acc, prec, rec, f = train_sk(train_X_min_max_scaler, train_Y, test_X_min_max_scaler, test_Y)\n",
    "accuracy['minmax'] = acc\n",
    "precision['minmax'] = prec\n",
    "recall['minmax'] = rec\n",
    "f1['minmax'] = f"
   ]
  },
  {
   "cell_type": "code",
   "execution_count": null,
   "id": "93167eaf",
   "metadata": {},
   "outputs": [],
   "source": []
  },
  {
   "cell_type": "code",
   "execution_count": 14,
   "id": "b34a274d",
   "metadata": {},
   "outputs": [
    {
     "data": {
      "text/plain": [
       "({'plain': 0.770949720670391,\n",
       "  'standard': 0.7653631284916201,\n",
       "  'minmax': 0.7932960893854749},\n",
       " {'plain': 0.6956521739130435,\n",
       "  'standard': 0.6231884057971014,\n",
       "  'minmax': 0.6521739130434783},\n",
       " {'plain': 0.7058823529411765,\n",
       "  'standard': 0.7288135593220338,\n",
       "  'minmax': 0.7758620689655172},\n",
       " {'plain': 0.7007299270072992,\n",
       "  'standard': 0.671875,\n",
       "  'minmax': 0.7086614173228347})"
      ]
     },
     "execution_count": 14,
     "metadata": {},
     "output_type": "execute_result"
    }
   ],
   "source": [
    "accuracy, precision, recall, f1"
   ]
  },
  {
   "cell_type": "code",
   "execution_count": 15,
   "id": "b25d8fec",
   "metadata": {},
   "outputs": [],
   "source": [
    "import matplotlib.pyplot as plt"
   ]
  },
  {
   "cell_type": "code",
   "execution_count": 16,
   "id": "b81391b3",
   "metadata": {},
   "outputs": [
    {
     "data": {
      "image/png": "[encoded data removed]",
      "text/plain": [
       "<Figure size 720x360 with 1 Axes>"
      ]
     },
     "metadata": {
      "needs_background": "light"
     },
     "output_type": "display_data"
    }
   ],
   "source": [
    "scalers = list(f1.keys())\n",
    "f_scores = list(f1.values())\n",
    "  \n",
    "fig = plt.figure(figsize = (10, 5))\n",
    " \n",
    "plt.bar(scalers, f_scores, color ='maroon',\n",
    "        width = 0.4)\n",
    " \n",
    "plt.xlabel(\"Scaler\")\n",
    "plt.ylabel(\"F1-Score\")\n",
    "plt.show()"
   ]
  },
  {
   "cell_type": "code",
   "execution_count": null,
   "id": "eb8bc4bf",
   "metadata": {},
   "outputs": [],
   "source": []
  },
  {
   "cell_type": "code",
   "execution_count": null,
   "id": "d7322631",
   "metadata": {},
   "outputs": [],
   "source": []
  },
  {
   "cell_type": "code",
   "execution_count": null,
   "id": "6ac80eb5",
   "metadata": {},
   "outputs": [],
   "source": []
  },
  {
   "cell_type": "code",
   "execution_count": 17,
   "id": "799e6703",
   "metadata": {},
   "outputs": [
    {
     "data": {
      "text/plain": [
       "array([0., 0., 1., 0., 1., 1., 0., 0., 0., 0., 0., 0., 1., 0., 0., 0., 0.,\n",
       "       0., 0., 0., 0., 1., 0., 1., 0., 0., 0., 1., 0., 0., 0., 0., 0., 0.,\n",
       "       0., 0., 0., 1., 1., 0., 0., 0.])"
      ]
     },
     "execution_count": 17,
     "metadata": {},
     "output_type": "execute_result"
    }
   ],
   "source": [
    "# Encoder\n",
    "enc = preprocessing.OneHotEncoder()\n",
    "enc.fit(train_X)\n",
    "train_X_one_hot = enc.transform(train_X).toarray()\n",
    "test_X_one_hot = enc.transform(test_X).toarray()\n",
    "train_X_one_hot[0]"
   ]
  },
  {
   "cell_type": "code",
   "execution_count": 18,
   "id": "75b035b1",
   "metadata": {},
   "outputs": [
    {
     "name": "stdout",
     "output_type": "stream",
     "text": [
      "[Training set] Accuracy: 0.8975, Precision: 0.8535, Recall: 0.8759, F1: 0.8646\n",
      " [Testing set] Accuracy: 0.7877, Precision: 0.6667, Recall: 0.7541, F1: 0.7077\n"
     ]
    }
   ],
   "source": [
    "acc, prec, rec, f = train_sk(train_X_one_hot, train_Y, test_X_one_hot, test_Y)\n",
    "accuracy['one_hot'] = acc\n",
    "precision['one_hot'] = prec\n",
    "recall['one_hot'] = rec\n",
    "f1['one_hot'] = f"
   ]
  },
  {
   "cell_type": "code",
   "execution_count": 19,
   "id": "8ef8d1e5",
   "metadata": {},
   "outputs": [
    {
     "data": {
      "image/png": "[encoded data removed]",
      "text/plain": [
       "<Figure size 720x360 with 1 Axes>"
      ]
     },
     "metadata": {
      "needs_background": "light"
     },
     "output_type": "display_data"
    }
   ],
   "source": [
    "scalers = list(f1.keys())\n",
    "f_scores = list(f1.values())\n",
    "  \n",
    "fig = plt.figure(figsize = (10, 5))\n",
    " \n",
    "plt.bar(scalers, f_scores, color ='maroon',\n",
    "        width = 0.4)\n",
    " \n",
    "plt.xlabel(\"Scaler\")\n",
    "plt.ylabel(\"F1-Score\")\n",
    "plt.show()"
   ]
  },
  {
   "cell_type": "code",
   "execution_count": 20,
   "id": "99f3d204",
   "metadata": {},
   "outputs": [
    {
     "data": {
      "text/plain": [
       "{'plain': 0.7007299270072992,\n",
       " 'standard': 0.671875,\n",
       " 'minmax': 0.7086614173228347,\n",
       " 'one_hot': 0.7076923076923076}"
      ]
     },
     "execution_count": 20,
     "metadata": {},
     "output_type": "execute_result"
    }
   ],
   "source": [
    "f1"
   ]
  },
  {
   "cell_type": "code",
   "execution_count": null,
   "id": "e503061b",
   "metadata": {},
   "outputs": [],
   "source": []
  },
  {
   "cell_type": "code",
   "execution_count": null,
   "id": "b90d2579",
   "metadata": {},
   "outputs": [],
   "source": []
  },
  {
   "cell_type": "code",
   "execution_count": 21,
   "id": "cab3a865",
   "metadata": {},
   "outputs": [
    {
     "data": {
      "text/html": [
       "<div>\n",
       "<style scoped>\n",
       "    .dataframe tbody tr th:only-of-type {\n",
       "        vertical-align: middle;\n",
       "    }\n",
       "\n",
       "    .dataframe tbody tr th {\n",
       "        vertical-align: top;\n",
       "    }\n",
       "\n",
       "    .dataframe thead th {\n",
       "        text-align: right;\n",
       "    }\n",
       "</style>\n",
       "<table border=\"1\" class=\"dataframe\">\n",
       "  <thead>\n",
       "    <tr style=\"text-align: right;\">\n",
       "      <th></th>\n",
       "      <th>Survived</th>\n",
       "      <th>Pclass</th>\n",
       "      <th>Sex</th>\n",
       "      <th>SibSp</th>\n",
       "      <th>Parch</th>\n",
       "      <th>Embarked</th>\n",
       "      <th>Age_band</th>\n",
       "      <th>Family_Size</th>\n",
       "      <th>Alone</th>\n",
       "      <th>Fare_cat</th>\n",
       "    </tr>\n",
       "  </thead>\n",
       "  <tbody>\n",
       "    <tr>\n",
       "      <th>0</th>\n",
       "      <td>0</td>\n",
       "      <td>3</td>\n",
       "      <td>0</td>\n",
       "      <td>1</td>\n",
       "      <td>0</td>\n",
       "      <td>0</td>\n",
       "      <td>1</td>\n",
       "      <td>1</td>\n",
       "      <td>0</td>\n",
       "      <td>0</td>\n",
       "    </tr>\n",
       "    <tr>\n",
       "      <th>1</th>\n",
       "      <td>1</td>\n",
       "      <td>1</td>\n",
       "      <td>1</td>\n",
       "      <td>1</td>\n",
       "      <td>0</td>\n",
       "      <td>1</td>\n",
       "      <td>2</td>\n",
       "      <td>1</td>\n",
       "      <td>0</td>\n",
       "      <td>3</td>\n",
       "    </tr>\n",
       "    <tr>\n",
       "      <th>2</th>\n",
       "      <td>1</td>\n",
       "      <td>3</td>\n",
       "      <td>1</td>\n",
       "      <td>0</td>\n",
       "      <td>0</td>\n",
       "      <td>0</td>\n",
       "      <td>1</td>\n",
       "      <td>0</td>\n",
       "      <td>1</td>\n",
       "      <td>1</td>\n",
       "    </tr>\n",
       "    <tr>\n",
       "      <th>3</th>\n",
       "      <td>1</td>\n",
       "      <td>1</td>\n",
       "      <td>1</td>\n",
       "      <td>1</td>\n",
       "      <td>0</td>\n",
       "      <td>0</td>\n",
       "      <td>2</td>\n",
       "      <td>1</td>\n",
       "      <td>0</td>\n",
       "      <td>3</td>\n",
       "    </tr>\n",
       "    <tr>\n",
       "      <th>4</th>\n",
       "      <td>0</td>\n",
       "      <td>3</td>\n",
       "      <td>0</td>\n",
       "      <td>0</td>\n",
       "      <td>0</td>\n",
       "      <td>0</td>\n",
       "      <td>2</td>\n",
       "      <td>0</td>\n",
       "      <td>1</td>\n",
       "      <td>1</td>\n",
       "    </tr>\n",
       "  </tbody>\n",
       "</table>\n",
       "</div>"
      ],
      "text/plain": [
       "   Survived  Pclass  Sex  SibSp  Parch  Embarked  Age_band  Family_Size  \\\n",
       "0         0       3    0      1      0         0         1            1   \n",
       "1         1       1    1      1      0         1         2            1   \n",
       "2         1       3    1      0      0         0         1            0   \n",
       "3         1       1    1      1      0         0         2            1   \n",
       "4         0       3    0      0      0         0         2            0   \n",
       "\n",
       "   Alone  Fare_cat  \n",
       "0      0         0  \n",
       "1      0         3  \n",
       "2      1         1  \n",
       "3      0         3  \n",
       "4      1         1  "
      ]
     },
     "execution_count": 21,
     "metadata": {},
     "output_type": "execute_result"
    }
   ],
   "source": [
    "data.head()"
   ]
  },
  {
   "cell_type": "code",
   "execution_count": null,
   "id": "84f62110",
   "metadata": {},
   "outputs": [],
   "source": []
  },
  {
   "cell_type": "code",
   "execution_count": 22,
   "id": "fad52994",
   "metadata": {},
   "outputs": [
    {
     "data": {
      "text/html": [
       "<div>\n",
       "<style scoped>\n",
       "    .dataframe tbody tr th:only-of-type {\n",
       "        vertical-align: middle;\n",
       "    }\n",
       "\n",
       "    .dataframe tbody tr th {\n",
       "        vertical-align: top;\n",
       "    }\n",
       "\n",
       "    .dataframe thead th {\n",
       "        text-align: right;\n",
       "    }\n",
       "</style>\n",
       "<table border=\"1\" class=\"dataframe\">\n",
       "  <thead>\n",
       "    <tr style=\"text-align: right;\">\n",
       "      <th></th>\n",
       "      <th>Survived</th>\n",
       "      <th>SibSp</th>\n",
       "      <th>Parch</th>\n",
       "      <th>Family_Size</th>\n",
       "      <th>Pclass_1</th>\n",
       "      <th>Pclass_2</th>\n",
       "      <th>Pclass_3</th>\n",
       "      <th>Sex_0</th>\n",
       "      <th>Sex_1</th>\n",
       "      <th>Embarked_0</th>\n",
       "      <th>...</th>\n",
       "      <th>Age_band_1</th>\n",
       "      <th>Age_band_2</th>\n",
       "      <th>Age_band_3</th>\n",
       "      <th>Age_band_4</th>\n",
       "      <th>Alone_0</th>\n",
       "      <th>Alone_1</th>\n",
       "      <th>Fare_cat_0</th>\n",
       "      <th>Fare_cat_1</th>\n",
       "      <th>Fare_cat_2</th>\n",
       "      <th>Fare_cat_3</th>\n",
       "    </tr>\n",
       "  </thead>\n",
       "  <tbody>\n",
       "    <tr>\n",
       "      <th>0</th>\n",
       "      <td>0</td>\n",
       "      <td>1</td>\n",
       "      <td>0</td>\n",
       "      <td>1</td>\n",
       "      <td>0</td>\n",
       "      <td>0</td>\n",
       "      <td>1</td>\n",
       "      <td>1</td>\n",
       "      <td>0</td>\n",
       "      <td>1</td>\n",
       "      <td>...</td>\n",
       "      <td>1</td>\n",
       "      <td>0</td>\n",
       "      <td>0</td>\n",
       "      <td>0</td>\n",
       "      <td>1</td>\n",
       "      <td>0</td>\n",
       "      <td>1</td>\n",
       "      <td>0</td>\n",
       "      <td>0</td>\n",
       "      <td>0</td>\n",
       "    </tr>\n",
       "    <tr>\n",
       "      <th>1</th>\n",
       "      <td>1</td>\n",
       "      <td>1</td>\n",
       "      <td>0</td>\n",
       "      <td>1</td>\n",
       "      <td>1</td>\n",
       "      <td>0</td>\n",
       "      <td>0</td>\n",
       "      <td>0</td>\n",
       "      <td>1</td>\n",
       "      <td>0</td>\n",
       "      <td>...</td>\n",
       "      <td>0</td>\n",
       "      <td>1</td>\n",
       "      <td>0</td>\n",
       "      <td>0</td>\n",
       "      <td>1</td>\n",
       "      <td>0</td>\n",
       "      <td>0</td>\n",
       "      <td>0</td>\n",
       "      <td>0</td>\n",
       "      <td>1</td>\n",
       "    </tr>\n",
       "    <tr>\n",
       "      <th>2</th>\n",
       "      <td>1</td>\n",
       "      <td>0</td>\n",
       "      <td>0</td>\n",
       "      <td>0</td>\n",
       "      <td>0</td>\n",
       "      <td>0</td>\n",
       "      <td>1</td>\n",
       "      <td>0</td>\n",
       "      <td>1</td>\n",
       "      <td>1</td>\n",
       "      <td>...</td>\n",
       "      <td>1</td>\n",
       "      <td>0</td>\n",
       "      <td>0</td>\n",
       "      <td>0</td>\n",
       "      <td>0</td>\n",
       "      <td>1</td>\n",
       "      <td>0</td>\n",
       "      <td>1</td>\n",
       "      <td>0</td>\n",
       "      <td>0</td>\n",
       "    </tr>\n",
       "    <tr>\n",
       "      <th>3</th>\n",
       "      <td>1</td>\n",
       "      <td>1</td>\n",
       "      <td>0</td>\n",
       "      <td>1</td>\n",
       "      <td>1</td>\n",
       "      <td>0</td>\n",
       "      <td>0</td>\n",
       "      <td>0</td>\n",
       "      <td>1</td>\n",
       "      <td>1</td>\n",
       "      <td>...</td>\n",
       "      <td>0</td>\n",
       "      <td>1</td>\n",
       "      <td>0</td>\n",
       "      <td>0</td>\n",
       "      <td>1</td>\n",
       "      <td>0</td>\n",
       "      <td>0</td>\n",
       "      <td>0</td>\n",
       "      <td>0</td>\n",
       "      <td>1</td>\n",
       "    </tr>\n",
       "    <tr>\n",
       "      <th>4</th>\n",
       "      <td>0</td>\n",
       "      <td>0</td>\n",
       "      <td>0</td>\n",
       "      <td>0</td>\n",
       "      <td>0</td>\n",
       "      <td>0</td>\n",
       "      <td>1</td>\n",
       "      <td>1</td>\n",
       "      <td>0</td>\n",
       "      <td>1</td>\n",
       "      <td>...</td>\n",
       "      <td>0</td>\n",
       "      <td>1</td>\n",
       "      <td>0</td>\n",
       "      <td>0</td>\n",
       "      <td>0</td>\n",
       "      <td>1</td>\n",
       "      <td>0</td>\n",
       "      <td>1</td>\n",
       "      <td>0</td>\n",
       "      <td>0</td>\n",
       "    </tr>\n",
       "  </tbody>\n",
       "</table>\n",
       "<p>5 rows × 23 columns</p>\n",
       "</div>"
      ],
      "text/plain": [
       "   Survived  SibSp  Parch  Family_Size  Pclass_1  Pclass_2  Pclass_3  Sex_0  \\\n",
       "0         0      1      0            1         0         0         1      1   \n",
       "1         1      1      0            1         1         0         0      0   \n",
       "2         1      0      0            0         0         0         1      0   \n",
       "3         1      1      0            1         1         0         0      0   \n",
       "4         0      0      0            0         0         0         1      1   \n",
       "\n",
       "   Sex_1  Embarked_0  ...  Age_band_1  Age_band_2  Age_band_3  Age_band_4  \\\n",
       "0      0           1  ...           1           0           0           0   \n",
       "1      1           0  ...           0           1           0           0   \n",
       "2      1           1  ...           1           0           0           0   \n",
       "3      1           1  ...           0           1           0           0   \n",
       "4      0           1  ...           0           1           0           0   \n",
       "\n",
       "   Alone_0  Alone_1  Fare_cat_0  Fare_cat_1  Fare_cat_2  Fare_cat_3  \n",
       "0        1        0           1           0           0           0  \n",
       "1        1        0           0           0           0           1  \n",
       "2        0        1           0           1           0           0  \n",
       "3        1        0           0           0           0           1  \n",
       "4        0        1           0           1           0           0  \n",
       "\n",
       "[5 rows x 23 columns]"
      ]
     },
     "execution_count": 22,
     "metadata": {},
     "output_type": "execute_result"
    }
   ],
   "source": [
    "cols_one_hot = ['Pclass', 'Sex', 'Embarked', 'Age_band', 'Alone', 'Fare_cat']\n",
    "data_one_hot = pd.get_dummies(data, columns = cols_one_hot)\n",
    "data_one_hot.head()"
   ]
  },
  {
   "cell_type": "code",
   "execution_count": 23,
   "id": "064bcb70",
   "metadata": {},
   "outputs": [
    {
     "data": {
      "text/plain": [
       "Index(['Survived', 'SibSp', 'Parch', 'Family_Size', 'Pclass_1', 'Pclass_2',\n",
       "       'Pclass_3', 'Sex_0', 'Sex_1', 'Embarked_0', 'Embarked_1', 'Embarked_2',\n",
       "       'Age_band_0', 'Age_band_1', 'Age_band_2', 'Age_band_3', 'Age_band_4',\n",
       "       'Alone_0', 'Alone_1', 'Fare_cat_0', 'Fare_cat_1', 'Fare_cat_2',\n",
       "       'Fare_cat_3'],\n",
       "      dtype='object')"
      ]
     },
     "execution_count": 23,
     "metadata": {},
     "output_type": "execute_result"
    }
   ],
   "source": [
    "data_one_hot.columns"
   ]
  },
  {
   "cell_type": "code",
   "execution_count": 24,
   "id": "d90e951e",
   "metadata": {},
   "outputs": [],
   "source": [
    "train,test=train_test_split(data_one_hot,test_size=0.2,random_state=0,stratify=data['Survived'])\n",
    "train_X=train[train.columns[1:]].to_numpy()\n",
    "train_Y=train[train.columns[:1]].to_numpy().ravel()\n",
    "test_X=test[test.columns[1:]].to_numpy()\n",
    "test_Y=test[test.columns[:1]].to_numpy().ravel()"
   ]
  },
  {
   "cell_type": "code",
   "execution_count": 25,
   "id": "96969b7a",
   "metadata": {},
   "outputs": [
    {
     "name": "stdout",
     "output_type": "stream",
     "text": [
      "[Training set] Accuracy: 0.8989, Precision: 0.8791, Recall: 0.8602, F1: 0.8696\n",
      " [Testing set] Accuracy: 0.7542, Precision: 0.6377, Recall: 0.6984, F1: 0.6667\n"
     ]
    }
   ],
   "source": [
    "acc, prec, rec, f = train_sk(train_X, train_Y, test_X, test_Y)\n",
    "accuracy['some_one_hot'] = acc\n",
    "precision['some_one_hot'] = prec\n",
    "recall['some_one_hot'] = rec\n",
    "f1['some_one_hot'] = f"
   ]
  },
  {
   "cell_type": "code",
   "execution_count": 26,
   "id": "90534a9e",
   "metadata": {},
   "outputs": [
    {
     "data": {
      "image/png": "[encoded data removed]",
      "text/plain": [
       "<Figure size 720x360 with 1 Axes>"
      ]
     },
     "metadata": {
      "needs_background": "light"
     },
     "output_type": "display_data"
    }
   ],
   "source": [
    "scalers = list(f1.keys())\n",
    "f_scores = list(f1.values())\n",
    "  \n",
    "fig = plt.figure(figsize = (10, 5))\n",
    " \n",
    "plt.bar(scalers, f_scores, color ='maroon',\n",
    "        width = 0.4)\n",
    " \n",
    "plt.xlabel(\"Scaler\")\n",
    "plt.ylabel(\"F1-Score\")\n",
    "plt.show()"
   ]
  },
  {
   "cell_type": "code",
   "execution_count": 27,
   "id": "396235c6",
   "metadata": {},
   "outputs": [
    {
     "data": {
      "text/plain": [
       "{'plain': 0.7007299270072992,\n",
       " 'standard': 0.671875,\n",
       " 'minmax': 0.7086614173228347,\n",
       " 'one_hot': 0.7076923076923076,\n",
       " 'some_one_hot': 0.6666666666666666}"
      ]
     },
     "execution_count": 27,
     "metadata": {},
     "output_type": "execute_result"
    }
   ],
   "source": [
    "f1"
   ]
  }
 ],
 "metadata": {
  "kernelspec": {
   "display_name": "Python 3 (ipykernel)",
   "language": "python",
   "name": "python3"
  },
  "language_info": {
   "codemirror_mode": {
    "name": "ipython",
    "version": 3
   },
   "file_extension": ".py",
   "mimetype": "text/x-python",
   "name": "python",
   "nbconvert_exporter": "python",
   "pygments_lexer": "ipython3",
   "version": "3.8.12"
  }
 },
 "nbformat": 4,
 "nbformat_minor": 5
}
