{
 "cells": [
  {
   "cell_type": "code",
   "execution_count": 1,
   "id": "9302cb20",
   "metadata": {},
   "outputs": [],
   "source": [
    "# ----------------------------------------------------------------------------\n",
    "# Author        :    Vasileios Perifanis\n",
    "# Affiliation   :    Euclid team, Democritus University of Thrace, Dept. of Electrical & Computer Engineering\n",
    "# Created Date  :    03/2022\n",
    "# version       :    1.0\n",
    "# ---------------------------------------------------------------------------"
   ]
  },
  {
   "cell_type": "code",
   "execution_count": 2,
   "id": "435dc085",
   "metadata": {},
   "outputs": [],
   "source": [
    "import numpy as np # linear algebra\n",
    "import pandas as pd # data analysis\n",
    "from sklearn.neural_network import MLPClassifier\n",
    "from sklearn.model_selection import train_test_split\n",
    "from sklearn.metrics import accuracy_score, precision_score, recall_score, f1_score\n",
    "\n",
    "import warnings\n",
    "warnings.filterwarnings('ignore')"
   ]
  },
  {
   "cell_type": "code",
   "execution_count": 3,
   "id": "3554b353",
   "metadata": {},
   "outputs": [],
   "source": [
    "data = pd.read_csv(\"datasets/titanic_train.csv\", header=0) # read csv\n",
    "\n",
    "data['Embarked'].fillna('S',inplace=True)\n",
    "\n",
    "data['Family_Size']=0\n",
    "data['Family_Size']=data['Parch']+data['SibSp']#family size\n",
    "data['Alone']=0\n",
    "data.loc[data.Family_Size==0,'Alone']=1#Alone\n",
    "\n",
    "data['Fare_Range']=pd.qcut(data['Fare'],5)\n",
    "data['Fare_cat']=0\n",
    "data.loc[data['Fare']<=7.91,'Fare_cat']=0\n",
    "data.loc[(data['Fare']>7.91)&(data['Fare']<=14.454),'Fare_cat']=1\n",
    "data.loc[(data['Fare']>14.454)&(data['Fare']<=31),'Fare_cat']=2\n",
    "data.loc[(data['Fare']>31)&(data['Fare']<=513),'Fare_cat']=3\n",
    "\n",
    "data['Sex'].replace(['male','female'],[0,1],inplace=True)\n",
    "data['Embarked'].replace(['S','C','Q'],[0,1,2],inplace=True)\n",
    "\n",
    "data.drop(['Name','Ticket','Fare','Cabin','Fare_Range','PassengerId'],axis=1,inplace=True)"
   ]
  },
  {
   "cell_type": "code",
   "execution_count": 4,
   "id": "616bc8e0",
   "metadata": {},
   "outputs": [
    {
     "data": {
      "text/plain": [
       "Survived         0\n",
       "Pclass           0\n",
       "Sex              0\n",
       "Age            177\n",
       "SibSp            0\n",
       "Parch            0\n",
       "Embarked         0\n",
       "Family_Size      0\n",
       "Alone            0\n",
       "Fare_cat         0\n",
       "dtype: int64"
      ]
     },
     "execution_count": 4,
     "metadata": {},
     "output_type": "execute_result"
    }
   ],
   "source": [
    "data.isnull().sum()"
   ]
  },
  {
   "cell_type": "code",
   "execution_count": null,
   "id": "60bc3eeb",
   "metadata": {},
   "outputs": [],
   "source": []
  },
  {
   "cell_type": "code",
   "execution_count": 5,
   "id": "155e7db3",
   "metadata": {},
   "outputs": [],
   "source": [
    "def train_sk(train_X, train_Y, test_X, test_Y):\n",
    "    # initialize classifier\n",
    "    classifier = MLPClassifier(hidden_layer_sizes=(32,32,32), random_state=0, max_iter=500)\n",
    "\n",
    "    # train the classifier\n",
    "    classifier.fit(train_X,train_Y)\n",
    "\n",
    "    # make predictions on train/test set\n",
    "    y_pred_train = classifier.predict(train_X)\n",
    "    y_pred = classifier.predict(test_X)\n",
    "\n",
    "    # calculate scores\n",
    "    accuracy_train = accuracy_score(y_pred_train, train_Y)\n",
    "    precision_train = precision_score(y_pred_train, train_Y)\n",
    "    recall_train = recall_score(y_pred_train, train_Y)\n",
    "    f1_train = f1_score(y_pred_train, train_Y)\n",
    "\n",
    "    accuracy = accuracy_score(y_pred, test_Y)\n",
    "    precision = precision_score(y_pred, test_Y)\n",
    "    recall = recall_score(y_pred, test_Y)\n",
    "    f1 = f1_score(y_pred, test_Y)\n",
    "\n",
    "    print(f\"[Training set] Accuracy: {accuracy_train:.4f}, Precision: {precision_train:.4f}, Recall: {recall_train:.4f}, F1: {f1_train:.4f}\\n\",\n",
    "          f\"[Testing set] Accuracy: {accuracy:.4f}, Precision: {precision:.4f}, Recall: {recall:.4f}, F1: {f1:.4f}\")\n",
    "    return accuracy, precision, recall, f1"
   ]
  },
  {
   "cell_type": "code",
   "execution_count": 6,
   "id": "d6a6efa2",
   "metadata": {},
   "outputs": [],
   "source": [
    "train,test=train_test_split(data,test_size=0.2,random_state=0,stratify=data['Survived'])\n",
    "train_X=train[train.columns[1:]].to_numpy()\n",
    "train_Y=train[train.columns[:1]].to_numpy().ravel()\n",
    "test_X=test[test.columns[1:]].to_numpy()\n",
    "test_Y=test[test.columns[:1]].to_numpy().ravel()"
   ]
  },
  {
   "cell_type": "code",
   "execution_count": 7,
   "id": "89781b67",
   "metadata": {},
   "outputs": [],
   "source": [
    "accuracy, precision, recall, f1 = dict(), dict(), dict(), dict()"
   ]
  },
  {
   "cell_type": "code",
   "execution_count": null,
   "id": "4cd8f834",
   "metadata": {},
   "outputs": [],
   "source": []
  },
  {
   "cell_type": "markdown",
   "id": "a54aafbe",
   "metadata": {},
   "source": [
    "# Univariate feature imputation"
   ]
  },
  {
   "cell_type": "code",
   "execution_count": 8,
   "id": "97206554",
   "metadata": {},
   "outputs": [],
   "source": [
    "from sklearn.impute import SimpleImputer"
   ]
  },
  {
   "cell_type": "code",
   "execution_count": 9,
   "id": "5c6b1513",
   "metadata": {},
   "outputs": [],
   "source": [
    "imp = SimpleImputer(missing_values=np.nan, strategy='mean')\n",
    "imp.fit(train_X)\n",
    "train_X_mean = imp.transform(train_X)\n",
    "test_X_mean = imp.transform(test_X)"
   ]
  },
  {
   "cell_type": "code",
   "execution_count": 10,
   "id": "6409c22e",
   "metadata": {},
   "outputs": [
    {
     "name": "stdout",
     "output_type": "stream",
     "text": [
      "[Training set] Accuracy: 0.8469, Precision: 0.7289, Recall: 0.8504, F1: 0.7850\n",
      " [Testing set] Accuracy: 0.7821, Precision: 0.6087, Recall: 0.7778, F1: 0.6829\n"
     ]
    }
   ],
   "source": [
    "acc, prec, rec, f = train_sk(train_X_mean, train_Y, test_X_mean, test_Y)\n",
    "accuracy['mean'] = acc\n",
    "precision['mean'] = prec\n",
    "recall['mean'] = rec\n",
    "f1['mean'] = f"
   ]
  },
  {
   "cell_type": "code",
   "execution_count": null,
   "id": "be0aa14c",
   "metadata": {},
   "outputs": [],
   "source": []
  },
  {
   "cell_type": "code",
   "execution_count": 11,
   "id": "c67433d3",
   "metadata": {},
   "outputs": [],
   "source": [
    "imp = SimpleImputer(missing_values=np.nan, strategy='median')\n",
    "imp.fit(train_X)\n",
    "train_X_median = imp.transform(train_X)\n",
    "test_X_median = imp.transform(test_X)"
   ]
  },
  {
   "cell_type": "code",
   "execution_count": 12,
   "id": "2e598a84",
   "metadata": {},
   "outputs": [
    {
     "name": "stdout",
     "output_type": "stream",
     "text": [
      "[Training set] Accuracy: 0.8329, Precision: 0.7473, Recall: 0.8031, F1: 0.7742\n",
      " [Testing set] Accuracy: 0.7933, Precision: 0.6522, Recall: 0.7759, F1: 0.7087\n"
     ]
    }
   ],
   "source": [
    "acc, prec, rec, f = train_sk(train_X_median, train_Y, test_X_median, test_Y)\n",
    "accuracy['median'] = acc\n",
    "precision['median'] = prec\n",
    "recall['median'] = rec\n",
    "f1['median'] = f"
   ]
  },
  {
   "cell_type": "code",
   "execution_count": null,
   "id": "50da593a",
   "metadata": {},
   "outputs": [],
   "source": []
  },
  {
   "cell_type": "code",
   "execution_count": 13,
   "id": "960d40c8",
   "metadata": {},
   "outputs": [],
   "source": [
    "imp = SimpleImputer(missing_values=np.nan, strategy='most_frequent')\n",
    "imp.fit(train_X)\n",
    "train_X_mode = imp.transform(train_X)\n",
    "test_X_mode = imp.transform(test_X)"
   ]
  },
  {
   "cell_type": "code",
   "execution_count": 14,
   "id": "082bc860",
   "metadata": {},
   "outputs": [
    {
     "name": "stdout",
     "output_type": "stream",
     "text": [
      "[Training set] Accuracy: 0.8301, Precision: 0.7729, Recall: 0.7815, F1: 0.7772\n",
      " [Testing set] Accuracy: 0.7654, Precision: 0.6957, Recall: 0.6957, F1: 0.6957\n"
     ]
    }
   ],
   "source": [
    "acc, prec, rec, f = train_sk(train_X_mode, train_Y, test_X_mode, test_Y)\n",
    "accuracy['mode'] = acc\n",
    "precision['mode'] = prec\n",
    "recall['mode'] = rec\n",
    "f1['mode'] = f"
   ]
  },
  {
   "cell_type": "code",
   "execution_count": null,
   "id": "dc4e9d7a",
   "metadata": {},
   "outputs": [],
   "source": []
  },
  {
   "cell_type": "code",
   "execution_count": 15,
   "id": "f4e34072",
   "metadata": {},
   "outputs": [],
   "source": [
    "imp = SimpleImputer(missing_values=np.nan, strategy='constant', fill_value=-1.)\n",
    "imp.fit(train_X)\n",
    "train_X_custom = imp.transform(train_X)\n",
    "test_X_custom = imp.transform(test_X)"
   ]
  },
  {
   "cell_type": "code",
   "execution_count": 16,
   "id": "1cc4ce7d",
   "metadata": {},
   "outputs": [
    {
     "name": "stdout",
     "output_type": "stream",
     "text": [
      "[Training set] Accuracy: 0.8736, Precision: 0.7875, Recall: 0.8704, F1: 0.8269\n",
      " [Testing set] Accuracy: 0.7765, Precision: 0.6232, Recall: 0.7544, F1: 0.6825\n"
     ]
    }
   ],
   "source": [
    "acc, prec, rec, f = train_sk(train_X_custom, train_Y, test_X_custom, test_Y)\n",
    "accuracy['constant'] = acc\n",
    "precision['constant'] = prec\n",
    "recall['constant'] = rec\n",
    "f1['constant'] = f"
   ]
  },
  {
   "cell_type": "code",
   "execution_count": null,
   "id": "c511374f",
   "metadata": {},
   "outputs": [],
   "source": []
  },
  {
   "cell_type": "markdown",
   "id": "2d0d8ea7",
   "metadata": {},
   "source": [
    "# Multivariate feature imputation"
   ]
  },
  {
   "cell_type": "code",
   "execution_count": 17,
   "id": "e423f245",
   "metadata": {},
   "outputs": [],
   "source": [
    "from sklearn.experimental import enable_iterative_imputer\n",
    "from sklearn.impute import IterativeImputer"
   ]
  },
  {
   "cell_type": "code",
   "execution_count": 18,
   "id": "456c5229",
   "metadata": {},
   "outputs": [
    {
     "name": "stdout",
     "output_type": "stream",
     "text": [
      "[IterativeImputer] Completing matrix with shape (712, 9)\n",
      "[IterativeImputer] Ending imputation round 1/10, elapsed time 0.03\n",
      "[IterativeImputer] Change: 32.81725350633285, scaled tolerance: 0.08 \n",
      "[IterativeImputer] Ending imputation round 2/10, elapsed time 0.03\n",
      "[IterativeImputer] Change: 0.0, scaled tolerance: 0.08 \n",
      "[IterativeImputer] Early stopping criterion reached.\n",
      "[IterativeImputer] Completing matrix with shape (712, 9)\n",
      "[IterativeImputer] Ending imputation round 1/2, elapsed time 0.00\n",
      "[IterativeImputer] Ending imputation round 2/2, elapsed time 0.00\n",
      "[IterativeImputer] Completing matrix with shape (179, 9)\n",
      "[IterativeImputer] Ending imputation round 1/2, elapsed time 0.00\n",
      "[IterativeImputer] Ending imputation round 2/2, elapsed time 0.00\n"
     ]
    }
   ],
   "source": [
    "imp = IterativeImputer(missing_values=np.nan, random_state=0, initial_strategy='median', verbose=2)\n",
    "imp.fit(train_X)\n",
    "train_X_iterative = imp.transform(train_X)\n",
    "test_X_iterative = imp.transform(test_X)"
   ]
  },
  {
   "cell_type": "code",
   "execution_count": 19,
   "id": "5ac89dd5",
   "metadata": {},
   "outputs": [
    {
     "name": "stdout",
     "output_type": "stream",
     "text": [
      "[Training set] Accuracy: 0.8385, Precision: 0.7033, Recall: 0.8496, F1: 0.7695\n",
      " [Testing set] Accuracy: 0.7821, Precision: 0.6087, Recall: 0.7778, F1: 0.6829\n"
     ]
    }
   ],
   "source": [
    "acc, prec, rec, f = train_sk(train_X_iterative, train_Y, test_X_iterative, test_Y)\n",
    "accuracy['iterative'] = acc\n",
    "precision['iterative'] = prec\n",
    "recall['iterative'] = rec\n",
    "f1['iterative'] = f"
   ]
  },
  {
   "cell_type": "code",
   "execution_count": null,
   "id": "8e98d35a",
   "metadata": {},
   "outputs": [],
   "source": []
  },
  {
   "cell_type": "markdown",
   "id": "870e519f",
   "metadata": {},
   "source": [
    "# K-NN Imputer"
   ]
  },
  {
   "cell_type": "code",
   "execution_count": 20,
   "id": "25284ad9",
   "metadata": {},
   "outputs": [],
   "source": [
    "from sklearn.impute import KNNImputer"
   ]
  },
  {
   "cell_type": "code",
   "execution_count": 21,
   "id": "d24df396",
   "metadata": {},
   "outputs": [],
   "source": [
    "imp = KNNImputer(missing_values=np.nan, n_neighbors=3)\n",
    "imp.fit(train_X)\n",
    "train_X_knn = imp.transform(train_X)\n",
    "test_X_knn = imp.transform(test_X)"
   ]
  },
  {
   "cell_type": "code",
   "execution_count": 22,
   "id": "774db9b9",
   "metadata": {},
   "outputs": [
    {
     "name": "stdout",
     "output_type": "stream",
     "text": [
      "[Training set] Accuracy: 0.8455, Precision: 0.7363, Recall: 0.8410, F1: 0.7852\n",
      " [Testing set] Accuracy: 0.7821, Precision: 0.6087, Recall: 0.7778, F1: 0.6829\n"
     ]
    }
   ],
   "source": [
    "acc, prec, rec, f = train_sk(train_X_knn, train_Y, test_X_knn, test_Y)\n",
    "accuracy['knn'] = acc\n",
    "precision['knn'] = prec\n",
    "recall['knn'] = rec\n",
    "f1['knn'] = f"
   ]
  },
  {
   "cell_type": "code",
   "execution_count": null,
   "id": "5facd79f",
   "metadata": {},
   "outputs": [],
   "source": []
  },
  {
   "cell_type": "code",
   "execution_count": 23,
   "id": "672651d8",
   "metadata": {},
   "outputs": [
    {
     "data": {
      "image/png": "[encoded data removed]",
      "text/plain": [
       "<Figure size 720x360 with 1 Axes>"
      ]
     },
     "metadata": {
      "needs_background": "light"
     },
     "output_type": "display_data"
    }
   ],
   "source": [
    "import matplotlib.pyplot as plt\n",
    "\n",
    "scalers = list(f1.keys())\n",
    "f_scores = list(f1.values())\n",
    "  \n",
    "fig = plt.figure(figsize = (10, 5))\n",
    " \n",
    "plt.bar(scalers, f_scores, color ='maroon',\n",
    "        width = 0.4)\n",
    " \n",
    "plt.xlabel(\"Scaler\")\n",
    "plt.ylabel(\"F1-Score\")\n",
    "plt.show()"
   ]
  },
  {
   "cell_type": "code",
   "execution_count": 24,
   "id": "5dc88d03",
   "metadata": {},
   "outputs": [
    {
     "data": {
      "text/plain": [
       "({'mean': 0.7821229050279329,\n",
       "  'median': 0.7932960893854749,\n",
       "  'mode': 0.7653631284916201,\n",
       "  'constant': 0.776536312849162,\n",
       "  'iterative': 0.7821229050279329,\n",
       "  'knn': 0.7821229050279329},\n",
       " {'mean': 0.6086956521739131,\n",
       "  'median': 0.6521739130434783,\n",
       "  'mode': 0.6956521739130435,\n",
       "  'constant': 0.6231884057971014,\n",
       "  'iterative': 0.6086956521739131,\n",
       "  'knn': 0.6086956521739131},\n",
       " {'mean': 0.7777777777777778,\n",
       "  'median': 0.7758620689655172,\n",
       "  'mode': 0.6956521739130435,\n",
       "  'constant': 0.7543859649122807,\n",
       "  'iterative': 0.7777777777777778,\n",
       "  'knn': 0.7777777777777778},\n",
       " {'mean': 0.6829268292682927,\n",
       "  'median': 0.7086614173228347,\n",
       "  'mode': 0.6956521739130435,\n",
       "  'constant': 0.6825396825396826,\n",
       "  'iterative': 0.6829268292682927,\n",
       "  'knn': 0.6829268292682927})"
      ]
     },
     "execution_count": 24,
     "metadata": {},
     "output_type": "execute_result"
    }
   ],
   "source": [
    "accuracy, precision, recall, f1"
   ]
  }
 ],
 "metadata": {
  "kernelspec": {
   "display_name": "Python 3 (ipykernel)",
   "language": "python",
   "name": "python3"
  },
  "language_info": {
   "codemirror_mode": {
    "name": "ipython",
    "version": 3
   },
   "file_extension": ".py",
   "mimetype": "text/x-python",
   "name": "python",
   "nbconvert_exporter": "python",
   "pygments_lexer": "ipython3",
   "version": "3.8.12"
  }
 },
 "nbformat": 4,
 "nbformat_minor": 5
}
