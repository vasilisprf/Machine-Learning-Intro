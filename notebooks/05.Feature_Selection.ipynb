{
 "cells": [
  {
   "cell_type": "code",
   "execution_count": 1,
   "id": "cc2d16c4",
   "metadata": {},
   "outputs": [],
   "source": [
    "# ----------------------------------------------------------------------------\n",
    "# Author        :    Vasileios Perifanis\n",
    "# Affiliation   :    Euclid team, Democritus University of Thrace, Dept. of Electrical & Computer Engineering\n",
    "# Created Date  :    03/2022\n",
    "# version       :    1.0\n",
    "# ---------------------------------------------------------------------------"
   ]
  },
  {
   "cell_type": "code",
   "execution_count": 2,
   "id": "1f31cdcc",
   "metadata": {},
   "outputs": [],
   "source": [
    "import numpy as np # linear algebra\n",
    "import pandas as pd # data analysis\n",
    "from sklearn.neural_network import MLPClassifier\n",
    "from sklearn.model_selection import train_test_split\n",
    "from sklearn.metrics import accuracy_score, precision_score, recall_score, f1_score\n",
    "\n",
    "import warnings\n",
    "warnings.filterwarnings('ignore')"
   ]
  },
  {
   "cell_type": "code",
   "execution_count": 3,
   "id": "1cf4f026",
   "metadata": {},
   "outputs": [
    {
     "data": {
      "text/html": [
       "<div>\n",
       "<style scoped>\n",
       "    .dataframe tbody tr th:only-of-type {\n",
       "        vertical-align: middle;\n",
       "    }\n",
       "\n",
       "    .dataframe tbody tr th {\n",
       "        vertical-align: top;\n",
       "    }\n",
       "\n",
       "    .dataframe thead th {\n",
       "        text-align: right;\n",
       "    }\n",
       "</style>\n",
       "<table border=\"1\" class=\"dataframe\">\n",
       "  <thead>\n",
       "    <tr style=\"text-align: right;\">\n",
       "      <th></th>\n",
       "      <th>Survived</th>\n",
       "      <th>Pclass</th>\n",
       "      <th>Sex</th>\n",
       "      <th>SibSp</th>\n",
       "      <th>Parch</th>\n",
       "      <th>Embarked</th>\n",
       "      <th>Age_band</th>\n",
       "      <th>Family_Size</th>\n",
       "      <th>Alone</th>\n",
       "      <th>Fare_cat</th>\n",
       "    </tr>\n",
       "  </thead>\n",
       "  <tbody>\n",
       "    <tr>\n",
       "      <th>0</th>\n",
       "      <td>0</td>\n",
       "      <td>3</td>\n",
       "      <td>0</td>\n",
       "      <td>1</td>\n",
       "      <td>0</td>\n",
       "      <td>0</td>\n",
       "      <td>1</td>\n",
       "      <td>1</td>\n",
       "      <td>0</td>\n",
       "      <td>0</td>\n",
       "    </tr>\n",
       "    <tr>\n",
       "      <th>1</th>\n",
       "      <td>1</td>\n",
       "      <td>1</td>\n",
       "      <td>1</td>\n",
       "      <td>1</td>\n",
       "      <td>0</td>\n",
       "      <td>1</td>\n",
       "      <td>2</td>\n",
       "      <td>1</td>\n",
       "      <td>0</td>\n",
       "      <td>3</td>\n",
       "    </tr>\n",
       "    <tr>\n",
       "      <th>2</th>\n",
       "      <td>1</td>\n",
       "      <td>3</td>\n",
       "      <td>1</td>\n",
       "      <td>0</td>\n",
       "      <td>0</td>\n",
       "      <td>0</td>\n",
       "      <td>1</td>\n",
       "      <td>0</td>\n",
       "      <td>1</td>\n",
       "      <td>1</td>\n",
       "    </tr>\n",
       "    <tr>\n",
       "      <th>3</th>\n",
       "      <td>1</td>\n",
       "      <td>1</td>\n",
       "      <td>1</td>\n",
       "      <td>1</td>\n",
       "      <td>0</td>\n",
       "      <td>0</td>\n",
       "      <td>2</td>\n",
       "      <td>1</td>\n",
       "      <td>0</td>\n",
       "      <td>3</td>\n",
       "    </tr>\n",
       "    <tr>\n",
       "      <th>4</th>\n",
       "      <td>0</td>\n",
       "      <td>3</td>\n",
       "      <td>0</td>\n",
       "      <td>0</td>\n",
       "      <td>0</td>\n",
       "      <td>0</td>\n",
       "      <td>2</td>\n",
       "      <td>0</td>\n",
       "      <td>1</td>\n",
       "      <td>1</td>\n",
       "    </tr>\n",
       "  </tbody>\n",
       "</table>\n",
       "</div>"
      ],
      "text/plain": [
       "   Survived  Pclass  Sex  SibSp  Parch  Embarked  Age_band  Family_Size  \\\n",
       "0         0       3    0      1      0         0         1            1   \n",
       "1         1       1    1      1      0         1         2            1   \n",
       "2         1       3    1      0      0         0         1            0   \n",
       "3         1       1    1      1      0         0         2            1   \n",
       "4         0       3    0      0      0         0         2            0   \n",
       "\n",
       "   Alone  Fare_cat  \n",
       "0      0         0  \n",
       "1      0         3  \n",
       "2      1         1  \n",
       "3      0         3  \n",
       "4      1         1  "
      ]
     },
     "execution_count": 3,
     "metadata": {},
     "output_type": "execute_result"
    }
   ],
   "source": [
    "data = pd.read_csv(\"datasets/titanic_train.csv\", header=0) # read csv\n",
    "\n",
    "data['Initial']=0\n",
    "for i in data:\n",
    "    data['Initial']=data.Name.str.extract('([A-Za-z]+)\\.') #extract the Salutations\n",
    "\n",
    "# Assigning the NaN Values the mean ages\n",
    "data.loc[(data.Age.isnull())&(data.Initial=='Mr'),'Age']=33\n",
    "data.loc[(data.Age.isnull())&(data.Initial=='Mrs'),'Age']=36\n",
    "data.loc[(data.Age.isnull())&(data.Initial=='Master'),'Age']=5\n",
    "data.loc[(data.Age.isnull())&(data.Initial=='Miss'),'Age']=22\n",
    "data.loc[(data.Age.isnull())&(data.Initial=='Other'),'Age']=46\n",
    "\n",
    "data['Embarked'].fillna('S',inplace=True)\n",
    "\n",
    "data['Age_band']=0\n",
    "data.loc[data['Age']<=16,'Age_band']=0\n",
    "data.loc[(data['Age']>16)&(data['Age']<=32),'Age_band']=1\n",
    "data.loc[(data['Age']>32)&(data['Age']<=48),'Age_band']=2\n",
    "data.loc[(data['Age']>48)&(data['Age']<=64),'Age_band']=3\n",
    "data.loc[data['Age']>64,'Age_band']=4\n",
    "\n",
    "data['Family_Size']=0\n",
    "data['Family_Size']=data['Parch']+data['SibSp']#family size\n",
    "data['Alone']=0\n",
    "data.loc[data.Family_Size==0,'Alone']=1#Alone\n",
    "\n",
    "data['Fare_Range']=pd.qcut(data['Fare'],5)\n",
    "data['Fare_cat']=0\n",
    "data.loc[data['Fare']<=7.91,'Fare_cat']=0\n",
    "data.loc[(data['Fare']>7.91)&(data['Fare']<=14.454),'Fare_cat']=1\n",
    "data.loc[(data['Fare']>14.454)&(data['Fare']<=31),'Fare_cat']=2\n",
    "data.loc[(data['Fare']>31)&(data['Fare']<=513),'Fare_cat']=3\n",
    "\n",
    "data['Sex'].replace(['male','female'],[0,1],inplace=True)\n",
    "data['Embarked'].replace(['S','C','Q'],[0,1,2],inplace=True)\n",
    "data['Initial'].replace(['Mr','Mrs','Miss','Master','Other'],[0,1,2,3,4],inplace=True)\n",
    "\n",
    "data.drop(['Name','Age','Ticket','Fare','Cabin','Initial','Fare_Range','PassengerId'],axis=1,inplace=True)\n",
    "\n",
    "data.head()"
   ]
  },
  {
   "cell_type": "code",
   "execution_count": 4,
   "id": "b4a2a0b5",
   "metadata": {},
   "outputs": [],
   "source": [
    "def train_sk(train_X, train_Y, test_X, test_Y):\n",
    "    # initialize classifier\n",
    "    classifier = MLPClassifier(hidden_layer_sizes=(32,32,32), random_state=0, max_iter=500)\n",
    "\n",
    "    # train the classifier\n",
    "    classifier.fit(train_X,train_Y)\n",
    "\n",
    "    # make predictions on train/test set\n",
    "    y_pred_train = classifier.predict(train_X)\n",
    "    y_pred = classifier.predict(test_X)\n",
    "\n",
    "    # calculate scores\n",
    "    accuracy_train = accuracy_score(y_pred_train, train_Y)\n",
    "    precision_train = precision_score(y_pred_train, train_Y)\n",
    "    recall_train = recall_score(y_pred_train, train_Y)\n",
    "    f1_train = f1_score(y_pred_train, train_Y)\n",
    "\n",
    "    accuracy = accuracy_score(y_pred, test_Y)\n",
    "    precision = precision_score(y_pred, test_Y)\n",
    "    recall = recall_score(y_pred, test_Y)\n",
    "    f1 = f1_score(y_pred, test_Y)\n",
    "\n",
    "    print(f\"[Training set] Accuracy: {accuracy_train:.4f}, Precision: {precision_train:.4f}, Recall: {recall_train:.4f}, F1: {f1_train:.4f}\\n\",\n",
    "          f\"[Testing set] Accuracy: {accuracy:.4f}, Precision: {precision:.4f}, Recall: {recall:.4f}, F1: {f1:.4f}\")\n",
    "    return accuracy, precision, recall, f1"
   ]
  },
  {
   "cell_type": "code",
   "execution_count": null,
   "id": "d6c4c1e1",
   "metadata": {},
   "outputs": [],
   "source": []
  },
  {
   "cell_type": "code",
   "execution_count": 5,
   "id": "19ec1984",
   "metadata": {},
   "outputs": [],
   "source": [
    "def split(data):\n",
    "    train,test=train_test_split(data,test_size=0.2,random_state=0,stratify=data['Survived'])\n",
    "    train_X=train[train.columns[1:]].to_numpy()\n",
    "    train_Y=train[train.columns[:1]].to_numpy().ravel()\n",
    "    test_X=test[test.columns[1:]].to_numpy()\n",
    "    test_Y=test[test.columns[:1]].to_numpy().ravel()\n",
    "    return train_X, train_Y, test_X, test_Y"
   ]
  },
  {
   "cell_type": "code",
   "execution_count": null,
   "id": "a88ebc92",
   "metadata": {},
   "outputs": [],
   "source": []
  },
  {
   "cell_type": "code",
   "execution_count": null,
   "id": "6667772f",
   "metadata": {},
   "outputs": [],
   "source": []
  },
  {
   "cell_type": "code",
   "execution_count": 6,
   "id": "39697d97",
   "metadata": {},
   "outputs": [],
   "source": [
    "accuracy, precision, recall, f1 = dict(), dict(), dict(), dict()"
   ]
  },
  {
   "cell_type": "code",
   "execution_count": 7,
   "id": "27d53af2",
   "metadata": {},
   "outputs": [],
   "source": [
    "from sklearn import preprocessing"
   ]
  },
  {
   "cell_type": "code",
   "execution_count": 8,
   "id": "27e3898a",
   "metadata": {},
   "outputs": [],
   "source": [
    "train_X, train_Y, test_X, test_Y = split(data)\n",
    "min_max_scaler = preprocessing.MinMaxScaler().fit(train_X)\n",
    "train_X = min_max_scaler.transform(train_X)\n",
    "test_X = min_max_scaler.transform(test_X)"
   ]
  },
  {
   "cell_type": "code",
   "execution_count": 9,
   "id": "85bf5e4f",
   "metadata": {},
   "outputs": [
    {
     "name": "stdout",
     "output_type": "stream",
     "text": [
      "[Training set] Accuracy: 0.8820, Precision: 0.8388, Recall: 0.8513, F1: 0.8450\n",
      " [Testing set] Accuracy: 0.7933, Precision: 0.6522, Recall: 0.7759, F1: 0.7087\n"
     ]
    }
   ],
   "source": [
    "acc, prec, rec, f = train_sk(train_X, train_Y, test_X, test_Y)\n",
    "accuracy['baseline'] = acc\n",
    "precision['baseline'] = prec\n",
    "recall['baseline'] = rec\n",
    "f1['baseline'] = f"
   ]
  },
  {
   "cell_type": "code",
   "execution_count": null,
   "id": "d13be867",
   "metadata": {},
   "outputs": [],
   "source": []
  },
  {
   "cell_type": "code",
   "execution_count": 10,
   "id": "2b37cf30",
   "metadata": {},
   "outputs": [
    {
     "data": {
      "text/plain": [
       "(712, 9)"
      ]
     },
     "execution_count": 10,
     "metadata": {},
     "output_type": "execute_result"
    }
   ],
   "source": [
    "train_X.shape"
   ]
  },
  {
   "cell_type": "markdown",
   "id": "10cde7ad",
   "metadata": {},
   "source": [
    "# K-Best\n",
    "\n",
    "Selects the top-k features based on statistical tests, e.g. chi2, ANOVA, mutual information."
   ]
  },
  {
   "cell_type": "code",
   "execution_count": 11,
   "id": "b5d13b3e",
   "metadata": {},
   "outputs": [
    {
     "name": "stdout",
     "output_type": "stream",
     "text": [
      "[Training set] Accuracy: 0.8553, Precision: 0.7692, Recall: 0.8400, F1: 0.8031\n",
      " [Testing set] Accuracy: 0.7821, Precision: 0.5942, Recall: 0.7885, F1: 0.6777\n"
     ]
    }
   ],
   "source": [
    "from sklearn.feature_selection import SelectKBest, chi2, f_classif, mutual_info_classif\n",
    "\n",
    "train_X, train_Y, test_X, test_Y = split(data)\n",
    "min_max_scaler = preprocessing.MinMaxScaler().fit(train_X)\n",
    "train_X = min_max_scaler.transform(train_X)\n",
    "test_X = min_max_scaler.transform(test_X)\n",
    "X_train_new = SelectKBest(chi2, k=7).fit_transform(train_X, train_Y)\n",
    "X_test_new = SelectKBest(chi2, k=7).fit_transform(test_X, test_Y)\n",
    "\n",
    "acc, prec, rec, f = train_sk(X_train_new, train_Y, X_test_new, test_Y)\n",
    "accuracy['kbest_x2'] = acc\n",
    "precision['kbest_x2'] = prec\n",
    "recall['kbest_x2'] = rec\n",
    "f1['kbest_x2'] = f"
   ]
  },
  {
   "cell_type": "code",
   "execution_count": 12,
   "id": "b1676847",
   "metadata": {},
   "outputs": [
    {
     "name": "stdout",
     "output_type": "stream",
     "text": [
      "[Training set] Accuracy: 0.8553, Precision: 0.7692, Recall: 0.8400, F1: 0.8031\n",
      " [Testing set] Accuracy: 0.8045, Precision: 0.6377, Recall: 0.8148, F1: 0.7154\n"
     ]
    }
   ],
   "source": [
    "train_X, train_Y, test_X, test_Y = split(data)\n",
    "min_max_scaler = preprocessing.MinMaxScaler().fit(train_X)\n",
    "train_X = min_max_scaler.transform(train_X)\n",
    "test_X = min_max_scaler.transform(test_X)\n",
    "X_train_new = SelectKBest(f_classif, k=7).fit_transform(train_X, train_Y)\n",
    "X_test_new = SelectKBest(f_classif, k=7).fit_transform(test_X, test_Y)\n",
    "\n",
    "acc, prec, rec, f = train_sk(X_train_new, train_Y, X_test_new, test_Y)\n",
    "accuracy['kbest_fclassif'] = acc\n",
    "precision['kbest_fclassif'] = prec\n",
    "recall['kbest_fclassif'] = rec\n",
    "f1['kbest_fclassif'] = f"
   ]
  },
  {
   "cell_type": "code",
   "execution_count": 13,
   "id": "7dbb7d0a",
   "metadata": {},
   "outputs": [
    {
     "name": "stdout",
     "output_type": "stream",
     "text": [
      "[Training set] Accuracy: 0.8596, Precision: 0.7399, Recall: 0.8745, F1: 0.8016\n",
      " [Testing set] Accuracy: 0.7542, Precision: 0.5942, Recall: 0.7193, F1: 0.6508\n"
     ]
    }
   ],
   "source": [
    "train_X, train_Y, test_X, test_Y = split(data)\n",
    "min_max_scaler = preprocessing.MinMaxScaler().fit(train_X)\n",
    "train_X = min_max_scaler.transform(train_X)\n",
    "test_X = min_max_scaler.transform(test_X)\n",
    "X_train_new = SelectKBest(mutual_info_classif, k=7).fit_transform(train_X, train_Y)\n",
    "X_test_new = SelectKBest(mutual_info_classif, k=7).fit_transform(test_X, test_Y)\n",
    "\n",
    "acc, prec, rec, f = train_sk(X_train_new, train_Y, X_test_new, test_Y)\n",
    "accuracy['kbest_mutual_info'] = acc\n",
    "precision['kbest_mutual_info'] = prec\n",
    "recall['kbest_mutual_info'] = rec\n",
    "f1['kbest_mutual_info'] = f"
   ]
  },
  {
   "cell_type": "code",
   "execution_count": null,
   "id": "bee5e9ff",
   "metadata": {},
   "outputs": [],
   "source": []
  },
  {
   "cell_type": "markdown",
   "id": "810b6625",
   "metadata": {},
   "source": [
    "# Recursive Feature Elimination\n",
    "\n",
    "Selects features by iteratively selecting a sub-sample. First, it trains a model on the whole dataset. Then, the less important features are eliminated."
   ]
  },
  {
   "cell_type": "code",
   "execution_count": 14,
   "id": "98a1e8e3",
   "metadata": {},
   "outputs": [
    {
     "name": "stdout",
     "output_type": "stream",
     "text": [
      "[Training set] Accuracy: 0.8624, Precision: 0.7436, Recall: 0.8788, F1: 0.8056\n",
      " [Testing set] Accuracy: 0.7765, Precision: 0.5652, Recall: 0.7959, F1: 0.6610\n"
     ]
    }
   ],
   "source": [
    "from sklearn.feature_selection import RFE\n",
    "from sklearn.ensemble import RandomForestClassifier\n",
    "\n",
    "estimator = RandomForestClassifier(n_estimators=100)\n",
    "selector = RFE(estimator, n_features_to_select=7, step=1)\n",
    "\n",
    "train_X, train_Y, test_X, test_Y = split(data)\n",
    "min_max_scaler = preprocessing.MinMaxScaler().fit(train_X)\n",
    "train_X = min_max_scaler.transform(train_X)\n",
    "test_X = min_max_scaler.transform(test_X)\n",
    "X_train_new = selector.fit_transform(train_X, train_Y)\n",
    "X_test_new = selector.fit_transform(test_X, test_Y)\n",
    "\n",
    "acc, prec, rec, f = train_sk(X_train_new, train_Y, X_test_new, test_Y)\n",
    "accuracy['RFE'] = acc\n",
    "precision['RFE'] = prec\n",
    "recall['RFE'] = rec\n",
    "f1['RFE'] = f"
   ]
  },
  {
   "cell_type": "code",
   "execution_count": null,
   "id": "31fea996",
   "metadata": {},
   "outputs": [],
   "source": []
  },
  {
   "cell_type": "markdown",
   "id": "5a644637",
   "metadata": {},
   "source": [
    "# Sequential Feature Selection"
   ]
  },
  {
   "cell_type": "code",
   "execution_count": 15,
   "id": "0920824b",
   "metadata": {},
   "outputs": [
    {
     "name": "stdout",
     "output_type": "stream",
     "text": [
      "[Training set] Accuracy: 0.8483, Precision: 0.7766, Recall: 0.8185, F1: 0.7970\n",
      " [Testing set] Accuracy: 0.4693, Precision: 0.3043, Recall: 0.3088, F1: 0.3066\n"
     ]
    }
   ],
   "source": [
    "from sklearn.feature_selection import SequentialFeatureSelector\n",
    "\n",
    "estimator = RandomForestClassifier(n_estimators=100)\n",
    "sfs = SequentialFeatureSelector(estimator, n_features_to_select=7)\n",
    "\n",
    "train_X, train_Y, test_X, test_Y = split(data)\n",
    "min_max_scaler = preprocessing.MinMaxScaler().fit(train_X)\n",
    "train_X = min_max_scaler.transform(train_X)\n",
    "test_X = min_max_scaler.transform(test_X)\n",
    "X_train_new = sfs.fit_transform(train_X, train_Y)\n",
    "X_test_new = sfs.fit_transform(test_X, test_Y)\n",
    "\n",
    "acc, prec, rec, f = train_sk(X_train_new, train_Y, X_test_new, test_Y)\n",
    "accuracy['SFS'] = acc\n",
    "precision['SFS'] = prec\n",
    "recall['SFS'] = rec\n",
    "f1['SFS'] = f"
   ]
  },
  {
   "cell_type": "code",
   "execution_count": 16,
   "id": "98bc9443",
   "metadata": {},
   "outputs": [
    {
     "data": {
      "image/png": "[encoded data removed]",
      "text/plain": [
       "<Figure size 720x360 with 1 Axes>"
      ]
     },
     "metadata": {
      "needs_background": "light"
     },
     "output_type": "display_data"
    }
   ],
   "source": [
    "import matplotlib.pyplot as plt\n",
    "\n",
    "scalers = list(f1.keys())\n",
    "f_scores = list(f1.values())\n",
    "  \n",
    "fig = plt.figure(figsize = (10, 5))\n",
    " \n",
    "plt.bar(scalers, f_scores, color ='maroon',\n",
    "        width = 0.4)\n",
    " \n",
    "plt.xlabel(\"\")\n",
    "plt.ylabel(\"F1-Score\")\n",
    "plt.show()"
   ]
  },
  {
   "cell_type": "code",
   "execution_count": 17,
   "id": "d796d2e9",
   "metadata": {},
   "outputs": [
    {
     "data": {
      "text/plain": [
       "({'baseline': 0.7932960893854749,\n",
       "  'kbest_x2': 0.7821229050279329,\n",
       "  'kbest_fclassif': 0.8044692737430168,\n",
       "  'kbest_mutual_info': 0.7541899441340782,\n",
       "  'RFE': 0.776536312849162,\n",
       "  'SFS': 0.4692737430167598},\n",
       " {'baseline': 0.6521739130434783,\n",
       "  'kbest_x2': 0.5942028985507246,\n",
       "  'kbest_fclassif': 0.6376811594202898,\n",
       "  'kbest_mutual_info': 0.5942028985507246,\n",
       "  'RFE': 0.5652173913043478,\n",
       "  'SFS': 0.30434782608695654},\n",
       " {'baseline': 0.7758620689655172,\n",
       "  'kbest_x2': 0.7884615384615384,\n",
       "  'kbest_fclassif': 0.8148148148148148,\n",
       "  'kbest_mutual_info': 0.7192982456140351,\n",
       "  'RFE': 0.7959183673469388,\n",
       "  'SFS': 0.3088235294117647},\n",
       " {'baseline': 0.7086614173228347,\n",
       "  'kbest_x2': 0.6776859504132232,\n",
       "  'kbest_fclassif': 0.7154471544715448,\n",
       "  'kbest_mutual_info': 0.6507936507936508,\n",
       "  'RFE': 0.6610169491525423,\n",
       "  'SFS': 0.30656934306569344})"
      ]
     },
     "execution_count": 17,
     "metadata": {},
     "output_type": "execute_result"
    }
   ],
   "source": [
    "accuracy, precision, recall, f1"
   ]
  }
 ],
 "metadata": {
  "kernelspec": {
   "display_name": "Python 3 (ipykernel)",
   "language": "python",
   "name": "python3"
  },
  "language_info": {
   "codemirror_mode": {
    "name": "ipython",
    "version": 3
   },
   "file_extension": ".py",
   "mimetype": "text/x-python",
   "name": "python",
   "nbconvert_exporter": "python",
   "pygments_lexer": "ipython3",
   "version": "3.8.12"
  }
 },
 "nbformat": 4,
 "nbformat_minor": 5
}
