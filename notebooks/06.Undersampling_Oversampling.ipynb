{
 "cells": [
  {
   "cell_type": "code",
   "execution_count": 1,
   "id": "8b669159",
   "metadata": {},
   "outputs": [],
   "source": [
    "# ----------------------------------------------------------------------------\n",
    "# Author        :    Vasileios Perifanis\n",
    "# Affiliation   :    Euclid team, Democritus University of Thrace, Dept. of Electrical & Computer Engineering\n",
    "# Created Date  :    03/2022\n",
    "# version       :    1.0\n",
    "# ---------------------------------------------------------------------------"
   ]
  },
  {
   "cell_type": "code",
   "execution_count": 2,
   "id": "4f601436",
   "metadata": {},
   "outputs": [],
   "source": [
    "import numpy as np # linear algebra\n",
    "import pandas as pd # data analysis\n",
    "from sklearn.neural_network import MLPClassifier\n",
    "from sklearn.model_selection import train_test_split\n",
    "from sklearn.metrics import accuracy_score, precision_score, recall_score, f1_score\n",
    "from sklearn import preprocessing\n",
    "\n",
    "\n",
    "from sklearn.utils import resample\n",
    "\n",
    "from imblearn.over_sampling import SMOTE, ADASYN"
   ]
  },
  {
   "cell_type": "code",
   "execution_count": 3,
   "id": "bc8ebc7a",
   "metadata": {},
   "outputs": [
    {
     "data": {
      "text/html": [
       "<div>\n",
       "<style scoped>\n",
       "    .dataframe tbody tr th:only-of-type {\n",
       "        vertical-align: middle;\n",
       "    }\n",
       "\n",
       "    .dataframe tbody tr th {\n",
       "        vertical-align: top;\n",
       "    }\n",
       "\n",
       "    .dataframe thead th {\n",
       "        text-align: right;\n",
       "    }\n",
       "</style>\n",
       "<table border=\"1\" class=\"dataframe\">\n",
       "  <thead>\n",
       "    <tr style=\"text-align: right;\">\n",
       "      <th></th>\n",
       "      <th>Survived</th>\n",
       "      <th>Pclass</th>\n",
       "      <th>Sex</th>\n",
       "      <th>SibSp</th>\n",
       "      <th>Parch</th>\n",
       "      <th>Embarked</th>\n",
       "      <th>Age_band</th>\n",
       "      <th>Family_Size</th>\n",
       "      <th>Alone</th>\n",
       "      <th>Fare_cat</th>\n",
       "    </tr>\n",
       "  </thead>\n",
       "  <tbody>\n",
       "    <tr>\n",
       "      <th>0</th>\n",
       "      <td>0</td>\n",
       "      <td>3</td>\n",
       "      <td>0</td>\n",
       "      <td>1</td>\n",
       "      <td>0</td>\n",
       "      <td>0</td>\n",
       "      <td>1</td>\n",
       "      <td>1</td>\n",
       "      <td>0</td>\n",
       "      <td>0</td>\n",
       "    </tr>\n",
       "    <tr>\n",
       "      <th>1</th>\n",
       "      <td>1</td>\n",
       "      <td>1</td>\n",
       "      <td>1</td>\n",
       "      <td>1</td>\n",
       "      <td>0</td>\n",
       "      <td>1</td>\n",
       "      <td>2</td>\n",
       "      <td>1</td>\n",
       "      <td>0</td>\n",
       "      <td>3</td>\n",
       "    </tr>\n",
       "    <tr>\n",
       "      <th>2</th>\n",
       "      <td>1</td>\n",
       "      <td>3</td>\n",
       "      <td>1</td>\n",
       "      <td>0</td>\n",
       "      <td>0</td>\n",
       "      <td>0</td>\n",
       "      <td>1</td>\n",
       "      <td>0</td>\n",
       "      <td>1</td>\n",
       "      <td>1</td>\n",
       "    </tr>\n",
       "    <tr>\n",
       "      <th>3</th>\n",
       "      <td>1</td>\n",
       "      <td>1</td>\n",
       "      <td>1</td>\n",
       "      <td>1</td>\n",
       "      <td>0</td>\n",
       "      <td>0</td>\n",
       "      <td>2</td>\n",
       "      <td>1</td>\n",
       "      <td>0</td>\n",
       "      <td>3</td>\n",
       "    </tr>\n",
       "    <tr>\n",
       "      <th>4</th>\n",
       "      <td>0</td>\n",
       "      <td>3</td>\n",
       "      <td>0</td>\n",
       "      <td>0</td>\n",
       "      <td>0</td>\n",
       "      <td>0</td>\n",
       "      <td>2</td>\n",
       "      <td>0</td>\n",
       "      <td>1</td>\n",
       "      <td>1</td>\n",
       "    </tr>\n",
       "  </tbody>\n",
       "</table>\n",
       "</div>"
      ],
      "text/plain": [
       "   Survived  Pclass  Sex  SibSp  Parch  Embarked  Age_band  Family_Size  \\\n",
       "0         0       3    0      1      0         0         1            1   \n",
       "1         1       1    1      1      0         1         2            1   \n",
       "2         1       3    1      0      0         0         1            0   \n",
       "3         1       1    1      1      0         0         2            1   \n",
       "4         0       3    0      0      0         0         2            0   \n",
       "\n",
       "   Alone  Fare_cat  \n",
       "0      0         0  \n",
       "1      0         3  \n",
       "2      1         1  \n",
       "3      0         3  \n",
       "4      1         1  "
      ]
     },
     "execution_count": 3,
     "metadata": {},
     "output_type": "execute_result"
    }
   ],
   "source": [
    "data = pd.read_csv(\"datasets/titanic_train.csv\", header=0) # read csv\n",
    "\n",
    "data['Initial']=0\n",
    "for i in data:\n",
    "    data['Initial']=data.Name.str.extract('([A-Za-z]+)\\.') #extract the Salutations\n",
    "\n",
    "# Assigning the NaN Values the mean ages\n",
    "data.loc[(data.Age.isnull())&(data.Initial=='Mr'),'Age']=33\n",
    "data.loc[(data.Age.isnull())&(data.Initial=='Mrs'),'Age']=36\n",
    "data.loc[(data.Age.isnull())&(data.Initial=='Master'),'Age']=5\n",
    "data.loc[(data.Age.isnull())&(data.Initial=='Miss'),'Age']=22\n",
    "data.loc[(data.Age.isnull())&(data.Initial=='Other'),'Age']=46\n",
    "\n",
    "data['Embarked'].fillna('S',inplace=True)\n",
    "\n",
    "data['Age_band']=0\n",
    "data.loc[data['Age']<=16,'Age_band']=0\n",
    "data.loc[(data['Age']>16)&(data['Age']<=32),'Age_band']=1\n",
    "data.loc[(data['Age']>32)&(data['Age']<=48),'Age_band']=2\n",
    "data.loc[(data['Age']>48)&(data['Age']<=64),'Age_band']=3\n",
    "data.loc[data['Age']>64,'Age_band']=4\n",
    "\n",
    "data['Family_Size']=0\n",
    "data['Family_Size']=data['Parch']+data['SibSp']#family size\n",
    "data['Alone']=0\n",
    "data.loc[data.Family_Size==0,'Alone']=1#Alone\n",
    "\n",
    "data['Fare_Range']=pd.qcut(data['Fare'],5)\n",
    "data['Fare_cat']=0\n",
    "data.loc[data['Fare']<=7.91,'Fare_cat']=0\n",
    "data.loc[(data['Fare']>7.91)&(data['Fare']<=14.454),'Fare_cat']=1\n",
    "data.loc[(data['Fare']>14.454)&(data['Fare']<=31),'Fare_cat']=2\n",
    "data.loc[(data['Fare']>31)&(data['Fare']<=513),'Fare_cat']=3\n",
    "\n",
    "data['Sex'].replace(['male','female'],[0,1],inplace=True)\n",
    "data['Embarked'].replace(['S','C','Q'],[0,1,2],inplace=True)\n",
    "data['Initial'].replace(['Mr','Mrs','Miss','Master','Other'],[0,1,2,3,4],inplace=True)\n",
    "\n",
    "data.drop(['Name','Age','Ticket','Fare','Cabin','Initial','Fare_Range','PassengerId'],axis=1,inplace=True)\n",
    "\n",
    "data.head()"
   ]
  },
  {
   "cell_type": "code",
   "execution_count": 4,
   "id": "d073b8eb",
   "metadata": {},
   "outputs": [],
   "source": [
    "def train_sk(train_X, train_Y, test_X, test_Y):\n",
    "    # initialize classifier\n",
    "    classifier = MLPClassifier(hidden_layer_sizes=(32,16,8), random_state=0, max_iter=1000)\n",
    "\n",
    "    # train the classifier\n",
    "    classifier.fit(train_X,train_Y)\n",
    "\n",
    "    # make predictions on train/test set\n",
    "    y_pred_train = classifier.predict(train_X)\n",
    "    y_pred = classifier.predict(test_X)\n",
    "\n",
    "    # calculate scores\n",
    "    accuracy_train = accuracy_score(y_pred_train, train_Y)\n",
    "    precision_train = precision_score(y_pred_train, train_Y)\n",
    "    recall_train = recall_score(y_pred_train, train_Y)\n",
    "    f1_train = f1_score(y_pred_train, train_Y)\n",
    "\n",
    "    accuracy = accuracy_score(y_pred, test_Y)\n",
    "    precision = precision_score(y_pred, test_Y)\n",
    "    recall = recall_score(y_pred, test_Y)\n",
    "    f1 = f1_score(y_pred, test_Y)\n",
    "\n",
    "    print(f\"[Training set] Accuracy: {accuracy_train:.4f}, Precision: {precision_train:.4f}, Recall: {recall_train:.4f}, F1: {f1_train:.4f}\\n\",\n",
    "          f\"[Testing set] Accuracy: {accuracy:.4f}, Precision: {precision:.4f}, Recall: {recall:.4f}, F1: {f1:.4f}\")\n",
    "    return accuracy, precision, recall, f1"
   ]
  },
  {
   "cell_type": "code",
   "execution_count": 5,
   "id": "53a19d9e",
   "metadata": {},
   "outputs": [],
   "source": [
    "def split(data):\n",
    "    train,test=train_test_split(data,test_size=0.2,random_state=0,stratify=data['Survived'])\n",
    "    return train, test\n",
    "def to_numpy(train, test):\n",
    "    train_X=train[train.columns[1:]].to_numpy()\n",
    "    train_Y=train[train.columns[:1]].to_numpy().ravel()\n",
    "    test_X=test[test.columns[1:]].to_numpy()\n",
    "    test_Y=test[test.columns[:1]].to_numpy().ravel()\n",
    "    return train_X, train_Y, test_X, test_Y"
   ]
  },
  {
   "cell_type": "code",
   "execution_count": null,
   "id": "85e67339",
   "metadata": {},
   "outputs": [],
   "source": []
  },
  {
   "cell_type": "code",
   "execution_count": 6,
   "id": "3a4ba30b",
   "metadata": {},
   "outputs": [
    {
     "data": {
      "text/plain": [
       "0    549\n",
       "1    342\n",
       "Name: Survived, dtype: int64"
      ]
     },
     "execution_count": 6,
     "metadata": {},
     "output_type": "execute_result"
    }
   ],
   "source": [
    "data.Survived.value_counts()"
   ]
  },
  {
   "cell_type": "code",
   "execution_count": 7,
   "id": "cb48190d",
   "metadata": {},
   "outputs": [],
   "source": [
    "train, test = split(data)"
   ]
  },
  {
   "cell_type": "code",
   "execution_count": 8,
   "id": "1cca97d6",
   "metadata": {},
   "outputs": [
    {
     "data": {
      "text/plain": [
       "0    439\n",
       "1    273\n",
       "Name: Survived, dtype: int64"
      ]
     },
     "execution_count": 8,
     "metadata": {},
     "output_type": "execute_result"
    }
   ],
   "source": [
    "train.Survived.value_counts()"
   ]
  },
  {
   "cell_type": "code",
   "execution_count": 9,
   "id": "e0872cb4",
   "metadata": {},
   "outputs": [
    {
     "data": {
      "text/plain": [
       "0    110\n",
       "1     69\n",
       "Name: Survived, dtype: int64"
      ]
     },
     "execution_count": 9,
     "metadata": {},
     "output_type": "execute_result"
    }
   ],
   "source": [
    "test.Survived.value_counts()"
   ]
  },
  {
   "cell_type": "code",
   "execution_count": 10,
   "id": "8060eb61",
   "metadata": {},
   "outputs": [
    {
     "data": {
      "text/plain": [
       "{0: 110, 1: 69}"
      ]
     },
     "execution_count": 10,
     "metadata": {},
     "output_type": "execute_result"
    }
   ],
   "source": [
    "dict(test.Survived.value_counts())"
   ]
  },
  {
   "cell_type": "code",
   "execution_count": null,
   "id": "8ea9e769",
   "metadata": {},
   "outputs": [],
   "source": []
  },
  {
   "cell_type": "code",
   "execution_count": 11,
   "id": "35afaf7b",
   "metadata": {},
   "outputs": [],
   "source": [
    "accuracy, precision, recall, f1 = dict(), dict(), dict(), dict()"
   ]
  },
  {
   "cell_type": "code",
   "execution_count": 12,
   "id": "f7ac5e0c",
   "metadata": {},
   "outputs": [],
   "source": [
    "train_X, train_Y, test_X, test_Y = to_numpy(train, test)\n",
    "min_max_scaler = preprocessing.MinMaxScaler().fit(train_X)\n",
    "train_X = min_max_scaler.transform(train_X)\n",
    "test_X = min_max_scaler.transform(test_X)"
   ]
  },
  {
   "cell_type": "code",
   "execution_count": 13,
   "id": "f51a8729",
   "metadata": {},
   "outputs": [
    {
     "name": "stdout",
     "output_type": "stream",
     "text": [
      "[Training set] Accuracy: 0.8596, Precision: 0.7326, Recall: 0.8811, F1: 0.8000\n",
      " [Testing set] Accuracy: 0.7765, Precision: 0.5942, Recall: 0.7736, F1: 0.6721\n"
     ]
    }
   ],
   "source": [
    "acc, prec, rec, f = train_sk(train_X, train_Y, test_X, test_Y)\n",
    "accuracy['baseline'] = acc\n",
    "precision['baseline'] = prec\n",
    "recall['baseline'] = rec\n",
    "f1['baseline'] = f"
   ]
  },
  {
   "cell_type": "code",
   "execution_count": null,
   "id": "469be9b5",
   "metadata": {},
   "outputs": [],
   "source": []
  },
  {
   "cell_type": "code",
   "execution_count": null,
   "id": "d227f112",
   "metadata": {},
   "outputs": [],
   "source": []
  },
  {
   "cell_type": "markdown",
   "id": "f517bbe1",
   "metadata": {},
   "source": [
    "# Random Oversampling"
   ]
  },
  {
   "cell_type": "code",
   "execution_count": 14,
   "id": "3f72ef80",
   "metadata": {},
   "outputs": [],
   "source": [
    "def random_oversampling(train_data, target='Survived', random_state=0):\n",
    "    zeroes = train_data[train_data[target] == 0]\n",
    "    ones = train_data[train_data[target] == 1]\n",
    "    print(\"Zeroes:\", len(zeroes), \"Ones:\", len(ones))\n",
    "    \n",
    "    minority = ones if len(zeroes) - len(ones) >= len(ones) - len(zeroes) else zeroes\n",
    "    majority = zeroes if len(minority) == len(ones) else ones \n",
    "    \n",
    "    upsampled_minority = resample(minority,\n",
    "                        replace=True, # sample with replacement\n",
    "                        n_samples=len(majority), # match number of instances in the majority class\n",
    "                        random_state=random_state)\n",
    "    upsampled = pd.concat([majority, upsampled_minority])\n",
    "    print(upsampled[target].value_counts())\n",
    "    return upsampled\n",
    "    \n",
    "    "
   ]
  },
  {
   "cell_type": "code",
   "execution_count": 15,
   "id": "d1d63884",
   "metadata": {},
   "outputs": [
    {
     "name": "stdout",
     "output_type": "stream",
     "text": [
      "Zeroes: 439 Ones: 273\n",
      "0    439\n",
      "1    439\n",
      "Name: Survived, dtype: int64\n"
     ]
    }
   ],
   "source": [
    "train_random_oversampling = random_oversampling(train)"
   ]
  },
  {
   "cell_type": "code",
   "execution_count": 16,
   "id": "c118c518",
   "metadata": {},
   "outputs": [],
   "source": [
    "train_X, train_Y, test_X, test_Y = to_numpy(train_random_oversampling, test)\n",
    "min_max_scaler = preprocessing.MinMaxScaler().fit(train_X)\n",
    "train_X = min_max_scaler.transform(train_X)\n",
    "test_X = min_max_scaler.transform(test_X)"
   ]
  },
  {
   "cell_type": "code",
   "execution_count": 17,
   "id": "b561866c",
   "metadata": {},
   "outputs": [
    {
     "name": "stdout",
     "output_type": "stream",
     "text": [
      "[Training set] Accuracy: 0.8850, Precision: 0.8656, Recall: 0.9005, F1: 0.8827\n",
      " [Testing set] Accuracy: 0.7598, Precision: 0.6377, Recall: 0.7097, F1: 0.6718\n"
     ]
    }
   ],
   "source": [
    "acc, prec, rec, f = train_sk(train_X, train_Y, test_X, test_Y)\n",
    "accuracy['oversampling'] = acc\n",
    "precision['oversampling'] = prec\n",
    "recall['oversampling'] = rec\n",
    "f1['oversampling'] = f"
   ]
  },
  {
   "cell_type": "code",
   "execution_count": null,
   "id": "f3e21fa6",
   "metadata": {},
   "outputs": [],
   "source": []
  },
  {
   "cell_type": "code",
   "execution_count": null,
   "id": "0c01bc04",
   "metadata": {},
   "outputs": [],
   "source": []
  },
  {
   "cell_type": "code",
   "execution_count": 18,
   "id": "c1111dfc",
   "metadata": {},
   "outputs": [],
   "source": [
    "def random_undersampling(train_data, target='Survived', random_state=0):\n",
    "    zeroes = train_data[train_data[target] == 0]\n",
    "    ones = train_data[train_data[target] == 1]\n",
    "    print(\"Zeroes:\", len(zeroes), \"Ones:\", len(ones))\n",
    "    \n",
    "    minority = ones if len(zeroes) - len(ones) >= len(ones) - len(zeroes) else zeroes\n",
    "    majority = zeroes if len(minority) == len(ones) else ones \n",
    "    \n",
    "    undersampled_majority = resample(majority,\n",
    "                        replace=False, # sample without replacement\n",
    "                        n_samples=len(minority), # match number of instances in the minority class\n",
    "                        random_state=random_state)\n",
    "    downsampled = pd.concat([minority, undersampled_majority])\n",
    "    print(downsampled[target].value_counts())\n",
    "    return downsampled"
   ]
  },
  {
   "cell_type": "code",
   "execution_count": 19,
   "id": "295097f6",
   "metadata": {},
   "outputs": [
    {
     "name": "stdout",
     "output_type": "stream",
     "text": [
      "Zeroes: 439 Ones: 273\n",
      "1    273\n",
      "0    273\n",
      "Name: Survived, dtype: int64\n"
     ]
    }
   ],
   "source": [
    "train_random_undersampling = random_undersampling(train)"
   ]
  },
  {
   "cell_type": "code",
   "execution_count": 20,
   "id": "501f339c",
   "metadata": {},
   "outputs": [
    {
     "name": "stdout",
     "output_type": "stream",
     "text": [
      "[Training set] Accuracy: 0.8901, Precision: 0.8645, Recall: 0.9112, F1: 0.8872\n",
      " [Testing set] Accuracy: 0.7318, Precision: 0.6377, Recall: 0.6567, F1: 0.6471\n"
     ]
    }
   ],
   "source": [
    "train_X, train_Y, test_X, test_Y = to_numpy(train_random_undersampling, test)\n",
    "min_max_scaler = preprocessing.MinMaxScaler().fit(train_X)\n",
    "train_X = min_max_scaler.transform(train_X)\n",
    "test_X = min_max_scaler.transform(test_X)\n",
    "acc, prec, rec, f = train_sk(train_X, train_Y, test_X, test_Y)\n",
    "accuracy['undersampling'] = acc\n",
    "precision['undersampling'] = prec\n",
    "recall['undersampling'] = rec\n",
    "f1['undersampling'] = f"
   ]
  },
  {
   "cell_type": "code",
   "execution_count": null,
   "id": "734e1f51",
   "metadata": {},
   "outputs": [],
   "source": []
  },
  {
   "cell_type": "code",
   "execution_count": null,
   "id": "f0cdd3b0",
   "metadata": {},
   "outputs": [],
   "source": []
  },
  {
   "cell_type": "markdown",
   "id": "16a24411",
   "metadata": {},
   "source": [
    "# SMOTE Oversampling"
   ]
  },
  {
   "cell_type": "code",
   "execution_count": 21,
   "id": "d1a1b183",
   "metadata": {},
   "outputs": [],
   "source": [
    "def smote_oversampling(train_data, target='Survived', random_state=0):\n",
    "    y = train_data[target]\n",
    "    X = train_data.drop(target, axis=1)\n",
    "    columns = list(X.columns)\n",
    "    \n",
    "    smote = SMOTE(random_state=random_state)\n",
    "    X, y = smote.fit_resample(X, y)\n",
    "    df = pd.DataFrame(X, columns=columns)\n",
    "    df2 = pd.DataFrame(y, columns=[target])\n",
    "    targets = df2[target]\n",
    "    df = df.join(targets)\n",
    "    first_column = df.pop(target)\n",
    "    df.insert(0, target, first_column)\n",
    "    \n",
    "    print(df[target].value_counts())\n",
    "    return df"
   ]
  },
  {
   "cell_type": "code",
   "execution_count": 22,
   "id": "daed0a53",
   "metadata": {},
   "outputs": [
    {
     "name": "stdout",
     "output_type": "stream",
     "text": [
      "0    439\n",
      "1    439\n",
      "Name: Survived, dtype: int64\n"
     ]
    }
   ],
   "source": [
    "train_smote = smote_oversampling(train)"
   ]
  },
  {
   "cell_type": "code",
   "execution_count": 23,
   "id": "234c36e3",
   "metadata": {},
   "outputs": [
    {
     "data": {
      "text/html": [
       "<div>\n",
       "<style scoped>\n",
       "    .dataframe tbody tr th:only-of-type {\n",
       "        vertical-align: middle;\n",
       "    }\n",
       "\n",
       "    .dataframe tbody tr th {\n",
       "        vertical-align: top;\n",
       "    }\n",
       "\n",
       "    .dataframe thead th {\n",
       "        text-align: right;\n",
       "    }\n",
       "</style>\n",
       "<table border=\"1\" class=\"dataframe\">\n",
       "  <thead>\n",
       "    <tr style=\"text-align: right;\">\n",
       "      <th></th>\n",
       "      <th>Survived</th>\n",
       "      <th>Pclass</th>\n",
       "      <th>Sex</th>\n",
       "      <th>SibSp</th>\n",
       "      <th>Parch</th>\n",
       "      <th>Embarked</th>\n",
       "      <th>Age_band</th>\n",
       "      <th>Family_Size</th>\n",
       "      <th>Alone</th>\n",
       "      <th>Fare_cat</th>\n",
       "    </tr>\n",
       "  </thead>\n",
       "  <tbody>\n",
       "    <tr>\n",
       "      <th>0</th>\n",
       "      <td>0</td>\n",
       "      <td>3</td>\n",
       "      <td>1</td>\n",
       "      <td>0</td>\n",
       "      <td>0</td>\n",
       "      <td>2</td>\n",
       "      <td>1</td>\n",
       "      <td>0</td>\n",
       "      <td>1</td>\n",
       "      <td>0</td>\n",
       "    </tr>\n",
       "    <tr>\n",
       "      <th>1</th>\n",
       "      <td>0</td>\n",
       "      <td>3</td>\n",
       "      <td>0</td>\n",
       "      <td>0</td>\n",
       "      <td>0</td>\n",
       "      <td>0</td>\n",
       "      <td>2</td>\n",
       "      <td>0</td>\n",
       "      <td>1</td>\n",
       "      <td>1</td>\n",
       "    </tr>\n",
       "    <tr>\n",
       "      <th>2</th>\n",
       "      <td>1</td>\n",
       "      <td>3</td>\n",
       "      <td>1</td>\n",
       "      <td>0</td>\n",
       "      <td>0</td>\n",
       "      <td>2</td>\n",
       "      <td>1</td>\n",
       "      <td>0</td>\n",
       "      <td>1</td>\n",
       "      <td>0</td>\n",
       "    </tr>\n",
       "    <tr>\n",
       "      <th>3</th>\n",
       "      <td>1</td>\n",
       "      <td>1</td>\n",
       "      <td>1</td>\n",
       "      <td>1</td>\n",
       "      <td>0</td>\n",
       "      <td>0</td>\n",
       "      <td>3</td>\n",
       "      <td>1</td>\n",
       "      <td>0</td>\n",
       "      <td>3</td>\n",
       "    </tr>\n",
       "    <tr>\n",
       "      <th>4</th>\n",
       "      <td>0</td>\n",
       "      <td>3</td>\n",
       "      <td>0</td>\n",
       "      <td>0</td>\n",
       "      <td>0</td>\n",
       "      <td>2</td>\n",
       "      <td>1</td>\n",
       "      <td>0</td>\n",
       "      <td>1</td>\n",
       "      <td>0</td>\n",
       "    </tr>\n",
       "    <tr>\n",
       "      <th>...</th>\n",
       "      <td>...</td>\n",
       "      <td>...</td>\n",
       "      <td>...</td>\n",
       "      <td>...</td>\n",
       "      <td>...</td>\n",
       "      <td>...</td>\n",
       "      <td>...</td>\n",
       "      <td>...</td>\n",
       "      <td>...</td>\n",
       "      <td>...</td>\n",
       "    </tr>\n",
       "    <tr>\n",
       "      <th>873</th>\n",
       "      <td>1</td>\n",
       "      <td>2</td>\n",
       "      <td>1</td>\n",
       "      <td>1</td>\n",
       "      <td>0</td>\n",
       "      <td>0</td>\n",
       "      <td>2</td>\n",
       "      <td>1</td>\n",
       "      <td>0</td>\n",
       "      <td>2</td>\n",
       "    </tr>\n",
       "    <tr>\n",
       "      <th>874</th>\n",
       "      <td>1</td>\n",
       "      <td>3</td>\n",
       "      <td>0</td>\n",
       "      <td>0</td>\n",
       "      <td>0</td>\n",
       "      <td>0</td>\n",
       "      <td>0</td>\n",
       "      <td>0</td>\n",
       "      <td>1</td>\n",
       "      <td>1</td>\n",
       "    </tr>\n",
       "    <tr>\n",
       "      <th>875</th>\n",
       "      <td>1</td>\n",
       "      <td>3</td>\n",
       "      <td>0</td>\n",
       "      <td>0</td>\n",
       "      <td>0</td>\n",
       "      <td>0</td>\n",
       "      <td>1</td>\n",
       "      <td>0</td>\n",
       "      <td>1</td>\n",
       "      <td>1</td>\n",
       "    </tr>\n",
       "    <tr>\n",
       "      <th>876</th>\n",
       "      <td>1</td>\n",
       "      <td>3</td>\n",
       "      <td>1</td>\n",
       "      <td>0</td>\n",
       "      <td>0</td>\n",
       "      <td>0</td>\n",
       "      <td>1</td>\n",
       "      <td>0</td>\n",
       "      <td>1</td>\n",
       "      <td>1</td>\n",
       "    </tr>\n",
       "    <tr>\n",
       "      <th>877</th>\n",
       "      <td>1</td>\n",
       "      <td>1</td>\n",
       "      <td>1</td>\n",
       "      <td>0</td>\n",
       "      <td>0</td>\n",
       "      <td>1</td>\n",
       "      <td>2</td>\n",
       "      <td>0</td>\n",
       "      <td>1</td>\n",
       "      <td>3</td>\n",
       "    </tr>\n",
       "  </tbody>\n",
       "</table>\n",
       "<p>878 rows × 10 columns</p>\n",
       "</div>"
      ],
      "text/plain": [
       "     Survived  Pclass  Sex  SibSp  Parch  Embarked  Age_band  Family_Size  \\\n",
       "0           0       3    1      0      0         2         1            0   \n",
       "1           0       3    0      0      0         0         2            0   \n",
       "2           1       3    1      0      0         2         1            0   \n",
       "3           1       1    1      1      0         0         3            1   \n",
       "4           0       3    0      0      0         2         1            0   \n",
       "..        ...     ...  ...    ...    ...       ...       ...          ...   \n",
       "873         1       2    1      1      0         0         2            1   \n",
       "874         1       3    0      0      0         0         0            0   \n",
       "875         1       3    0      0      0         0         1            0   \n",
       "876         1       3    1      0      0         0         1            0   \n",
       "877         1       1    1      0      0         1         2            0   \n",
       "\n",
       "     Alone  Fare_cat  \n",
       "0        1         0  \n",
       "1        1         1  \n",
       "2        1         0  \n",
       "3        0         3  \n",
       "4        1         0  \n",
       "..     ...       ...  \n",
       "873      0         2  \n",
       "874      1         1  \n",
       "875      1         1  \n",
       "876      1         1  \n",
       "877      1         3  \n",
       "\n",
       "[878 rows x 10 columns]"
      ]
     },
     "execution_count": 23,
     "metadata": {},
     "output_type": "execute_result"
    }
   ],
   "source": [
    "train_smote"
   ]
  },
  {
   "cell_type": "code",
   "execution_count": 24,
   "id": "ffd5d434",
   "metadata": {},
   "outputs": [
    {
     "name": "stdout",
     "output_type": "stream",
     "text": [
      "[Training set] Accuracy: 0.8588, Precision: 0.8474, Recall: 0.8671, F1: 0.8571\n",
      " [Testing set] Accuracy: 0.7598, Precision: 0.6667, Recall: 0.6970, F1: 0.6815\n"
     ]
    }
   ],
   "source": [
    "train_X, train_Y, test_X, test_Y = to_numpy(train_smote, test)\n",
    "min_max_scaler = preprocessing.MinMaxScaler().fit(train_X)\n",
    "train_X = min_max_scaler.transform(train_X)\n",
    "test_X = min_max_scaler.transform(test_X)\n",
    "acc, prec, rec, f = train_sk(train_X, train_Y, test_X, test_Y)\n",
    "accuracy['smote'] = acc\n",
    "precision['smote'] = prec\n",
    "recall['smote'] = rec\n",
    "f1['smote'] = f"
   ]
  },
  {
   "cell_type": "code",
   "execution_count": null,
   "id": "6e857256",
   "metadata": {},
   "outputs": [],
   "source": []
  },
  {
   "cell_type": "code",
   "execution_count": null,
   "id": "5529b80b",
   "metadata": {},
   "outputs": [],
   "source": []
  },
  {
   "cell_type": "markdown",
   "id": "895f156b",
   "metadata": {},
   "source": [
    "# ADASYN"
   ]
  },
  {
   "cell_type": "code",
   "execution_count": 25,
   "id": "e344a9c3",
   "metadata": {},
   "outputs": [],
   "source": [
    "def adasyn_oversampling(train_data, target='Survived', random_state=0):\n",
    "    y = train_data[target]\n",
    "    X = train_data.drop(target, axis=1)\n",
    "    columns = list(X.columns)\n",
    "    \n",
    "    adasyn = ADASYN(random_state=0)\n",
    "    X, y = adasyn.fit_resample(X, y)\n",
    "    df = pd.DataFrame(X, columns=columns)\n",
    "    df2 = pd.DataFrame(y, columns=[target])\n",
    "    targets = df2[target]\n",
    "    df = df.join(targets)\n",
    "    first_column = df.pop(target)\n",
    "    df.insert(0, target, first_column)\n",
    "    \n",
    "    print(df[target].value_counts())\n",
    "    return df"
   ]
  },
  {
   "cell_type": "code",
   "execution_count": 26,
   "id": "e3b682f2",
   "metadata": {},
   "outputs": [
    {
     "name": "stdout",
     "output_type": "stream",
     "text": [
      "0    439\n",
      "1    424\n",
      "Name: Survived, dtype: int64\n"
     ]
    }
   ],
   "source": [
    "train_adasyn = adasyn_oversampling(train)"
   ]
  },
  {
   "cell_type": "code",
   "execution_count": 27,
   "id": "0f6272fd",
   "metadata": {},
   "outputs": [
    {
     "name": "stdout",
     "output_type": "stream",
     "text": [
      "[Training set] Accuracy: 0.8192, Precision: 0.7665, Recall: 0.8508, F1: 0.8065\n",
      " [Testing set] Accuracy: 0.7598, Precision: 0.6957, Recall: 0.6857, F1: 0.6906\n"
     ]
    }
   ],
   "source": [
    "train_X, train_Y, test_X, test_Y = to_numpy(train_adasyn, test)\n",
    "min_max_scaler = preprocessing.MinMaxScaler().fit(train_X)\n",
    "train_X = min_max_scaler.transform(train_X)\n",
    "test_X = min_max_scaler.transform(test_X)\n",
    "acc, prec, rec, f = train_sk(train_X, train_Y, test_X, test_Y)\n",
    "accuracy['adasyn'] = acc\n",
    "precision['adasyn'] = prec\n",
    "recall['adasyn'] = rec\n",
    "f1['adasyn'] = f"
   ]
  },
  {
   "cell_type": "code",
   "execution_count": null,
   "id": "6a06d53c",
   "metadata": {},
   "outputs": [],
   "source": []
  },
  {
   "cell_type": "code",
   "execution_count": null,
   "id": "77fe3f54",
   "metadata": {},
   "outputs": [],
   "source": []
  },
  {
   "cell_type": "code",
   "execution_count": 28,
   "id": "55444a32",
   "metadata": {},
   "outputs": [
    {
     "data": {
      "image/png": "[encoded data removed]",
      "text/plain": [
       "<Figure size 720x360 with 1 Axes>"
      ]
     },
     "metadata": {
      "needs_background": "light"
     },
     "output_type": "display_data"
    }
   ],
   "source": [
    "import matplotlib.pyplot as plt\n",
    "\n",
    "scalers = list(f1.keys())\n",
    "f_scores = list(f1.values())\n",
    "  \n",
    "fig = plt.figure(figsize = (10, 5))\n",
    " \n",
    "plt.bar(scalers, f_scores, color ='maroon',\n",
    "        width = 0.4)\n",
    " \n",
    "plt.xlabel(\"\")\n",
    "plt.ylabel(\"F1-Score\")\n",
    "plt.show()"
   ]
  },
  {
   "cell_type": "code",
   "execution_count": 29,
   "id": "562629ec",
   "metadata": {},
   "outputs": [
    {
     "data": {
      "text/plain": [
       "({'baseline': 0.776536312849162,\n",
       "  'oversampling': 0.7597765363128491,\n",
       "  'undersampling': 0.7318435754189944,\n",
       "  'smote': 0.7597765363128491,\n",
       "  'adasyn': 0.7597765363128491},\n",
       " {'baseline': 0.5942028985507246,\n",
       "  'oversampling': 0.6376811594202898,\n",
       "  'undersampling': 0.6376811594202898,\n",
       "  'smote': 0.6666666666666666,\n",
       "  'adasyn': 0.6956521739130435},\n",
       " {'baseline': 0.7735849056603774,\n",
       "  'oversampling': 0.7096774193548387,\n",
       "  'undersampling': 0.6567164179104478,\n",
       "  'smote': 0.696969696969697,\n",
       "  'adasyn': 0.6857142857142857},\n",
       " {'baseline': 0.6721311475409837,\n",
       "  'oversampling': 0.6717557251908397,\n",
       "  'undersampling': 0.6470588235294118,\n",
       "  'smote': 0.6814814814814815,\n",
       "  'adasyn': 0.6906474820143885})"
      ]
     },
     "execution_count": 29,
     "metadata": {},
     "output_type": "execute_result"
    }
   ],
   "source": [
    "accuracy, precision, recall, f1"
   ]
  }
 ],
 "metadata": {
  "kernelspec": {
   "display_name": "Python 3 (ipykernel)",
   "language": "python",
   "name": "python3"
  },
  "language_info": {
   "codemirror_mode": {
    "name": "ipython",
    "version": 3
   },
   "file_extension": ".py",
   "mimetype": "text/x-python",
   "name": "python",
   "nbconvert_exporter": "python",
   "pygments_lexer": "ipython3",
   "version": "3.8.12"
  }
 },
 "nbformat": 4,
 "nbformat_minor": 5
}
