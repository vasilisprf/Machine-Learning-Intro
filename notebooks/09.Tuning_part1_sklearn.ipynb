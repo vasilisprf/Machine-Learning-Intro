{
 "cells": [
  {
   "cell_type": "code",
   "execution_count": 1,
   "id": "8fe9a7dd",
   "metadata": {},
   "outputs": [],
   "source": [
    "# ----------------------------------------------------------------------------\n",
    "# Author        :    Vasileios Perifanis\n",
    "# Affiliation   :    Euclid team, Democritus University of Thrace, Dept. of Electrical & Computer Engineering\n",
    "# Created Date  :    03/2022\n",
    "# version       :    1.0\n",
    "# ---------------------------------------------------------------------------"
   ]
  },
  {
   "cell_type": "code",
   "execution_count": 2,
   "id": "5ef2137f",
   "metadata": {},
   "outputs": [],
   "source": [
    "import numpy as np # linear algebra\n",
    "import pandas as pd # data analysis\n",
    "from sklearn.ensemble import RandomForestClassifier\n",
    "from sklearn.model_selection import train_test_split\n",
    "from sklearn.metrics import accuracy_score, precision_score, recall_score, f1_score\n",
    "from sklearn import preprocessing\n",
    "\n",
    "from sklearn.model_selection import StratifiedKFold\n",
    "\n",
    "import statistics\n",
    "\n",
    "import warnings\n",
    "warnings.filterwarnings('ignore')"
   ]
  },
  {
   "cell_type": "code",
   "execution_count": 3,
   "id": "bb9a9ec4",
   "metadata": {},
   "outputs": [
    {
     "data": {
      "text/html": [
       "<div>\n",
       "<style scoped>\n",
       "    .dataframe tbody tr th:only-of-type {\n",
       "        vertical-align: middle;\n",
       "    }\n",
       "\n",
       "    .dataframe tbody tr th {\n",
       "        vertical-align: top;\n",
       "    }\n",
       "\n",
       "    .dataframe thead th {\n",
       "        text-align: right;\n",
       "    }\n",
       "</style>\n",
       "<table border=\"1\" class=\"dataframe\">\n",
       "  <thead>\n",
       "    <tr style=\"text-align: right;\">\n",
       "      <th></th>\n",
       "      <th>Survived</th>\n",
       "      <th>Pclass</th>\n",
       "      <th>Sex</th>\n",
       "      <th>SibSp</th>\n",
       "      <th>Parch</th>\n",
       "      <th>Embarked</th>\n",
       "      <th>Age_band</th>\n",
       "      <th>Family_Size</th>\n",
       "      <th>Alone</th>\n",
       "      <th>Fare_cat</th>\n",
       "    </tr>\n",
       "  </thead>\n",
       "  <tbody>\n",
       "    <tr>\n",
       "      <th>0</th>\n",
       "      <td>0</td>\n",
       "      <td>3</td>\n",
       "      <td>0</td>\n",
       "      <td>1</td>\n",
       "      <td>0</td>\n",
       "      <td>0</td>\n",
       "      <td>1</td>\n",
       "      <td>1</td>\n",
       "      <td>0</td>\n",
       "      <td>0</td>\n",
       "    </tr>\n",
       "    <tr>\n",
       "      <th>1</th>\n",
       "      <td>1</td>\n",
       "      <td>1</td>\n",
       "      <td>1</td>\n",
       "      <td>1</td>\n",
       "      <td>0</td>\n",
       "      <td>1</td>\n",
       "      <td>2</td>\n",
       "      <td>1</td>\n",
       "      <td>0</td>\n",
       "      <td>3</td>\n",
       "    </tr>\n",
       "    <tr>\n",
       "      <th>2</th>\n",
       "      <td>1</td>\n",
       "      <td>3</td>\n",
       "      <td>1</td>\n",
       "      <td>0</td>\n",
       "      <td>0</td>\n",
       "      <td>0</td>\n",
       "      <td>1</td>\n",
       "      <td>0</td>\n",
       "      <td>1</td>\n",
       "      <td>1</td>\n",
       "    </tr>\n",
       "    <tr>\n",
       "      <th>3</th>\n",
       "      <td>1</td>\n",
       "      <td>1</td>\n",
       "      <td>1</td>\n",
       "      <td>1</td>\n",
       "      <td>0</td>\n",
       "      <td>0</td>\n",
       "      <td>2</td>\n",
       "      <td>1</td>\n",
       "      <td>0</td>\n",
       "      <td>3</td>\n",
       "    </tr>\n",
       "    <tr>\n",
       "      <th>4</th>\n",
       "      <td>0</td>\n",
       "      <td>3</td>\n",
       "      <td>0</td>\n",
       "      <td>0</td>\n",
       "      <td>0</td>\n",
       "      <td>0</td>\n",
       "      <td>2</td>\n",
       "      <td>0</td>\n",
       "      <td>1</td>\n",
       "      <td>1</td>\n",
       "    </tr>\n",
       "  </tbody>\n",
       "</table>\n",
       "</div>"
      ],
      "text/plain": [
       "   Survived  Pclass  Sex  SibSp  Parch  Embarked  Age_band  Family_Size  \\\n",
       "0         0       3    0      1      0         0         1            1   \n",
       "1         1       1    1      1      0         1         2            1   \n",
       "2         1       3    1      0      0         0         1            0   \n",
       "3         1       1    1      1      0         0         2            1   \n",
       "4         0       3    0      0      0         0         2            0   \n",
       "\n",
       "   Alone  Fare_cat  \n",
       "0      0         0  \n",
       "1      0         3  \n",
       "2      1         1  \n",
       "3      0         3  \n",
       "4      1         1  "
      ]
     },
     "execution_count": 3,
     "metadata": {},
     "output_type": "execute_result"
    }
   ],
   "source": [
    "data = pd.read_csv(\"datasets/titanic_train.csv\", header=0) # read csv\n",
    "\n",
    "data['Initial']=0\n",
    "for i in data:\n",
    "    data['Initial']=data.Name.str.extract('([A-Za-z]+)\\.') #extract the Salutations\n",
    "\n",
    "# Assigning the NaN Values the mean ages\n",
    "data.loc[(data.Age.isnull())&(data.Initial=='Mr'),'Age']=33\n",
    "data.loc[(data.Age.isnull())&(data.Initial=='Mrs'),'Age']=36\n",
    "data.loc[(data.Age.isnull())&(data.Initial=='Master'),'Age']=5\n",
    "data.loc[(data.Age.isnull())&(data.Initial=='Miss'),'Age']=22\n",
    "data.loc[(data.Age.isnull())&(data.Initial=='Other'),'Age']=46\n",
    "\n",
    "data['Embarked'].fillna('S',inplace=True)\n",
    "\n",
    "data['Age_band']=0\n",
    "data.loc[data['Age']<=16,'Age_band']=0\n",
    "data.loc[(data['Age']>16)&(data['Age']<=32),'Age_band']=1\n",
    "data.loc[(data['Age']>32)&(data['Age']<=48),'Age_band']=2\n",
    "data.loc[(data['Age']>48)&(data['Age']<=64),'Age_band']=3\n",
    "data.loc[data['Age']>64,'Age_band']=4\n",
    "\n",
    "data['Family_Size']=0\n",
    "data['Family_Size']=data['Parch']+data['SibSp']#family size\n",
    "data['Alone']=0\n",
    "data.loc[data.Family_Size==0,'Alone']=1#Alone\n",
    "\n",
    "data['Fare_Range']=pd.qcut(data['Fare'],5)\n",
    "data['Fare_cat']=0\n",
    "data.loc[data['Fare']<=7.91,'Fare_cat']=0\n",
    "data.loc[(data['Fare']>7.91)&(data['Fare']<=14.454),'Fare_cat']=1\n",
    "data.loc[(data['Fare']>14.454)&(data['Fare']<=31),'Fare_cat']=2\n",
    "data.loc[(data['Fare']>31)&(data['Fare']<=513),'Fare_cat']=3\n",
    "\n",
    "data['Sex'].replace(['male','female'],[0,1],inplace=True)\n",
    "data['Embarked'].replace(['S','C','Q'],[0,1,2],inplace=True)\n",
    "data['Initial'].replace(['Mr','Mrs','Miss','Master','Other'],[0,1,2,3,4],inplace=True)\n",
    "\n",
    "data.drop(['Name','Age','Ticket','Fare','Cabin','Initial','Fare_Range','PassengerId'],axis=1,inplace=True)\n",
    "\n",
    "data.head()"
   ]
  },
  {
   "cell_type": "code",
   "execution_count": 4,
   "id": "6fc4131d",
   "metadata": {},
   "outputs": [],
   "source": [
    "def get_Xy_to_numpy(dataset):\n",
    "    X = dataset[dataset.columns[1:]].to_numpy()\n",
    "    y = dataset[dataset.columns[:1]].to_numpy().ravel()\n",
    "    return X, y"
   ]
  },
  {
   "cell_type": "code",
   "execution_count": 5,
   "id": "26e58e11",
   "metadata": {},
   "outputs": [],
   "source": [
    "def train_sk(train_X, train_Y, test_X, test_Y):\n",
    "    # initialize classifier\n",
    "    classifier = RandomForestClassifier()\n",
    "\n",
    "    # train the classifier\n",
    "    classifier.fit(train_X,train_Y)\n",
    "\n",
    "    # make predictions on train/test set\n",
    "    y_pred_train = classifier.predict(train_X)\n",
    "    y_pred = classifier.predict(test_X)\n",
    "\n",
    "    # calculate scores\n",
    "    accuracy_train = accuracy_score(y_pred_train, train_Y)\n",
    "    precision_train = precision_score(y_pred_train, train_Y)\n",
    "    recall_train = recall_score(y_pred_train, train_Y)\n",
    "    f1_train = f1_score(y_pred_train, train_Y)\n",
    "\n",
    "    accuracy = accuracy_score(y_pred, test_Y)\n",
    "    precision = precision_score(y_pred, test_Y)\n",
    "    recall = recall_score(y_pred, test_Y)\n",
    "    f1 = f1_score(y_pred, test_Y)\n",
    "\n",
    "    print(f\"[Training set] Accuracy: {accuracy_train:.4f}, Precision: {precision_train:.4f}, Recall: {recall_train:.4f}, F1: {f1_train:.4f}\\n\",\n",
    "          f\"[Testing set] Accuracy: {accuracy:.4f}, Precision: {precision:.4f}, Recall: {recall:.4f}, F1: {f1:.4f}\")\n",
    "    return accuracy, precision, recall, f1"
   ]
  },
  {
   "cell_type": "code",
   "execution_count": 6,
   "id": "cdb3b26c",
   "metadata": {},
   "outputs": [],
   "source": [
    "def get_statistics(accuracy, precision, recall, f):\n",
    "    print(f\"Stdev:\\n\\tAcc: {statistics.stdev(accuracy):.4f}\\n\\tPre: {statistics.stdev(precision):.4f}\\n\\tRec: {statistics.stdev(recall):.4f}\\n\\tF1: {statistics.stdev(f):.4f}\")\n",
    "    print(f\"Mean Scores:\\n\\tAcc: {statistics.mean(accuracy):.4f}\\n\\tPre: {statistics.mean(precision):.4f}\\n\\tRec: {statistics.mean(recall):.4f}\\n\\tF1: {statistics.mean(f):.4f}\")\n",
    "    return statistics.mean(f)"
   ]
  },
  {
   "cell_type": "code",
   "execution_count": null,
   "id": "b732b23f",
   "metadata": {},
   "outputs": [],
   "source": []
  },
  {
   "cell_type": "code",
   "execution_count": 7,
   "id": "3fe0cc87",
   "metadata": {},
   "outputs": [],
   "source": [
    "X, y = get_Xy_to_numpy(data)\n",
    "min_max_scaler = preprocessing.MinMaxScaler().fit(X)\n",
    "X = min_max_scaler.transform(X)"
   ]
  },
  {
   "cell_type": "code",
   "execution_count": 8,
   "id": "1b006649",
   "metadata": {},
   "outputs": [],
   "source": [
    "skf = StratifiedKFold(n_splits=10, shuffle=True, random_state=0)"
   ]
  },
  {
   "cell_type": "code",
   "execution_count": 9,
   "id": "c1cc24bf",
   "metadata": {},
   "outputs": [],
   "source": [
    "global_f1 = dict()\n",
    "accuracy, precision, recall, f1 = dict(), dict(), dict(), dict()"
   ]
  },
  {
   "cell_type": "code",
   "execution_count": 10,
   "id": "47b03773",
   "metadata": {},
   "outputs": [
    {
     "name": "stdout",
     "output_type": "stream",
     "text": [
      "[Training set] Accuracy: 0.8864, Precision: 0.8208, Recall: 0.8750, F1: 0.8471\n",
      " [Testing set] Accuracy: 0.8333, Precision: 0.7429, Recall: 0.8125, F1: 0.7761\n",
      "[Training set] Accuracy: 0.8890, Precision: 0.8279, Recall: 0.8763, F1: 0.8514\n",
      " [Testing set] Accuracy: 0.8427, Precision: 0.7059, Recall: 0.8571, F1: 0.7742\n",
      "[Training set] Accuracy: 0.8915, Precision: 0.8084, Recall: 0.8989, F1: 0.8513\n",
      " [Testing set] Accuracy: 0.7528, Precision: 0.6471, Recall: 0.6875, F1: 0.6667\n",
      "[Training set] Accuracy: 0.8903, Precision: 0.8149, Recall: 0.8901, F1: 0.8508\n",
      " [Testing set] Accuracy: 0.8539, Precision: 0.7941, Recall: 0.8182, F1: 0.8060\n",
      "[Training set] Accuracy: 0.8878, Precision: 0.8149, Recall: 0.8838, F1: 0.8480\n",
      " [Testing set] Accuracy: 0.8090, Precision: 0.7941, Recall: 0.7297, F1: 0.7606\n",
      "[Training set] Accuracy: 0.8890, Precision: 0.8019, Recall: 0.8982, F1: 0.8473\n",
      " [Testing set] Accuracy: 0.8202, Precision: 0.7647, Recall: 0.7647, F1: 0.7647\n",
      "[Training set] Accuracy: 0.8953, Precision: 0.8442, Recall: 0.8784, F1: 0.8609\n",
      " [Testing set] Accuracy: 0.7753, Precision: 0.6765, Recall: 0.7188, F1: 0.6970\n",
      "[Training set] Accuracy: 0.8853, Precision: 0.8149, Recall: 0.8776, F1: 0.8451\n",
      " [Testing set] Accuracy: 0.8652, Precision: 0.7647, Recall: 0.8667, F1: 0.8125\n",
      "[Training set] Accuracy: 0.8915, Precision: 0.8344, Recall: 0.8771, F1: 0.8552\n",
      " [Testing set] Accuracy: 0.8090, Precision: 0.7353, Recall: 0.7576, F1: 0.7463\n",
      "[Training set] Accuracy: 0.8915, Precision: 0.8274, Recall: 0.8819, F1: 0.8538\n",
      " [Testing set] Accuracy: 0.7640, Precision: 0.6286, Recall: 0.7333, F1: 0.6769\n",
      "Stdev:\n",
      "\tAcc: 0.0383\n",
      "\tPre: 0.0589\n",
      "\tRec: 0.0610\n",
      "\tF1: 0.0513\n",
      "Mean Scores:\n",
      "\tAcc: 0.8125\n",
      "\tPre: 0.7254\n",
      "\tRec: 0.7746\n",
      "\tF1: 0.7481\n"
     ]
    }
   ],
   "source": [
    "for i, (train_idx, test_idx) in enumerate(skf.split(X, y)):\n",
    "    X_train, X_test = X[train_idx], X[test_idx]\n",
    "    y_train, y_test = y[train_idx], y[test_idx]\n",
    "    \n",
    "    acc, prec, rec, f = train_sk(X_train, y_train, X_test, y_test)\n",
    "    accuracy[i] = acc\n",
    "    precision[i] = prec\n",
    "    recall[i] = rec\n",
    "    f1[i] = f\n",
    "mean_f_score = get_statistics(list(accuracy.values()), list(precision.values()), list(recall.values()), list(f1.values()))\n",
    "global_f1['baseline'] = mean_f_score"
   ]
  },
  {
   "cell_type": "code",
   "execution_count": null,
   "id": "aa4fb238",
   "metadata": {},
   "outputs": [],
   "source": []
  },
  {
   "cell_type": "code",
   "execution_count": 11,
   "id": "4c96d307",
   "metadata": {},
   "outputs": [],
   "source": [
    "from sklearn.model_selection import GridSearchCV\n",
    "from sklearn.metrics import make_scorer"
   ]
  },
  {
   "cell_type": "code",
   "execution_count": 12,
   "id": "dfdf7a55",
   "metadata": {},
   "outputs": [],
   "source": [
    "# parameters we want to tune\n",
    "parameters = {'n_estimators':[10, 20, 50, 80, 100],\n",
    "              'criterion':['gini', 'entropy']}\n",
    "# define the scoring metric\n",
    "scorer = make_scorer(f1_score)\n",
    "# define the classifier\n",
    "model = RandomForestClassifier()"
   ]
  },
  {
   "cell_type": "code",
   "execution_count": 13,
   "id": "f8ee40da",
   "metadata": {},
   "outputs": [],
   "source": [
    "clf = GridSearchCV(model, parameters, scoring=scorer, cv=10)"
   ]
  },
  {
   "cell_type": "code",
   "execution_count": 14,
   "id": "3bf3ccaa",
   "metadata": {},
   "outputs": [
    {
     "data": {
      "text/plain": [
       "GridSearchCV(cv=10, estimator=RandomForestClassifier(),\n",
       "             param_grid={'criterion': ['gini', 'entropy'],\n",
       "                         'n_estimators': [10, 20, 50, 80, 100]},\n",
       "             scoring=make_scorer(f1_score))"
      ]
     },
     "execution_count": 14,
     "metadata": {},
     "output_type": "execute_result"
    }
   ],
   "source": [
    "clf.fit(X, y)"
   ]
  },
  {
   "cell_type": "code",
   "execution_count": 15,
   "id": "75ece7b7",
   "metadata": {},
   "outputs": [
    {
     "data": {
      "text/plain": [
       "{'mean_fit_time': array([0.00802352, 0.01472573, 0.03640251, 0.05847037, 0.07314024,\n",
       "        0.0076838 , 0.01507134, 0.03792696, 0.05964513, 0.07412183]),\n",
       " 'std_fit_time': array([9.16721250e-04, 1.32175304e-04, 2.95929724e-04, 6.37609731e-04,\n",
       "        7.56992927e-04, 5.09150454e-05, 1.69088460e-04, 7.27378081e-04,\n",
       "        5.88511648e-04, 2.31921340e-04]),\n",
       " 'mean_score_time': array([0.00106785, 0.00153849, 0.00303309, 0.00453663, 0.00559883,\n",
       "        0.00103006, 0.00152731, 0.00306571, 0.00454609, 0.00555887]),\n",
       " 'std_score_time': array([3.42887778e-05, 2.48077825e-05, 3.66895208e-05, 1.98443906e-05,\n",
       "        1.14328448e-04, 6.58415256e-06, 6.96002597e-06, 6.44538734e-05,\n",
       "        1.81921500e-05, 3.26282076e-05]),\n",
       " 'param_criterion': masked_array(data=['gini', 'gini', 'gini', 'gini', 'gini', 'entropy',\n",
       "                    'entropy', 'entropy', 'entropy', 'entropy'],\n",
       "              mask=[False, False, False, False, False, False, False, False,\n",
       "                    False, False],\n",
       "        fill_value='?',\n",
       "             dtype=object),\n",
       " 'param_n_estimators': masked_array(data=[10, 20, 50, 80, 100, 10, 20, 50, 80, 100],\n",
       "              mask=[False, False, False, False, False, False, False, False,\n",
       "                    False, False],\n",
       "        fill_value='?',\n",
       "             dtype=object),\n",
       " 'params': [{'criterion': 'gini', 'n_estimators': 10},\n",
       "  {'criterion': 'gini', 'n_estimators': 20},\n",
       "  {'criterion': 'gini', 'n_estimators': 50},\n",
       "  {'criterion': 'gini', 'n_estimators': 80},\n",
       "  {'criterion': 'gini', 'n_estimators': 100},\n",
       "  {'criterion': 'entropy', 'n_estimators': 10},\n",
       "  {'criterion': 'entropy', 'n_estimators': 20},\n",
       "  {'criterion': 'entropy', 'n_estimators': 50},\n",
       "  {'criterion': 'entropy', 'n_estimators': 80},\n",
       "  {'criterion': 'entropy', 'n_estimators': 100}],\n",
       " 'split0_test_score': array([0.69565217, 0.69444444, 0.66666667, 0.68493151, 0.70422535,\n",
       "        0.71428571, 0.71428571, 0.71428571, 0.71428571, 0.71428571]),\n",
       " 'split1_test_score': array([0.78787879, 0.75757576, 0.76923077, 0.78787879, 0.76470588,\n",
       "        0.75      , 0.7761194 , 0.78787879, 0.78787879, 0.78787879]),\n",
       " 'split2_test_score': array([0.61290323, 0.6       , 0.62295082, 0.6       , 0.6       ,\n",
       "        0.59016393, 0.6       , 0.6       , 0.62295082, 0.6       ]),\n",
       " 'split3_test_score': array([0.67532468, 0.78481013, 0.80519481, 0.80519481, 0.79487179,\n",
       "        0.79487179, 0.80519481, 0.77333333, 0.80519481, 0.78947368]),\n",
       " 'split4_test_score': array([0.77419355, 0.81818182, 0.84848485, 0.81818182, 0.83076923,\n",
       "        0.81818182, 0.80597015, 0.81818182, 0.8358209 , 0.8358209 ]),\n",
       " 'split5_test_score': array([0.70967742, 0.76923077, 0.66666667, 0.6440678 , 0.7       ,\n",
       "        0.7       , 0.76190476, 0.7       , 0.78787879, 0.78787879]),\n",
       " 'split6_test_score': array([0.75      , 0.78688525, 0.74193548, 0.76666667, 0.76666667,\n",
       "        0.75409836, 0.73015873, 0.76666667, 0.76666667, 0.78688525]),\n",
       " 'split7_test_score': array([0.6557377 , 0.6557377 , 0.63333333, 0.6557377 , 0.66666667,\n",
       "        0.63333333, 0.64516129, 0.6557377 , 0.6557377 , 0.6557377 ]),\n",
       " 'split8_test_score': array([0.82857143, 0.82352941, 0.8       , 0.8115942 , 0.80597015,\n",
       "        0.80555556, 0.8115942 , 0.82352941, 0.79411765, 0.82352941]),\n",
       " 'split9_test_score': array([0.76056338, 0.76923077, 0.78787879, 0.76923077, 0.76923077,\n",
       "        0.77142857, 0.78787879, 0.73846154, 0.76923077, 0.76923077]),\n",
       " 'mean_test_score': array([0.72505023, 0.7459626 , 0.73423422, 0.73434841, 0.74031065,\n",
       "        0.73319191, 0.74382678, 0.7378075 , 0.75397626, 0.7550721 ]),\n",
       " 'std_test_score': array([0.06318005, 0.06908939, 0.07633563, 0.07613322, 0.06755338,\n",
       "        0.07094625, 0.06856455, 0.06791157, 0.06482248, 0.07164744]),\n",
       " 'rank_test_score': array([10,  3,  8,  7,  5,  9,  4,  6,  2,  1], dtype=int32)}"
      ]
     },
     "execution_count": 15,
     "metadata": {},
     "output_type": "execute_result"
    }
   ],
   "source": [
    "clf.cv_results_"
   ]
  }
 ],
 "metadata": {
  "kernelspec": {
   "display_name": "Python 3 (ipykernel)",
   "language": "python",
   "name": "python3"
  },
  "language_info": {
   "codemirror_mode": {
    "name": "ipython",
    "version": 3
   },
   "file_extension": ".py",
   "mimetype": "text/x-python",
   "name": "python",
   "nbconvert_exporter": "python",
   "pygments_lexer": "ipython3",
   "version": "3.8.12"
  }
 },
 "nbformat": 4,
 "nbformat_minor": 5
}
