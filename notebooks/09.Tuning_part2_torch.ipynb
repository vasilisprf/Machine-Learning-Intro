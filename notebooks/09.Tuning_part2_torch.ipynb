{
 "cells": [
  {
   "cell_type": "code",
   "execution_count": 1,
   "id": "dc698554",
   "metadata": {},
   "outputs": [],
   "source": [
    "# ----------------------------------------------------------------------------\n",
    "# Author        :    Vasileios Perifanis\n",
    "# Affiliation   :    Euclid team, Democritus University of Thrace, Dept. of Electrical & Computer Engineering\n",
    "# Created Date  :    03/2022\n",
    "# version       :    1.0\n",
    "# ---------------------------------------------------------------------------"
   ]
  },
  {
   "cell_type": "code",
   "execution_count": 2,
   "id": "3789a845",
   "metadata": {},
   "outputs": [],
   "source": [
    "# !pip install optuna"
   ]
  },
  {
   "cell_type": "code",
   "execution_count": 3,
   "id": "3536e467",
   "metadata": {},
   "outputs": [],
   "source": [
    "import numpy as np # linear algebra\n",
    "import pandas as pd # data analysis\n",
    "from sklearn.model_selection import train_test_split\n",
    "from sklearn.metrics import accuracy_score, precision_score, recall_score, f1_score\n",
    "from sklearn import preprocessing\n",
    "\n",
    "import torch\n",
    "from torch.utils.data import Dataset, DataLoader\n",
    "\n",
    "import optuna\n",
    "\n",
    "import warnings\n",
    "warnings.filterwarnings('ignore')"
   ]
  },
  {
   "cell_type": "code",
   "execution_count": 4,
   "id": "8570162a",
   "metadata": {},
   "outputs": [
    {
     "data": {
      "text/html": [
       "<div>\n",
       "<style scoped>\n",
       "    .dataframe tbody tr th:only-of-type {\n",
       "        vertical-align: middle;\n",
       "    }\n",
       "\n",
       "    .dataframe tbody tr th {\n",
       "        vertical-align: top;\n",
       "    }\n",
       "\n",
       "    .dataframe thead th {\n",
       "        text-align: right;\n",
       "    }\n",
       "</style>\n",
       "<table border=\"1\" class=\"dataframe\">\n",
       "  <thead>\n",
       "    <tr style=\"text-align: right;\">\n",
       "      <th></th>\n",
       "      <th>Survived</th>\n",
       "      <th>Pclass</th>\n",
       "      <th>Sex</th>\n",
       "      <th>SibSp</th>\n",
       "      <th>Parch</th>\n",
       "      <th>Embarked</th>\n",
       "      <th>Age_band</th>\n",
       "      <th>Family_Size</th>\n",
       "      <th>Alone</th>\n",
       "      <th>Fare_cat</th>\n",
       "    </tr>\n",
       "  </thead>\n",
       "  <tbody>\n",
       "    <tr>\n",
       "      <th>0</th>\n",
       "      <td>0</td>\n",
       "      <td>3</td>\n",
       "      <td>0</td>\n",
       "      <td>1</td>\n",
       "      <td>0</td>\n",
       "      <td>0</td>\n",
       "      <td>1</td>\n",
       "      <td>1</td>\n",
       "      <td>0</td>\n",
       "      <td>0</td>\n",
       "    </tr>\n",
       "    <tr>\n",
       "      <th>1</th>\n",
       "      <td>1</td>\n",
       "      <td>1</td>\n",
       "      <td>1</td>\n",
       "      <td>1</td>\n",
       "      <td>0</td>\n",
       "      <td>1</td>\n",
       "      <td>2</td>\n",
       "      <td>1</td>\n",
       "      <td>0</td>\n",
       "      <td>3</td>\n",
       "    </tr>\n",
       "    <tr>\n",
       "      <th>2</th>\n",
       "      <td>1</td>\n",
       "      <td>3</td>\n",
       "      <td>1</td>\n",
       "      <td>0</td>\n",
       "      <td>0</td>\n",
       "      <td>0</td>\n",
       "      <td>1</td>\n",
       "      <td>0</td>\n",
       "      <td>1</td>\n",
       "      <td>1</td>\n",
       "    </tr>\n",
       "    <tr>\n",
       "      <th>3</th>\n",
       "      <td>1</td>\n",
       "      <td>1</td>\n",
       "      <td>1</td>\n",
       "      <td>1</td>\n",
       "      <td>0</td>\n",
       "      <td>0</td>\n",
       "      <td>2</td>\n",
       "      <td>1</td>\n",
       "      <td>0</td>\n",
       "      <td>3</td>\n",
       "    </tr>\n",
       "    <tr>\n",
       "      <th>4</th>\n",
       "      <td>0</td>\n",
       "      <td>3</td>\n",
       "      <td>0</td>\n",
       "      <td>0</td>\n",
       "      <td>0</td>\n",
       "      <td>0</td>\n",
       "      <td>2</td>\n",
       "      <td>0</td>\n",
       "      <td>1</td>\n",
       "      <td>1</td>\n",
       "    </tr>\n",
       "  </tbody>\n",
       "</table>\n",
       "</div>"
      ],
      "text/plain": [
       "   Survived  Pclass  Sex  SibSp  Parch  Embarked  Age_band  Family_Size  \\\n",
       "0         0       3    0      1      0         0         1            1   \n",
       "1         1       1    1      1      0         1         2            1   \n",
       "2         1       3    1      0      0         0         1            0   \n",
       "3         1       1    1      1      0         0         2            1   \n",
       "4         0       3    0      0      0         0         2            0   \n",
       "\n",
       "   Alone  Fare_cat  \n",
       "0      0         0  \n",
       "1      0         3  \n",
       "2      1         1  \n",
       "3      0         3  \n",
       "4      1         1  "
      ]
     },
     "execution_count": 4,
     "metadata": {},
     "output_type": "execute_result"
    }
   ],
   "source": [
    "data = pd.read_csv(\"datasets/titanic_train.csv\", header=0) # read csv\n",
    "\n",
    "data['Initial']=0\n",
    "for i in data:\n",
    "    data['Initial']=data.Name.str.extract('([A-Za-z]+)\\.') #extract the Salutations\n",
    "\n",
    "# Assigning the NaN Values the mean ages\n",
    "data.loc[(data.Age.isnull())&(data.Initial=='Mr'),'Age']=33\n",
    "data.loc[(data.Age.isnull())&(data.Initial=='Mrs'),'Age']=36\n",
    "data.loc[(data.Age.isnull())&(data.Initial=='Master'),'Age']=5\n",
    "data.loc[(data.Age.isnull())&(data.Initial=='Miss'),'Age']=22\n",
    "data.loc[(data.Age.isnull())&(data.Initial=='Other'),'Age']=46\n",
    "\n",
    "data['Embarked'].fillna('S',inplace=True)\n",
    "\n",
    "data['Age_band']=0\n",
    "data.loc[data['Age']<=16,'Age_band']=0\n",
    "data.loc[(data['Age']>16)&(data['Age']<=32),'Age_band']=1\n",
    "data.loc[(data['Age']>32)&(data['Age']<=48),'Age_band']=2\n",
    "data.loc[(data['Age']>48)&(data['Age']<=64),'Age_band']=3\n",
    "data.loc[data['Age']>64,'Age_band']=4\n",
    "\n",
    "data['Family_Size']=0\n",
    "data['Family_Size']=data['Parch']+data['SibSp']#family size\n",
    "data['Alone']=0\n",
    "data.loc[data.Family_Size==0,'Alone']=1#Alone\n",
    "\n",
    "data['Fare_Range']=pd.qcut(data['Fare'],5)\n",
    "data['Fare_cat']=0\n",
    "data.loc[data['Fare']<=7.91,'Fare_cat']=0\n",
    "data.loc[(data['Fare']>7.91)&(data['Fare']<=14.454),'Fare_cat']=1\n",
    "data.loc[(data['Fare']>14.454)&(data['Fare']<=31),'Fare_cat']=2\n",
    "data.loc[(data['Fare']>31)&(data['Fare']<=513),'Fare_cat']=3\n",
    "\n",
    "data['Sex'].replace(['male','female'],[0,1],inplace=True)\n",
    "data['Embarked'].replace(['S','C','Q'],[0,1,2],inplace=True)\n",
    "data['Initial'].replace(['Mr','Mrs','Miss','Master','Other'],[0,1,2,3,4],inplace=True)\n",
    "\n",
    "data.drop(['Name','Age','Ticket','Fare','Cabin','Initial','Fare_Range','PassengerId'],axis=1,inplace=True)\n",
    "\n",
    "data.head()"
   ]
  },
  {
   "cell_type": "code",
   "execution_count": 5,
   "id": "7b501cb4",
   "metadata": {},
   "outputs": [
    {
     "data": {
      "text/plain": [
       "(891, 10)"
      ]
     },
     "execution_count": 5,
     "metadata": {},
     "output_type": "execute_result"
    }
   ],
   "source": [
    "data.shape"
   ]
  },
  {
   "cell_type": "code",
   "execution_count": 6,
   "id": "f079d03e",
   "metadata": {},
   "outputs": [],
   "source": [
    "def split(data):\n",
    "    train,test=train_test_split(data,test_size=0.2,random_state=0,stratify=data['Survived'])\n",
    "    return train, test\n",
    "\n",
    "def to_numpy(train, test):\n",
    "    train_X=train[train.columns[1:]].to_numpy()\n",
    "    train_Y=train[train.columns[:1]].to_numpy().ravel()\n",
    "    test_X=test[test.columns[1:]].to_numpy()\n",
    "    test_Y=test[test.columns[:1]].to_numpy().ravel()\n",
    "    return train_X, train_Y, test_X, test_Y"
   ]
  },
  {
   "cell_type": "code",
   "execution_count": 7,
   "id": "9010492b",
   "metadata": {},
   "outputs": [],
   "source": [
    "train, test = split(data)"
   ]
  },
  {
   "cell_type": "code",
   "execution_count": 8,
   "id": "070b79d4",
   "metadata": {},
   "outputs": [],
   "source": [
    "train_X, train_Y, test_X, test_Y = to_numpy(train, test)\n",
    "min_max_scaler = preprocessing.MinMaxScaler().fit(train_X)\n",
    "train_X = min_max_scaler.transform(train_X)\n",
    "test_X = min_max_scaler.transform(test_X)"
   ]
  },
  {
   "cell_type": "code",
   "execution_count": 9,
   "id": "85b414d0",
   "metadata": {},
   "outputs": [],
   "source": [
    "class ClassifierDataset(Dataset):\n",
    "    def __init__(self, x_data, y_data):\n",
    "        self.x_data = x_data\n",
    "        self.y_data = y_data\n",
    "\n",
    "    def __getitem__(self, index):\n",
    "        return self.x_data[index], self.y_data[index]\n",
    "\n",
    "    def __len__(self):\n",
    "        return len(self.x_data)"
   ]
  },
  {
   "cell_type": "code",
   "execution_count": 10,
   "id": "b5083d2e",
   "metadata": {},
   "outputs": [],
   "source": [
    "def generate_dataset(train_x, train_y, batch_size, shuffle=True):\n",
    "    dataset = ClassifierDataset(torch.from_numpy(train_x).float(), torch.from_numpy(train_y).long())\n",
    "    loader = DataLoader(dataset=dataset, batch_size=batch_size, shuffle=shuffle)\n",
    "\n",
    "    return loader"
   ]
  },
  {
   "cell_type": "code",
   "execution_count": 11,
   "id": "880ce4c4",
   "metadata": {},
   "outputs": [
    {
     "name": "stdout",
     "output_type": "stream",
     "text": [
      "Training set size: ((712, 9),(712,)), Testing set size: ((712,),(179,))\n"
     ]
    }
   ],
   "source": [
    "train_loader = generate_dataset(train_X, train_Y, batch_size=1024, shuffle=True)\n",
    "test_loader = generate_dataset(test_X, test_Y, batch_size=1, shuffle=False)\n",
    "print(f\"Training set size: ({train_X.shape},{train_Y.shape}), Testing set size: ({train_Y.shape},{test_Y.shape})\")\n",
    "criterion = torch.nn.CrossEntropyLoss()\n",
    "epochs = 30"
   ]
  },
  {
   "cell_type": "code",
   "execution_count": null,
   "id": "bc4b6724",
   "metadata": {},
   "outputs": [],
   "source": []
  },
  {
   "cell_type": "markdown",
   "id": "2252c959",
   "metadata": {},
   "source": [
    "# Initialize study\n",
    "\n",
    "- direction: maximize ή minimize, αναλόγως τι θέλουμε να πετύχουμε.\n",
    "- sampler:\n",
    "    - GridSampler: grid search.\n",
    "    - RandomSampler: random search.\n",
    "    - TPESampler: Begins with random search. At each step, it suggests new values.\n",
    "    \n",
    "    \n",
    "# Define study\n",
    "\n",
    "- trial.suggest_x:\n",
    "    - suggest_int: integers, e.g., το batch size\n",
    "    - suggest_categorical: value in a range, e.g. optimizer.\n",
    "    - suggest_uniform: value in a range\n",
    "    - suggest_loguniform: value in a range, e.g. learning rate.\n",
    "    \n",
    "# Define Model\n",
    "\n",
    "# Train και evaluate\n"
   ]
  },
  {
   "cell_type": "code",
   "execution_count": null,
   "id": "148ac005",
   "metadata": {},
   "outputs": [],
   "source": []
  },
  {
   "cell_type": "code",
   "execution_count": 12,
   "id": "4c47a853",
   "metadata": {},
   "outputs": [],
   "source": [
    "def build_model(params):\n",
    "    input_dim = 9\n",
    "    return torch.nn.Sequential(\n",
    "        torch.nn.Linear(input_dim, 128),\n",
    "        torch.nn.ReLU(),\n",
    "        torch.nn.Linear(128, 64),\n",
    "        torch.nn.ReLU(),\n",
    "        torch.nn.Linear(64, 2)\n",
    "    )"
   ]
  },
  {
   "cell_type": "code",
   "execution_count": null,
   "id": "dc9e0257",
   "metadata": {},
   "outputs": [],
   "source": []
  },
  {
   "cell_type": "code",
   "execution_count": 13,
   "id": "e0b02a11",
   "metadata": {},
   "outputs": [],
   "source": [
    "def test(model, data, criterion):\n",
    "    model.eval()\n",
    "    y_true, y_pred = [], []\n",
    "    loss, correct = 0., 0\n",
    "    with torch.no_grad():\n",
    "        for x, y in data:\n",
    "            out = model(x)\n",
    "            loss += criterion(out, y).item()\n",
    "            pred = out.argmax(dim=1)\n",
    "            # correct += int((pred == y).sum().item()) # torch accuracy method\n",
    "            for i in range(len(pred)):\n",
    "                y_pred.append(pred[i].item())\n",
    "            for i in range(len(y)):\n",
    "                y_true.append(y[i].item())\n",
    "            \n",
    "    loss = loss / len(data)\n",
    "    #accuracy = correct / len(data.dataset) # torch accuracy method\n",
    "    accuracy = accuracy_score(y_pred, y_true)\n",
    "    precision = precision_score(y_pred, y_true)\n",
    "    recall = recall_score(y_pred, y_true)\n",
    "    f1 = f1_score(y_pred, y_true)\n",
    "\n",
    "    return loss, accuracy, precision, recall, f1\n",
    "\n",
    "\n",
    "def train(param, model, train_loader, test_loader, criterion, epochs):\n",
    "    \n",
    "    optimizer = getattr(torch.optim, param['optimizer'])(model.parameters(), lr= param['learning_rate'])\n",
    "\n",
    "    for epoch in range(1, epochs+1):\n",
    "            model.train()\n",
    "            for data, target in train_loader:\n",
    "                optimizer.zero_grad()\n",
    "                y_pred = model(data)\n",
    "                loss = criterion(y_pred, target)\n",
    "                loss.backward()\n",
    "                optimizer.step()\n",
    "                \n",
    "            train_loss, train_acc, train_prec, train_rec, train_f = test(model, train_loader, criterion)  # test the model\n",
    "            test_loss, test_acc, test_pred, test_rec, test_f = test(model, test_loader, criterion)\n",
    "            \n",
    "            #if epoch % 1 == 0:  # log\n",
    "                #print(f\"Epoch: [{epoch}/{epochs}]: Loss: {train_loss:.4f}, Accuracy: {train_acc:.4f}, Precision: {train_prec:.4f}, Recall: {train_rec:.4f}, F1: {train_f:.4f}\\n\")\n",
    "                #print(f\"\\tLoss: {test_loss:.4f}, Eval Accuracy: {test_acc:.4f}, Eval Precision: {train_prec:.4f}, Eval Recall: {train_rec:.4f}, Eval F1: {train_f:.4f}\")\n",
    "\n",
    "    return test_f"
   ]
  },
  {
   "cell_type": "code",
   "execution_count": null,
   "id": "9e5d5563",
   "metadata": {},
   "outputs": [],
   "source": []
  },
  {
   "cell_type": "code",
   "execution_count": null,
   "id": "42777411",
   "metadata": {},
   "outputs": [],
   "source": []
  },
  {
   "cell_type": "code",
   "execution_count": 14,
   "id": "e1d4ec5c",
   "metadata": {},
   "outputs": [],
   "source": [
    "def objective(trial):\n",
    "    params = {\n",
    "        'learning_rate': trial.suggest_loguniform('learning_rate', 1e-4, 1e-2),\n",
    "        'optimizer': trial.suggest_categorical(\"optimizer\", [\"Adam\", \"RMSprop\", \"SGD\"])\n",
    "    }\n",
    "    model = build_model(params)\n",
    "    \n",
    "    f1 = train(params, model, train_loader, test_loader, criterion, epochs)\n",
    "    return f1"
   ]
  },
  {
   "cell_type": "code",
   "execution_count": null,
   "id": "6af2ff52",
   "metadata": {},
   "outputs": [],
   "source": []
  },
  {
   "cell_type": "code",
   "execution_count": 15,
   "id": "eab40f68",
   "metadata": {},
   "outputs": [
    {
     "name": "stderr",
     "output_type": "stream",
     "text": [
      "\u001b[32m[I 2022-04-01 10:38:34,666]\u001b[0m A new study created in memory with name: no-name-4bd20dab-a51b-49b0-a47b-b7f35e02df41\u001b[0m\n",
      "\u001b[32m[I 2022-04-01 10:38:35,532]\u001b[0m Trial 0 finished with value: 0.49462365591397844 and parameters: {'learning_rate': 0.00010160028161024629, 'optimizer': 'RMSprop'}. Best is trial 0 with value: 0.49462365591397844.\u001b[0m\n",
      "\u001b[32m[I 2022-04-01 10:38:36,342]\u001b[0m Trial 1 finished with value: 0.54 and parameters: {'learning_rate': 0.0005103790203411218, 'optimizer': 'Adam'}. Best is trial 1 with value: 0.54.\u001b[0m\n",
      "\u001b[32m[I 2022-04-01 10:38:37,219]\u001b[0m Trial 2 finished with value: 0.4090909090909091 and parameters: {'learning_rate': 0.00031775147799741646, 'optimizer': 'Adam'}. Best is trial 1 with value: 0.54.\u001b[0m\n",
      "\u001b[32m[I 2022-04-01 10:38:38,022]\u001b[0m Trial 3 finished with value: 0.49462365591397844 and parameters: {'learning_rate': 0.00025086366594676316, 'optimizer': 'Adam'}. Best is trial 1 with value: 0.54.\u001b[0m\n",
      "\u001b[32m[I 2022-04-01 10:38:38,893]\u001b[0m Trial 4 finished with value: 0.672 and parameters: {'learning_rate': 0.0012917073479249794, 'optimizer': 'RMSprop'}. Best is trial 4 with value: 0.672.\u001b[0m\n",
      "\u001b[32m[I 2022-04-01 10:38:39,758]\u001b[0m Trial 5 finished with value: 0.5564516129032259 and parameters: {'learning_rate': 0.0003549679916229913, 'optimizer': 'SGD'}. Best is trial 4 with value: 0.672.\u001b[0m\n",
      "\u001b[32m[I 2022-04-01 10:38:40,555]\u001b[0m Trial 6 finished with value: 0.18181818181818182 and parameters: {'learning_rate': 0.004700601788274536, 'optimizer': 'SGD'}. Best is trial 4 with value: 0.672.\u001b[0m\n",
      "\u001b[32m[I 2022-04-01 10:38:41,357]\u001b[0m Trial 7 finished with value: 0.7076923076923076 and parameters: {'learning_rate': 0.0014442082991564418, 'optimizer': 'Adam'}. Best is trial 7 with value: 0.7076923076923076.\u001b[0m\n",
      "\u001b[32m[I 2022-04-01 10:38:42,156]\u001b[0m Trial 8 finished with value: 0.22784810126582278 and parameters: {'learning_rate': 0.006066250115861294, 'optimizer': 'SGD'}. Best is trial 7 with value: 0.7076923076923076.\u001b[0m\n",
      "\u001b[32m[I 2022-04-01 10:38:43,021]\u001b[0m Trial 9 finished with value: 0.0 and parameters: {'learning_rate': 0.00012103542118340937, 'optimizer': 'SGD'}. Best is trial 7 with value: 0.7076923076923076.\u001b[0m\n",
      "\u001b[32m[I 2022-04-01 10:38:43,828]\u001b[0m Trial 10 finished with value: 0.7244094488188977 and parameters: {'learning_rate': 0.0021755086787658444, 'optimizer': 'Adam'}. Best is trial 10 with value: 0.7244094488188977.\u001b[0m\n",
      "\u001b[32m[I 2022-04-01 10:38:44,720]\u001b[0m Trial 11 finished with value: 0.71875 and parameters: {'learning_rate': 0.0017878580189283238, 'optimizer': 'Adam'}. Best is trial 10 with value: 0.7244094488188977.\u001b[0m\n",
      "\u001b[32m[I 2022-04-01 10:38:45,530]\u001b[0m Trial 12 finished with value: 0.7014925373134329 and parameters: {'learning_rate': 0.002634659949500588, 'optimizer': 'Adam'}. Best is trial 10 with value: 0.7244094488188977.\u001b[0m\n",
      "\u001b[32m[I 2022-04-01 10:38:46,405]\u001b[0m Trial 13 finished with value: 0.6875 and parameters: {'learning_rate': 0.003065624578612319, 'optimizer': 'Adam'}. Best is trial 10 with value: 0.7244094488188977.\u001b[0m\n",
      "\u001b[32m[I 2022-04-01 10:38:47,218]\u001b[0m Trial 14 finished with value: 0.6774193548387097 and parameters: {'learning_rate': 0.009257223662830773, 'optimizer': 'Adam'}. Best is trial 10 with value: 0.7244094488188977.\u001b[0m\n",
      "\u001b[32m[I 2022-04-01 10:38:48,030]\u001b[0m Trial 15 finished with value: 0.7154471544715448 and parameters: {'learning_rate': 0.0007831481856607511, 'optimizer': 'Adam'}. Best is trial 10 with value: 0.7244094488188977.\u001b[0m\n",
      "\u001b[32m[I 2022-04-01 10:38:48,846]\u001b[0m Trial 16 finished with value: 0.6991869918699186 and parameters: {'learning_rate': 0.0020963718008540685, 'optimizer': 'RMSprop'}. Best is trial 10 with value: 0.7244094488188977.\u001b[0m\n",
      "\u001b[32m[I 2022-04-01 10:38:49,722]\u001b[0m Trial 17 finished with value: 0.6842105263157895 and parameters: {'learning_rate': 0.0008049750459895739, 'optimizer': 'Adam'}. Best is trial 10 with value: 0.7244094488188977.\u001b[0m\n",
      "\u001b[32m[I 2022-04-01 10:38:50,533]\u001b[0m Trial 18 finished with value: 0.7107438016528926 and parameters: {'learning_rate': 0.003896484952277155, 'optimizer': 'Adam'}. Best is trial 10 with value: 0.7244094488188977.\u001b[0m\n",
      "\u001b[32m[I 2022-04-01 10:38:51,428]\u001b[0m Trial 19 finished with value: 0.6976744186046512 and parameters: {'learning_rate': 0.0017995792498340804, 'optimizer': 'RMSprop'}. Best is trial 10 with value: 0.7244094488188977.\u001b[0m\n",
      "\u001b[32m[I 2022-04-01 10:38:52,302]\u001b[0m Trial 20 finished with value: 0.71875 and parameters: {'learning_rate': 0.0009877096912109602, 'optimizer': 'Adam'}. Best is trial 10 with value: 0.7244094488188977.\u001b[0m\n",
      "\u001b[32m[I 2022-04-01 10:38:53,109]\u001b[0m Trial 21 finished with value: 0.6666666666666666 and parameters: {'learning_rate': 0.0010044568575321097, 'optimizer': 'Adam'}. Best is trial 10 with value: 0.7244094488188977.\u001b[0m\n",
      "\u001b[32m[I 2022-04-01 10:38:53,917]\u001b[0m Trial 22 finished with value: 0.5154639175257733 and parameters: {'learning_rate': 0.0005406840455928162, 'optimizer': 'Adam'}. Best is trial 10 with value: 0.7244094488188977.\u001b[0m\n",
      "\u001b[32m[I 2022-04-01 10:38:54,726]\u001b[0m Trial 23 finished with value: 0.7131782945736433 and parameters: {'learning_rate': 0.0021602431477626863, 'optimizer': 'Adam'}. Best is trial 10 with value: 0.7244094488188977.\u001b[0m\n",
      "\u001b[32m[I 2022-04-01 10:38:55,602]\u001b[0m Trial 24 finished with value: 0.7086614173228347 and parameters: {'learning_rate': 0.0012013221044124929, 'optimizer': 'Adam'}. Best is trial 10 with value: 0.7244094488188977.\u001b[0m\n",
      "\u001b[32m[I 2022-04-01 10:38:56,413]\u001b[0m Trial 25 finished with value: 0.5825242718446603 and parameters: {'learning_rate': 0.0006873591585319708, 'optimizer': 'Adam'}. Best is trial 10 with value: 0.7244094488188977.\u001b[0m\n",
      "\u001b[32m[I 2022-04-01 10:38:57,289]\u001b[0m Trial 26 finished with value: 0.7175572519083969 and parameters: {'learning_rate': 0.0017143594253795466, 'optimizer': 'Adam'}. Best is trial 10 with value: 0.7244094488188977.\u001b[0m\n",
      "\u001b[32m[I 2022-04-01 10:38:58,097]\u001b[0m Trial 27 finished with value: 0.0 and parameters: {'learning_rate': 0.0039028055513707937, 'optimizer': 'SGD'}. Best is trial 10 with value: 0.7244094488188977.\u001b[0m\n",
      "\u001b[32m[I 2022-04-01 10:38:58,974]\u001b[0m Trial 28 finished with value: 0.6782608695652174 and parameters: {'learning_rate': 0.007364746971084982, 'optimizer': 'RMSprop'}. Best is trial 10 with value: 0.7244094488188977.\u001b[0m\n",
      "\u001b[32m[I 2022-04-01 10:38:59,786]\u001b[0m Trial 29 finished with value: 0.6870229007633588 and parameters: {'learning_rate': 0.0030569215955306784, 'optimizer': 'Adam'}. Best is trial 10 with value: 0.7244094488188977.\u001b[0m\n"
     ]
    }
   ],
   "source": [
    "# specify optimization\n",
    "study = optuna.create_study(direction=\"maximize\", sampler=optuna.samplers.TPESampler())\n",
    "study.optimize(objective, n_trials=30)"
   ]
  },
  {
   "cell_type": "code",
   "execution_count": 16,
   "id": "657c1bf6",
   "metadata": {},
   "outputs": [],
   "source": [
    "best_f = study.best_value"
   ]
  },
  {
   "cell_type": "code",
   "execution_count": 17,
   "id": "496375c8",
   "metadata": {},
   "outputs": [
    {
     "data": {
      "text/plain": [
       "0.7244094488188977"
      ]
     },
     "execution_count": 17,
     "metadata": {},
     "output_type": "execute_result"
    }
   ],
   "source": [
    "best_f"
   ]
  },
  {
   "cell_type": "code",
   "execution_count": 18,
   "id": "4c67a197",
   "metadata": {},
   "outputs": [],
   "source": [
    "best_trial = study.best_trial"
   ]
  },
  {
   "cell_type": "code",
   "execution_count": 19,
   "id": "8127aa2a",
   "metadata": {},
   "outputs": [
    {
     "data": {
      "text/plain": [
       "FrozenTrial(number=10, values=[0.7244094488188977], datetime_start=datetime.datetime(2022, 4, 1, 10, 38, 43, 21506), datetime_complete=datetime.datetime(2022, 4, 1, 10, 38, 43, 828510), params={'learning_rate': 0.0021755086787658444, 'optimizer': 'Adam'}, distributions={'learning_rate': LogUniformDistribution(high=0.01, low=0.0001), 'optimizer': CategoricalDistribution(choices=('Adam', 'RMSprop', 'SGD'))}, user_attrs={}, system_attrs={}, intermediate_values={}, trial_id=10, state=TrialState.COMPLETE, value=None)"
      ]
     },
     "execution_count": 19,
     "metadata": {},
     "output_type": "execute_result"
    }
   ],
   "source": [
    "best_trial"
   ]
  }
 ],
 "metadata": {
  "kernelspec": {
   "display_name": "Python 3 (ipykernel)",
   "language": "python",
   "name": "python3"
  },
  "language_info": {
   "codemirror_mode": {
    "name": "ipython",
    "version": 3
   },
   "file_extension": ".py",
   "mimetype": "text/x-python",
   "name": "python",
   "nbconvert_exporter": "python",
   "pygments_lexer": "ipython3",
   "version": "3.8.12"
  }
 },
 "nbformat": 4,
 "nbformat_minor": 5
}
