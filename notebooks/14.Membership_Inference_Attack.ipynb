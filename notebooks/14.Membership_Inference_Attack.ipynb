{
 "cells": [
  {
   "cell_type": "code",
   "execution_count": 1,
   "id": "e6b120a8",
   "metadata": {},
   "outputs": [],
   "source": [
    "# ----------------------------------------------------------------------------\n",
    "# Author        :    Vasileios Perifanis\n",
    "# Affiliation   :    Euclid team, Democritus University of Thrace, Dept. of Electrical & Computer Engineering\n",
    "# Created Date  :    03/2022\n",
    "# version       :    1.0\n",
    "# ---------------------------------------------------------------------------"
   ]
  },
  {
   "cell_type": "code",
   "execution_count": 2,
   "id": "7cfc63ee",
   "metadata": {},
   "outputs": [],
   "source": [
    "import numpy as np\n",
    "import pandas as pd\n",
    "import torch\n",
    "from sklearn.model_selection import train_test_split\n",
    "from sklearn.metrics import confusion_matrix, roc_curve\n",
    "\n",
    "import torch\n",
    "from torch.utils.data import Dataset, DataLoader\n",
    "\n",
    "from matplotlib import pyplot as plt"
   ]
  },
  {
   "cell_type": "markdown",
   "id": "ccb2ff09",
   "metadata": {},
   "source": [
    "# Training a model"
   ]
  },
  {
   "cell_type": "code",
   "execution_count": 3,
   "id": "e6315e9d",
   "metadata": {},
   "outputs": [],
   "source": [
    "data = pd.read_csv(\"datasets/purchase100.csv\", header=0)"
   ]
  },
  {
   "cell_type": "code",
   "execution_count": 4,
   "id": "0ed771ce",
   "metadata": {},
   "outputs": [
    {
     "data": {
      "text/html": [
       "<div>\n",
       "<style scoped>\n",
       "    .dataframe tbody tr th:only-of-type {\n",
       "        vertical-align: middle;\n",
       "    }\n",
       "\n",
       "    .dataframe tbody tr th {\n",
       "        vertical-align: top;\n",
       "    }\n",
       "\n",
       "    .dataframe thead th {\n",
       "        text-align: right;\n",
       "    }\n",
       "</style>\n",
       "<table border=\"1\" class=\"dataframe\">\n",
       "  <thead>\n",
       "    <tr style=\"text-align: right;\">\n",
       "      <th></th>\n",
       "      <th>product_0</th>\n",
       "      <th>product_1</th>\n",
       "      <th>product_2</th>\n",
       "      <th>product_3</th>\n",
       "      <th>product_4</th>\n",
       "      <th>product_5</th>\n",
       "      <th>product_6</th>\n",
       "      <th>product_7</th>\n",
       "      <th>product_8</th>\n",
       "      <th>product_9</th>\n",
       "      <th>...</th>\n",
       "      <th>product_591</th>\n",
       "      <th>product_592</th>\n",
       "      <th>product_593</th>\n",
       "      <th>product_594</th>\n",
       "      <th>product_595</th>\n",
       "      <th>product_596</th>\n",
       "      <th>product_597</th>\n",
       "      <th>product_598</th>\n",
       "      <th>product_599</th>\n",
       "      <th>target</th>\n",
       "    </tr>\n",
       "  </thead>\n",
       "  <tbody>\n",
       "    <tr>\n",
       "      <th>0</th>\n",
       "      <td>0.0</td>\n",
       "      <td>0.0</td>\n",
       "      <td>0.0</td>\n",
       "      <td>0.0</td>\n",
       "      <td>0.0</td>\n",
       "      <td>0.0</td>\n",
       "      <td>0.0</td>\n",
       "      <td>0.0</td>\n",
       "      <td>1.0</td>\n",
       "      <td>0.0</td>\n",
       "      <td>...</td>\n",
       "      <td>1.0</td>\n",
       "      <td>1.0</td>\n",
       "      <td>1.0</td>\n",
       "      <td>1.0</td>\n",
       "      <td>1.0</td>\n",
       "      <td>1.0</td>\n",
       "      <td>1.0</td>\n",
       "      <td>1.0</td>\n",
       "      <td>1.0</td>\n",
       "      <td>15</td>\n",
       "    </tr>\n",
       "    <tr>\n",
       "      <th>1</th>\n",
       "      <td>0.0</td>\n",
       "      <td>0.0</td>\n",
       "      <td>0.0</td>\n",
       "      <td>1.0</td>\n",
       "      <td>1.0</td>\n",
       "      <td>1.0</td>\n",
       "      <td>0.0</td>\n",
       "      <td>0.0</td>\n",
       "      <td>0.0</td>\n",
       "      <td>0.0</td>\n",
       "      <td>...</td>\n",
       "      <td>1.0</td>\n",
       "      <td>1.0</td>\n",
       "      <td>1.0</td>\n",
       "      <td>1.0</td>\n",
       "      <td>1.0</td>\n",
       "      <td>1.0</td>\n",
       "      <td>1.0</td>\n",
       "      <td>1.0</td>\n",
       "      <td>1.0</td>\n",
       "      <td>29</td>\n",
       "    </tr>\n",
       "    <tr>\n",
       "      <th>2</th>\n",
       "      <td>0.0</td>\n",
       "      <td>0.0</td>\n",
       "      <td>0.0</td>\n",
       "      <td>0.0</td>\n",
       "      <td>0.0</td>\n",
       "      <td>0.0</td>\n",
       "      <td>0.0</td>\n",
       "      <td>0.0</td>\n",
       "      <td>0.0</td>\n",
       "      <td>0.0</td>\n",
       "      <td>...</td>\n",
       "      <td>0.0</td>\n",
       "      <td>0.0</td>\n",
       "      <td>1.0</td>\n",
       "      <td>1.0</td>\n",
       "      <td>0.0</td>\n",
       "      <td>1.0</td>\n",
       "      <td>1.0</td>\n",
       "      <td>1.0</td>\n",
       "      <td>1.0</td>\n",
       "      <td>10</td>\n",
       "    </tr>\n",
       "    <tr>\n",
       "      <th>3</th>\n",
       "      <td>0.0</td>\n",
       "      <td>0.0</td>\n",
       "      <td>0.0</td>\n",
       "      <td>0.0</td>\n",
       "      <td>0.0</td>\n",
       "      <td>0.0</td>\n",
       "      <td>0.0</td>\n",
       "      <td>0.0</td>\n",
       "      <td>0.0</td>\n",
       "      <td>0.0</td>\n",
       "      <td>...</td>\n",
       "      <td>1.0</td>\n",
       "      <td>1.0</td>\n",
       "      <td>1.0</td>\n",
       "      <td>1.0</td>\n",
       "      <td>1.0</td>\n",
       "      <td>1.0</td>\n",
       "      <td>1.0</td>\n",
       "      <td>1.0</td>\n",
       "      <td>1.0</td>\n",
       "      <td>72</td>\n",
       "    </tr>\n",
       "    <tr>\n",
       "      <th>4</th>\n",
       "      <td>0.0</td>\n",
       "      <td>0.0</td>\n",
       "      <td>0.0</td>\n",
       "      <td>0.0</td>\n",
       "      <td>0.0</td>\n",
       "      <td>0.0</td>\n",
       "      <td>0.0</td>\n",
       "      <td>0.0</td>\n",
       "      <td>0.0</td>\n",
       "      <td>0.0</td>\n",
       "      <td>...</td>\n",
       "      <td>1.0</td>\n",
       "      <td>1.0</td>\n",
       "      <td>1.0</td>\n",
       "      <td>1.0</td>\n",
       "      <td>1.0</td>\n",
       "      <td>1.0</td>\n",
       "      <td>1.0</td>\n",
       "      <td>1.0</td>\n",
       "      <td>1.0</td>\n",
       "      <td>28</td>\n",
       "    </tr>\n",
       "  </tbody>\n",
       "</table>\n",
       "<p>5 rows × 601 columns</p>\n",
       "</div>"
      ],
      "text/plain": [
       "   product_0  product_1  product_2  product_3  product_4  product_5  \\\n",
       "0        0.0        0.0        0.0        0.0        0.0        0.0   \n",
       "1        0.0        0.0        0.0        1.0        1.0        1.0   \n",
       "2        0.0        0.0        0.0        0.0        0.0        0.0   \n",
       "3        0.0        0.0        0.0        0.0        0.0        0.0   \n",
       "4        0.0        0.0        0.0        0.0        0.0        0.0   \n",
       "\n",
       "   product_6  product_7  product_8  product_9  ...  product_591  product_592  \\\n",
       "0        0.0        0.0        1.0        0.0  ...          1.0          1.0   \n",
       "1        0.0        0.0        0.0        0.0  ...          1.0          1.0   \n",
       "2        0.0        0.0        0.0        0.0  ...          0.0          0.0   \n",
       "3        0.0        0.0        0.0        0.0  ...          1.0          1.0   \n",
       "4        0.0        0.0        0.0        0.0  ...          1.0          1.0   \n",
       "\n",
       "   product_593  product_594  product_595  product_596  product_597  \\\n",
       "0          1.0          1.0          1.0          1.0          1.0   \n",
       "1          1.0          1.0          1.0          1.0          1.0   \n",
       "2          1.0          1.0          0.0          1.0          1.0   \n",
       "3          1.0          1.0          1.0          1.0          1.0   \n",
       "4          1.0          1.0          1.0          1.0          1.0   \n",
       "\n",
       "   product_598  product_599  target  \n",
       "0          1.0          1.0      15  \n",
       "1          1.0          1.0      29  \n",
       "2          1.0          1.0      10  \n",
       "3          1.0          1.0      72  \n",
       "4          1.0          1.0      28  \n",
       "\n",
       "[5 rows x 601 columns]"
      ]
     },
     "execution_count": 4,
     "metadata": {},
     "output_type": "execute_result"
    }
   ],
   "source": [
    "data.head()"
   ]
  },
  {
   "cell_type": "code",
   "execution_count": 5,
   "id": "1709d0c2",
   "metadata": {},
   "outputs": [
    {
     "name": "stdout",
     "output_type": "stream",
     "text": [
      "20000 [490, 382, 374, 320, 310, 305, 296, 292, 273, 265]\n"
     ]
    }
   ],
   "source": [
    "print(len(data), sorted(data['target'].value_counts(), reverse=True)[:10])"
   ]
  },
  {
   "cell_type": "code",
   "execution_count": null,
   "id": "e2ed81b0",
   "metadata": {},
   "outputs": [],
   "source": []
  },
  {
   "cell_type": "code",
   "execution_count": 6,
   "id": "4631519a",
   "metadata": {},
   "outputs": [],
   "source": [
    "columns = list(data.columns)\n",
    "columns = columns[:len(columns) - 1]\n",
    "X = data.loc[:, columns].to_numpy()\n",
    "y = data.target.to_numpy().ravel()"
   ]
  },
  {
   "cell_type": "code",
   "execution_count": null,
   "id": "54134661",
   "metadata": {},
   "outputs": [],
   "source": []
  },
  {
   "cell_type": "code",
   "execution_count": 7,
   "id": "da819afd",
   "metadata": {},
   "outputs": [],
   "source": [
    "indices = np.arange(len(X))\n",
    "X_train, X_test, y_train, y_test, indices_train, indices_test = train_test_split(X, y, indices, train_size=10_000, test_size=10_000,\n",
    "                                                                                 random_state=0, shuffle=True)"
   ]
  },
  {
   "cell_type": "code",
   "execution_count": 8,
   "id": "3bda09d0",
   "metadata": {},
   "outputs": [
    {
     "data": {
      "text/plain": [
       "(10000, 10000)"
      ]
     },
     "execution_count": 8,
     "metadata": {},
     "output_type": "execute_result"
    }
   ],
   "source": [
    "len(indices_train), len(indices_test)"
   ]
  },
  {
   "cell_type": "code",
   "execution_count": 9,
   "id": "b4a082a3",
   "metadata": {},
   "outputs": [
    {
     "data": {
      "text/plain": [
       "array([19879,  7502,  2745, ...,  9845, 10799,  2732])"
      ]
     },
     "execution_count": 9,
     "metadata": {},
     "output_type": "execute_result"
    }
   ],
   "source": [
    "indices_train"
   ]
  },
  {
   "cell_type": "code",
   "execution_count": null,
   "id": "26824ffd",
   "metadata": {},
   "outputs": [],
   "source": []
  },
  {
   "cell_type": "code",
   "execution_count": 10,
   "id": "943de24e",
   "metadata": {},
   "outputs": [],
   "source": [
    "membership = dict()\n",
    "for idx in indices_train:\n",
    "    membership[idx] = 1\n",
    "for idx in indices_test:\n",
    "    membership[idx] = 0"
   ]
  },
  {
   "cell_type": "code",
   "execution_count": null,
   "id": "85c545fa",
   "metadata": {},
   "outputs": [],
   "source": []
  },
  {
   "cell_type": "code",
   "execution_count": 11,
   "id": "2bb94434",
   "metadata": {},
   "outputs": [
    {
     "name": "stdout",
     "output_type": "stream",
     "text": [
      "Found 100 classes\n",
      "Number of samples per class (train) {0: 98, 1: 163, 2: 113, 3: 103, 4: 164, 5: 128, 6: 68, 7: 47, 8: 114, 9: 70, 10: 83, 11: 94, 12: 88, 13: 71, 14: 94, 15: 92, 16: 164, 17: 52, 18: 151, 19: 115, 20: 114, 21: 108, 22: 97, 23: 99, 24: 96, 25: 89, 26: 76, 27: 84, 28: 113, 29: 93, 30: 73, 31: 75, 32: 106, 33: 112, 34: 80, 35: 115, 36: 129, 37: 114, 38: 85, 39: 99, 40: 110, 41: 97, 42: 112, 43: 111, 44: 121, 45: 107, 46: 252, 47: 83, 48: 114, 49: 68, 50: 86, 51: 104, 52: 106, 53: 99, 54: 127, 55: 135, 56: 90, 57: 99, 58: 118, 59: 44, 60: 105, 61: 82, 62: 78, 63: 102, 64: 94, 65: 89, 66: 104, 67: 109, 68: 98, 69: 74, 70: 190, 71: 102, 72: 71, 73: 78, 74: 86, 75: 110, 76: 126, 77: 39, 78: 81, 79: 94, 80: 69, 81: 117, 82: 93, 83: 137, 84: 72, 85: 17, 86: 75, 87: 80, 88: 88, 89: 68, 90: 113, 91: 87, 92: 104, 93: 105, 94: 96, 95: 94, 96: 97, 97: 186, 98: 98, 99: 80}\n",
      "Number of samples per class (test) {0: 86, 1: 142, 2: 124, 3: 86, 4: 156, 5: 106, 6: 81, 7: 56, 8: 114, 9: 67, 10: 104, 11: 97, 12: 82, 13: 80, 14: 96, 15: 101, 16: 132, 17: 50, 18: 159, 19: 102, 20: 131, 21: 95, 22: 103, 23: 100, 24: 107, 25: 119, 26: 94, 27: 98, 28: 79, 29: 90, 30: 81, 31: 75, 32: 98, 33: 110, 34: 70, 35: 102, 36: 122, 37: 101, 38: 96, 39: 103, 40: 108, 41: 77, 42: 103, 43: 112, 44: 94, 45: 104, 46: 238, 47: 71, 48: 123, 49: 71, 50: 86, 51: 100, 52: 110, 53: 104, 54: 137, 55: 130, 56: 82, 57: 86, 58: 110, 59: 56, 60: 101, 61: 93, 62: 72, 63: 90, 64: 105, 65: 62, 66: 113, 67: 95, 68: 96, 69: 71, 70: 184, 71: 105, 72: 80, 73: 87, 74: 126, 75: 102, 76: 147, 77: 53, 78: 91, 79: 109, 80: 54, 81: 130, 82: 87, 83: 155, 84: 76, 85: 10, 86: 98, 87: 76, 88: 75, 89: 68, 90: 118, 91: 97, 92: 117, 93: 85, 94: 99, 95: 98, 96: 97, 97: 196, 98: 86, 99: 99}\n"
     ]
    }
   ],
   "source": [
    "num_classes = len(np.unique(y_train))\n",
    "counts_train = np.bincount(y_train)\n",
    "counts_test = np.bincount(y_test)\n",
    "\n",
    "print(f\"Found {num_classes} classes\")\n",
    "print(\"Number of samples per class (train)\", {i: counts_train[i] for i in range(len(counts_train))})\n",
    "print(\"Number of samples per class (test)\", {i: counts_test[i] for i in range(len(counts_test))})"
   ]
  },
  {
   "cell_type": "code",
   "execution_count": null,
   "id": "e9467983",
   "metadata": {},
   "outputs": [],
   "source": []
  },
  {
   "cell_type": "code",
   "execution_count": 12,
   "id": "c4068706",
   "metadata": {},
   "outputs": [],
   "source": [
    "class ClassifierDataset(Dataset):\n",
    "    def __init__(self, x_data, y_data):\n",
    "        self.x_data = x_data\n",
    "        self.y_data = y_data\n",
    "\n",
    "    def __getitem__(self, index):\n",
    "        return self.x_data[index], self.y_data[index]\n",
    "\n",
    "    def __len__(self):\n",
    "        return len(self.x_data)\n",
    "    \n",
    "def generate_dataset(train_x, train_y, batch_size, shuffle=True):\n",
    "    dataset = ClassifierDataset(torch.from_numpy(train_x).float(), torch.from_numpy(train_y).long())\n",
    "    loader = DataLoader(dataset=dataset, batch_size=batch_size, shuffle=shuffle)\n",
    "\n",
    "    return loader"
   ]
  },
  {
   "cell_type": "code",
   "execution_count": 13,
   "id": "63536a8f",
   "metadata": {},
   "outputs": [],
   "source": [
    "train_loader = generate_dataset(X_train, y_train, batch_size=1024, shuffle=True)\n",
    "test_loader = generate_dataset(X_test, y_test, batch_size=1024, shuffle=True)"
   ]
  },
  {
   "cell_type": "code",
   "execution_count": 14,
   "id": "ec562386",
   "metadata": {},
   "outputs": [
    {
     "name": "stdout",
     "output_type": "stream",
     "text": [
      "Training set size: ((10000, 600),(10000,)), Testing set size: ((10000, 600),(10000,))\n"
     ]
    }
   ],
   "source": [
    "print(f\"Training set size: ({X_train.shape},{y_train.shape}), Testing set size: ({X_test.shape},{y_test.shape})\")"
   ]
  },
  {
   "cell_type": "code",
   "execution_count": null,
   "id": "dbd84770",
   "metadata": {},
   "outputs": [],
   "source": []
  },
  {
   "cell_type": "code",
   "execution_count": 15,
   "id": "6eca4353",
   "metadata": {},
   "outputs": [],
   "source": [
    "class MLP(torch.nn.Module):\n",
    "    def __init__(self, input_dim, num_classes):\n",
    "        super(MLP, self).__init__()\n",
    "        self.layer1 = torch.nn.Linear(input_dim, 128)\n",
    "        self.out = torch.nn.Linear(128, num_classes)\n",
    "        self.activation = torch.nn.ReLU()\n",
    "\n",
    "    def forward(self, x):\n",
    "        x = self.layer1(x)\n",
    "        x = self.activation(x)\n",
    "        x = self.out(x)\n",
    "        return x"
   ]
  },
  {
   "cell_type": "code",
   "execution_count": null,
   "id": "d5ebf19a",
   "metadata": {},
   "outputs": [],
   "source": []
  },
  {
   "cell_type": "code",
   "execution_count": 16,
   "id": "a846ad55",
   "metadata": {},
   "outputs": [],
   "source": [
    "def test(model, data, criterion, prob=False):\n",
    "    model.eval()\n",
    "    loss, correct = 0., 0\n",
    "    probabilities, labels = [], []\n",
    "    if prob:\n",
    "        softmax = torch.nn.Softmax(dim=1)\n",
    "    with torch.no_grad():\n",
    "        for x, y in data:\n",
    "            out = model(x)\n",
    "            if prob:\n",
    "                probability = softmax(out)\n",
    "                probabilities.append(probability.flatten().tolist())\n",
    "            loss += criterion(out, y).item()\n",
    "            pred = out.argmax(dim=1)\n",
    "\n",
    "            correct += int((pred == y).sum().item())\n",
    "            labels.extend(y.tolist())\n",
    "    loss = loss / len(data)\n",
    "    accuracy = correct / len(data.dataset)\n",
    "\n",
    "    if prob:\n",
    "        return probabilities, loss, accuracy, np.array(labels)\n",
    "\n",
    "    return loss, accuracy\n",
    "\n",
    "def train(model, train_loader, test_loader, optimizer, criterion, epochs, log_interval=1, plot=True):\n",
    "    train_loss_history, train_acc_history = [], []  # track loss, accuracy\n",
    "    test_loss_history, test_acc_history = [], []\n",
    "    for epoch in range(1, epochs + 1):\n",
    "        model.train()  # training mode\n",
    "        for data, target in train_loader:\n",
    "            optimizer.zero_grad()  # zero out gradients\n",
    "            y_pred = model(data)  # forward propagation\n",
    "            loss = criterion(y_pred, target)  # calculate loss\n",
    "            loss.backward()  # backward pass, compute grads wrt to model parameters\n",
    "            optimizer.step()  # update weights\n",
    "\n",
    "        train_loss, train_acc = test(model, train_loader, criterion)  # test the model\n",
    "        test_loss, test_acc = test(model, test_loader, criterion)\n",
    "\n",
    "        train_acc_history.append(train_acc)  # keep metric history\n",
    "        test_acc_history.append(test_acc)\n",
    "        train_loss_history.append(train_loss)\n",
    "        test_loss_history.append(test_loss)\n",
    "\n",
    "        if epoch % log_interval == 0:  # log\n",
    "            print(f\"Epoch: [{epoch}/{epochs}]: Accuracy: {train_acc:.4f}, Loss: {train_loss:.4f}\")\n",
    "            print(f\"\\tEval Accuracy: {test_acc}, Loss: {test_loss:.4f}\")\n",
    "\n",
    "    if plot:  # plot history\n",
    "        plt.plot(train_acc_history, label=\"Train Acc\")\n",
    "        plt.plot(test_acc_history, label=\"Test Acc\")\n",
    "        plt.legend()\n",
    "        plt.show()\n",
    "        plt.close()\n",
    "\n",
    "        plt.plot(train_loss_history, label=\"Train Loss\")\n",
    "        plt.plot(test_loss_history, label=\"Test Loss\")\n",
    "        plt.legend()\n",
    "        plt.show()\n",
    "        plt.close()\n",
    "\n",
    "    return model"
   ]
  },
  {
   "cell_type": "code",
   "execution_count": null,
   "id": "e55b4f36",
   "metadata": {},
   "outputs": [],
   "source": []
  },
  {
   "cell_type": "code",
   "execution_count": 17,
   "id": "736b4e26",
   "metadata": {},
   "outputs": [],
   "source": [
    "model = MLP(X_train.shape[1], num_classes)\n",
    "optimizer = torch.optim.Adam(model.parameters(), lr=1e-3)\n",
    "criterion = torch.nn.CrossEntropyLoss()\n",
    "epochs = 150"
   ]
  },
  {
   "cell_type": "code",
   "execution_count": null,
   "id": "ed542a80",
   "metadata": {},
   "outputs": [],
   "source": []
  },
  {
   "cell_type": "code",
   "execution_count": 18,
   "id": "bfb426df",
   "metadata": {},
   "outputs": [
    {
     "name": "stdout",
     "output_type": "stream",
     "text": [
      "Epoch: [20/150]: Accuracy: 0.8375, Loss: 0.7562\n",
      "\tEval Accuracy: 0.6111, Loss: 1.1641\n",
      "Epoch: [40/150]: Accuracy: 0.9651, Loss: 0.3192\n",
      "\tEval Accuracy: 0.6392, Loss: 0.9974\n",
      "Epoch: [60/150]: Accuracy: 0.9976, Loss: 0.1465\n",
      "\tEval Accuracy: 0.634, Loss: 1.0105\n",
      "Epoch: [80/150]: Accuracy: 0.9996, Loss: 0.0765\n",
      "\tEval Accuracy: 0.6307, Loss: 1.0599\n",
      "Epoch: [100/150]: Accuracy: 1.0000, Loss: 0.0458\n",
      "\tEval Accuracy: 0.6286, Loss: 1.1111\n",
      "Epoch: [120/150]: Accuracy: 1.0000, Loss: 0.0300\n",
      "\tEval Accuracy: 0.6274, Loss: 1.1676\n",
      "Epoch: [140/150]: Accuracy: 1.0000, Loss: 0.0210\n",
      "\tEval Accuracy: 0.6231, Loss: 1.2130\n"
     ]
    },
    {
     "data": {
      "image/png": "[encoded data removed]",
      "text/plain": [
       "<Figure size 432x288 with 1 Axes>"
      ]
     },
     "metadata": {
      "needs_background": "light"
     },
     "output_type": "display_data"
    },
    {
     "data": {
      "image/png": "[encoded data removed]",
      "text/plain": [
       "<Figure size 432x288 with 1 Axes>"
      ]
     },
     "metadata": {
      "needs_background": "light"
     },
     "output_type": "display_data"
    }
   ],
   "source": [
    "trained_model = train(model, train_loader, test_loader, optimizer, criterion, epochs, log_interval=20, plot=True)"
   ]
  },
  {
   "cell_type": "code",
   "execution_count": null,
   "id": "7d8eaf06",
   "metadata": {},
   "outputs": [],
   "source": []
  },
  {
   "cell_type": "code",
   "execution_count": 19,
   "id": "eba25eed",
   "metadata": {},
   "outputs": [
    {
     "name": "stdout",
     "output_type": "stream",
     "text": [
      "***Training Data Evaluation Example***\n",
      "Accuracy: 1.0000, loss: 0.0178\n"
     ]
    }
   ],
   "source": [
    "print(\"***Training Data Evaluation Example***\")\n",
    "test_loader = generate_dataset(X_train, y_train, batch_size=1)\n",
    "probabilitites_train, test_loss, accuracy, _ = test(trained_model, test_loader, criterion, prob=True)\n",
    "print(f\"Accuracy: {accuracy:.4f}, loss: {test_loss:.4f}\")"
   ]
  },
  {
   "cell_type": "code",
   "execution_count": 20,
   "id": "d7a2cab5",
   "metadata": {},
   "outputs": [
    {
     "name": "stdout",
     "output_type": "stream",
     "text": [
      "[4.510065654272921e-10, 1.4402822296863862e-19, 0.0010555378394201398, 2.0086326117615303e-26, 7.519299505347826e-26, 0.9864509105682373, 1.3488359229540947e-07, 2.5781162094062893e-08, 7.827067349808203e-08, 1.0228128760614297e-10, 1.4583264608923618e-13, 3.66936307727439e-11, 7.595274098548543e-08, 8.449340498373203e-07, 5.982212947230892e-09, 0.00012521936150733382, 5.383163842157424e-16, 1.493085655113191e-10, 7.490901887501067e-14, 8.30800406612348e-19, 7.348307207166727e-08, 0.0005710612167604268, 1.5657353287679143e-05, 4.2585986648191465e-07, 1.198275327851661e-07, 2.46782810954524e-16, 5.284137841954362e-06, 6.468336323450785e-06, 1.652916581385e-09, 5.066686545145138e-13, 4.867454841419282e-14, 2.1421953988465248e-07, 9.378335380461067e-05, 9.392020729137585e-05, 4.867888606991571e-15, 7.088438280788978e-08, 0.0008897242951206863, 0.0007801262545399368, 6.1136153931727664e-18, 4.02664915299944e-11, 6.193660624376207e-07, 8.604437552103817e-16, 3.016224694053077e-14, 0.0007876234012655914, 1.6478283271226246e-07, 1.3281939573062118e-05, 4.935438735147988e-25, 1.8581131300265952e-08, 1.5722495163572603e-06, 7.975907578838815e-07, 1.7355197140522804e-12, 1.7839008705777815e-06, 7.005801450077342e-08, 2.504826346338973e-09, 1.1296083357592579e-05, 9.241511643565851e-29, 5.339246200719572e-08, 5.760962817902282e-10, 6.5248900682490785e-06, 8.114114848772891e-14, 4.009264475968166e-09, 3.245255086881116e-08, 1.774176694446794e-09, 1.5742462671983204e-12, 8.134070097977255e-15, 5.883073195267485e-11, 9.278004796733907e-13, 0.0034013474360108376, 2.9595170758511813e-10, 8.976592802412142e-10, 1.0686731786503124e-14, 4.776785189619659e-08, 5.591875762434029e-08, 2.081942673815007e-10, 1.3649734776528015e-28, 7.098744390532374e-05, 6.73464228384546e-07, 5.590550244960468e-09, 1.8134885593212857e-08, 1.4483934749265e-14, 6.289485533945982e-13, 1.2551686252859628e-11, 1.641754440728782e-11, 1.045942846222836e-13, 6.9313447227648244e-15, 8.586398794351954e-17, 1.2132052518154524e-07, 2.7603644412010908e-05, 1.5594830315990293e-08, 8.016123875798087e-11, 0.0055845328606665134, 6.276037467500828e-10, 7.123705481569802e-15, 8.609450787844253e-07, 2.7830471260870127e-10, 2.530057153975393e-29, 2.577234869960421e-09, 3.285099921042118e-27, 5.8442509498490836e-08, 9.167644776653106e-08]\n"
     ]
    }
   ],
   "source": [
    "print(probabilitites_train[0])"
   ]
  },
  {
   "cell_type": "code",
   "execution_count": 21,
   "id": "be5a0476",
   "metadata": {},
   "outputs": [
    {
     "name": "stdout",
     "output_type": "stream",
     "text": [
      "tensor(5)\n"
     ]
    },
    {
     "data": {
      "text/plain": [
       "0.9864509105682373"
      ]
     },
     "execution_count": 21,
     "metadata": {},
     "output_type": "execute_result"
    }
   ],
   "source": [
    "idx = torch.argmax(torch.from_numpy(np.array(probabilitites_train[0])))\n",
    "print(idx)\n",
    "probabilitites_train[0][idx.item()]"
   ]
  },
  {
   "cell_type": "code",
   "execution_count": null,
   "id": "9cb77863",
   "metadata": {},
   "outputs": [],
   "source": []
  },
  {
   "cell_type": "code",
   "execution_count": 22,
   "id": "3877c337",
   "metadata": {},
   "outputs": [
    {
     "name": "stdout",
     "output_type": "stream",
     "text": [
      "***Testing Data Evaluation Example***\n",
      "Accuracy: 0.6236, loss: 1.2378\n"
     ]
    }
   ],
   "source": [
    "print(\"***Testing Data Evaluation Example***\")\n",
    "test_loader = generate_dataset(X_test, y_test, batch_size=1, shuffle=False)\n",
    "probabilitites_test, test_loss, accuracy, _ = test(trained_model, test_loader, criterion, prob=True)\n",
    "print(f\"Accuracy: {accuracy:.4f}, loss: {test_loss:.4f}\")"
   ]
  },
  {
   "cell_type": "code",
   "execution_count": 23,
   "id": "09c0a79b",
   "metadata": {},
   "outputs": [
    {
     "name": "stdout",
     "output_type": "stream",
     "text": [
      "[[5.286949544824893e-06, 0.008999655954539776, 1.1063260767565919e-12, 1.3767082236881834e-05, 2.031456233453355e-06, 3.958511570090195e-06, 5.056016161297805e-10, 6.992033174668677e-09, 6.828340670672617e-10, 1.0049336918172003e-09, 2.7673182856347012e-08, 1.9251689309385256e-07, 0.08515556901693344, 5.736045949333857e-08, 8.67825949990575e-12, 0.005498604383319616, 0.0002604014880489558, 2.144808604498394e-06, 1.9819806311716093e-06, 0.015228725969791412, 4.918910008200328e-07, 1.2811950111935033e-10, 2.460187999986374e-07, 0.20373089611530304, 2.0542745460261358e-07, 4.755416616042396e-10, 2.001654735295233e-07, 2.4645299134817833e-09, 2.456541096762521e-06, 8.15676345911065e-12, 5.311999284884905e-09, 8.869417700285709e-11, 2.1051691639906167e-11, 2.7693909032677766e-06, 1.3150218693375008e-14, 1.4559543615177972e-07, 1.2537644533683334e-10, 2.0698511793426633e-09, 0.0024799946695566177, 1.5814350717846537e-07, 1.3542970123125997e-07, 0.0016371774254366755, 0.003594280919060111, 1.0349844359325289e-07, 2.679437227648407e-11, 3.7376455708226786e-08, 3.995566657977179e-06, 1.7727870726957917e-06, 5.202844022278441e-08, 2.913460230047349e-05, 2.45755359173927e-06, 2.2472372920856465e-11, 3.7817740050627435e-09, 1.0412795070635639e-08, 2.542425124596459e-11, 2.8981589821341913e-06, 5.941582639934495e-05, 2.050638409079042e-10, 2.5541294235154055e-07, 2.1225440838528592e-13, 0.6607639193534851, 3.2280755135616346e-07, 3.076742984831071e-07, 0.0008733890135772526, 7.203081242579401e-09, 1.0711464354384859e-10, 9.151392441708595e-05, 3.290450203974338e-11, 3.883367025991902e-05, 9.560340019643121e-11, 1.6617081044500992e-08, 9.758491614775266e-07, 9.487539500696585e-06, 0.0010391126852482557, 0.008813903667032719, 4.8157967285078485e-06, 5.690036886107919e-09, 6.680994601993007e-07, 1.7191274792605071e-10, 3.3242337771355324e-09, 1.6237403542618267e-05, 1.133851355916704e-06, 0.0010650233598425984, 2.2367936836076296e-08, 9.861667905897153e-12, 3.801563488374342e-15, 7.219480124831534e-08, 6.616610037646353e-11, 2.177127498725895e-05, 4.329405757508287e-12, 5.909955234528752e-06, 3.78752411052119e-05, 0.0004672665672842413, 4.79050683566129e-08, 1.2293251971939867e-09, 2.4068998754955828e-05, 5.722185962911408e-13, 1.542557015454804e-06, 1.0537804229215908e-07, 6.323061518820339e-11]]\n"
     ]
    }
   ],
   "source": [
    "print(probabilitites_test[:1])"
   ]
  },
  {
   "cell_type": "code",
   "execution_count": 24,
   "id": "24b889aa",
   "metadata": {},
   "outputs": [
    {
     "name": "stdout",
     "output_type": "stream",
     "text": [
      "tensor(60)\n"
     ]
    },
    {
     "data": {
      "text/plain": [
       "0.6607639193534851"
      ]
     },
     "execution_count": 24,
     "metadata": {},
     "output_type": "execute_result"
    }
   ],
   "source": [
    "idx = torch.argmax(torch.from_numpy(np.array(probabilitites_test[0])))\n",
    "print(idx)\n",
    "probabilitites_test[0][idx.item()]"
   ]
  },
  {
   "cell_type": "code",
   "execution_count": null,
   "id": "d27d1bae",
   "metadata": {},
   "outputs": [],
   "source": []
  },
  {
   "cell_type": "markdown",
   "id": "5b65993d",
   "metadata": {},
   "source": [
    "# Confidence-based Membership Inference (Black-Box Attack)"
   ]
  },
  {
   "cell_type": "code",
   "execution_count": 25,
   "id": "ed0a4120",
   "metadata": {},
   "outputs": [],
   "source": [
    "def threshold_membership_inference(target_model,\n",
    "                                   threshold=0.9):\n",
    "    \n",
    "    # attacker gets a set of samples\n",
    "    data = pd.read_csv('datasets/purchase100.csv', header=0)\n",
    "    # print(data['target'].value_counts())\n",
    "\n",
    "    columns = list(data.columns)\n",
    "    columns = columns[:len(columns) - 1]\n",
    "    X = data.loc[:, columns].to_numpy()\n",
    "    y = data.target.to_numpy().ravel()\n",
    "\n",
    "    num_classes = len(np.unique(y))\n",
    "    dataset = X, y\n",
    "    \n",
    "    # attacker queries the model\n",
    "    target_model.eval()\n",
    "    \n",
    "    softmax = torch.nn.Softmax(dim=0)\n",
    "    target_correct = 0\n",
    "    idx_membership = {}\n",
    "    attack_correct = 0\n",
    "    \n",
    "    with torch.no_grad():\n",
    "        for i in range(len(X)): # for each sample in the given dataset\n",
    "            # transform to torch tensor\n",
    "            tmp_x, tmp_y = torch.from_numpy(X[i]).float(), int(y[i])\n",
    "            # query the model\n",
    "            out = target_model(tmp_x)\n",
    "            # get confidence scores\n",
    "            probability = softmax(out) \n",
    "            pred = out.argmax().item() \n",
    "            if pred == tmp_y:\n",
    "                target_correct += 1\n",
    "            \n",
    "            # get the maximum confidence score for a sample\n",
    "            max_prob = torch.max(probability).item()\n",
    "            # insert sample to members if max_prob > threshold\n",
    "            if max_prob > threshold:\n",
    "                membership_pred = 1\n",
    "            else:\n",
    "                membership_pred = 0\n",
    "            idx_membership[i] = membership_pred\n",
    "    print(\"Target Acc:\", target_correct / len(X))\n",
    "    return idx_membership        "
   ]
  },
  {
   "cell_type": "code",
   "execution_count": 26,
   "id": "2e49ffbc",
   "metadata": {},
   "outputs": [
    {
     "name": "stdout",
     "output_type": "stream",
     "text": [
      "Target Acc: 0.8118\n"
     ]
    }
   ],
   "source": [
    "predictions = threshold_membership_inference(trained_model,threshold=0.9)"
   ]
  },
  {
   "cell_type": "code",
   "execution_count": 27,
   "id": "6c1e52e5",
   "metadata": {},
   "outputs": [],
   "source": [
    "def get_membership_score(membership, predictions):\n",
    "    assert len(membership) == len(predictions)\n",
    "    correct = 0\n",
    "    y_true, y_pred = [], []\n",
    "    for key in predictions:\n",
    "        if predictions[key] == membership[key]:\n",
    "            correct += 1\n",
    "        y_true.append(membership[key])\n",
    "        y_pred.append(predictions[key])\n",
    "        \n",
    "    tn, fp, fn, tp = confusion_matrix(y_true, y_pred).ravel()\n",
    "\n",
    "    precision = tp / (tp + fp)\n",
    "    recall = tp / (tp + fn)\n",
    "    fpr, tpr, thresholds = roc_curve(y_true, y_pred, pos_label=1)\n",
    "\n",
    "    print(f\"Correct predictions: {correct}/{len(predictions)}\")\n",
    "    print(f\"Accuracy: {correct / len(predictions):.4f}\")\n",
    "    print(f'TP: {tp}, TN: {tn}, FP: {fp}, FN: {fn}')\n",
    "    print(f\"Attack Precision: {precision}\")\n",
    "    print(f\"Attack Recall: {recall}\")\n",
    "    print(f\"Advantage (= tpr - fpr): {tpr[1] - fpr[1]}\")"
   ]
  },
  {
   "cell_type": "code",
   "execution_count": 28,
   "id": "150c475d",
   "metadata": {},
   "outputs": [
    {
     "name": "stdout",
     "output_type": "stream",
     "text": [
      "Correct predictions: 15750/20000\n",
      "Accuracy: 0.7875\n",
      "TP: 9996, TN: 5754, FP: 4246, FN: 4\n",
      "Attack Precision: 0.7018677152085381\n",
      "Attack Recall: 0.9996\n",
      "Advantage (= tpr - fpr): 0.5750000000000001\n"
     ]
    }
   ],
   "source": [
    "get_membership_score(membership, predictions)"
   ]
  },
  {
   "cell_type": "code",
   "execution_count": null,
   "id": "2707c4e5",
   "metadata": {},
   "outputs": [],
   "source": []
  },
  {
   "cell_type": "markdown",
   "id": "bd99e0c0",
   "metadata": {},
   "source": [
    "# Correct-based Membership Inference (Black-Box Attack)"
   ]
  },
  {
   "cell_type": "code",
   "execution_count": 29,
   "id": "cc37482f",
   "metadata": {},
   "outputs": [],
   "source": [
    "def correct_membership_inference(target_model):\n",
    "    \n",
    "    # attacker gets a set of samples\n",
    "    data = pd.read_csv('datasets/purchase100.csv', header=0)\n",
    "    # print(data['target'].value_counts())\n",
    "\n",
    "    columns = list(data.columns)\n",
    "    columns = columns[:len(columns) - 1]\n",
    "    X = data.loc[:, columns].to_numpy()\n",
    "    y = data.target.to_numpy().ravel()\n",
    "\n",
    "    num_classes = len(np.unique(y))\n",
    "    dataset = X, y\n",
    "    \n",
    "    # attacker queries the model\n",
    "    target_model.eval()\n",
    "    \n",
    "    \n",
    "    target_correct = 0\n",
    "    idx_membership = {}\n",
    "    attack_correct = 0\n",
    "    \n",
    "    with torch.no_grad():\n",
    "        for i in range(len(X)): # for each sample in the given dataset\n",
    "            # transform to torch tensor\n",
    "            tmp_x, tmp_y = torch.from_numpy(X[i]).float(), int(y[i])\n",
    "            # query the model\n",
    "            out = target_model(tmp_x)\n",
    "            # get confidence scores\n",
    "            \n",
    "            pred = out.argmax().item() \n",
    "            if pred == tmp_y:\n",
    "                target_correct += 1\n",
    "                membership_pred = 1\n",
    "            else:\n",
    "                membership_pred = 0\n",
    "            \n",
    "            idx_membership[i] = membership_pred\n",
    "    print(\"Target Acc:\", target_correct / len(X))\n",
    "    return idx_membership "
   ]
  },
  {
   "cell_type": "code",
   "execution_count": 30,
   "id": "153edcae",
   "metadata": {},
   "outputs": [
    {
     "name": "stdout",
     "output_type": "stream",
     "text": [
      "Target Acc: 0.8118\n",
      "Correct predictions: 13764/20000\n",
      "Accuracy: 0.6882\n",
      "TP: 10000, TN: 3764, FP: 6236, FN: 0\n",
      "Attack Precision: 0.6159152500615915\n",
      "Attack Recall: 1.0\n",
      "Advantage (= tpr - fpr): 0.37639999999999996\n"
     ]
    }
   ],
   "source": [
    "predictions = correct_membership_inference(trained_model)\n",
    "get_membership_score(membership, predictions)"
   ]
  },
  {
   "cell_type": "code",
   "execution_count": null,
   "id": "63bdba22",
   "metadata": {},
   "outputs": [],
   "source": []
  },
  {
   "cell_type": "markdown",
   "id": "15ef87ad",
   "metadata": {},
   "source": [
    "# Limitations\n",
    "\n",
    "- Which threshold is optimal for the threshold-based attack?\n",
    "- What if the model generalizes well on unseen samples (correct-based attack)?\n",
    "\n",
    "The above attack methods can only serve as baseline\n",
    "\n",
    "## Solution: Shokri Attack (Training Shadow models)\n",
    "[Shokri, Reza, Marco Stronati, Congzheng Song, and Vitaly Shmatikov. \"Membership inference attacks against machine learning models.\" In 2017 IEEE symposium on security and privacy (SP), pp. 3-18. IEEE, 2017.](https://arxiv.org/abs/1610.05820)"
   ]
  },
  {
   "cell_type": "markdown",
   "id": "db5f9f4d",
   "metadata": {},
   "source": [
    "- We observed that given a threshold on an overfitted model, an attacker can correctly predict the membership with high probability.\n",
    "\n",
    "- The Shokri attack exploits the confidence scores. \n",
    "    - First, the attacker collects samples, similar to those used to train the target model and constructs a dataset, called shadow dataset. The target model is the model that the attacker wishes to assess its robustness against MIA. By collecting the shadow dataset, the attacker is aware of the features and the corresponding labels. There are many ways of collecting such samples in the real world:\n",
    "            - Generation of synthetic data: The attacker can use statistical or Generative Adversarial Network (GAN) based methods to generate synthetic data.\n",
    "            - Generation of random data: The attacker can generate random data and query the target model.\n",
    "            - Collection of similar data: The attacker can collect similar datasets to that used to train the target model.\n",
    "    - Second, the shadow dataset is used to train multiple machine learning models, called shadow models. The shadow models are intended to imitate the behavior of the target model. More precisely, the attacker splits the shadow dataset into training and testing sets (multiple times using disjoint sets if possible). Then it uses the training sets to generate multiple predictive models. Each sample belonging to the shadow training set of a shadow model is labeled as a member (1) and each sample belonging to the shadow testing set is labeled as a non-member (0).   \n",
    "    - Finally, the confidence scores of the shadow models and the membership information are given as input to an attack model. On a higher level, the attack model is a binary classifier and is trained on the confidence scores of the shadow models and the target is the membership information of the shadow dataset, which is known to the attacker. "
   ]
  },
  {
   "cell_type": "markdown",
   "id": "5647e9ec",
   "metadata": {},
   "source": [
    "# Extended Shokri Attack\n",
    "\n",
    "It is observed that the corresponding confidence scores vary among classes. For instance, consider a scenario where the target model is generated on an imbalanced dataset comprising 10 classes. Assuming that class 10 has fewer samples, it is highly likely that the corresponding confidence scores may vary from the corresponding scores of the rest classes.\n",
    "\n",
    "An extension to the Shokri attack is to enhance the training of the attack model. In this variant, the attacker generates an attack model for each class. In other words, the shadow training and testing sets of each shadow model are further divided by class, i.e., the attacker starts by the predictions of the samples belonging to class 0, then gets the samples belonging to class 1 and so forth. For each class, it initiates the training of an attack model. We end up with as many attack models as the number of classes on the original dataset. To evaluate the membership of a sample to the target model, the attacker first queries the target model. The target model responds with the confidence scores and hence, the attacker is aware of the corresponding label. Finally, the attacker selects the attack model generated using the predicted class and evaluates the membership of the sample."
   ]
  }
 ],
 "metadata": {
  "kernelspec": {
   "display_name": "Python 3 (ipykernel)",
   "language": "python",
   "name": "python3"
  },
  "language_info": {
   "codemirror_mode": {
    "name": "ipython",
    "version": 3
   },
   "file_extension": ".py",
   "mimetype": "text/x-python",
   "name": "python",
   "nbconvert_exporter": "python",
   "pygments_lexer": "ipython3",
   "version": "3.8.12"
  }
 },
 "nbformat": 4,
 "nbformat_minor": 5
}
