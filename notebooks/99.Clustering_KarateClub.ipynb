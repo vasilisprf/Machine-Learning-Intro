{
  "cells": [
    {
      "cell_type": "markdown",
      "source": [
        "# Import libraries"
      ],
      "metadata": {
        "id": "57w13qpzUxO1"
      },
      "id": "57w13qpzUxO1"
    },
    {
      "cell_type": "code",
      "execution_count": null,
      "id": "47828713",
      "metadata": {
        "id": "47828713"
      },
      "outputs": [],
      "source": [
        "import networkx as nx\n",
        "import numpy as np\n",
        "\n",
        "from sklearn import preprocessing\n",
        "\n",
        "import matplotlib.pyplot as plt\n",
        "import matplotlib.cm as cm\n",
        "\n",
        "import networkx.algorithms.community as nx_comm\n",
        "from sklearn.metrics.cluster import normalized_mutual_info_score, mutual_info_score, adjusted_mutual_info_score,davies_bouldin_score, silhouette_score, rand_score, adjusted_rand_score, homogeneity_score, completeness_score \n",
        "from sklearn.metrics import accuracy_score, precision_score, recall_score, f1_score, balanced_accuracy_score\n",
        "\n",
        "from sklearn.cluster import KMeans\n",
        "\n",
        "import copy"
      ]
    },
    {
      "cell_type": "markdown",
      "id": "e66f3fc9",
      "metadata": {
        "id": "e66f3fc9"
      },
      "source": [
        "Print community metrics\n"
      ]
    },
    {
      "cell_type": "code",
      "execution_count": null,
      "id": "09612b39",
      "metadata": {
        "id": "09612b39"
      },
      "outputs": [],
      "source": [
        "def print_metrics_community(method_name, G, communities):\n",
        "    modularity_method = nx_comm.modularity(G, communities)\n",
        "    coverage_method = nx_comm.coverage(G, communities)\n",
        "    performance_method = nx_comm.performance(G, communities)\n",
        "    print('---------')\n",
        "    print(f'Metrics for communities with {method_name}')\n",
        "    print(f'Modularity ({method_name}): {modularity_method:.4f}')\n",
        "    print(f'Coverage ({method_name}: {coverage_method:.4f}')\n",
        "    print(f'Performance ({method_name}: {performance_method:.4f}')\n",
        "    return modularity_method\n",
        "\n",
        "def print_metrics_cluster(method_name, ground_truth, labels):\n",
        "    ground_truth = np.array(ground_truth)\n",
        "    labels = np.array(labels)\n",
        "    mi_score_method = mutual_info_score(ground_truth, labels)\n",
        "    nmi_score_method = normalized_mutual_info_score(ground_truth, labels)\n",
        "    ami_score_method = adjusted_mutual_info_score(ground_truth, labels)\n",
        "    davies_bouldin_score_method = davies_bouldin_score(ground_truth.reshape(-1, 1), labels.ravel())\n",
        "    silhouette_score_method = silhouette_score(ground_truth.reshape(-1, 1), labels.ravel())\n",
        "    rand_score_method = rand_score(ground_truth, labels)\n",
        "    adjusted_rand_score_method = adjusted_rand_score(ground_truth, labels)\n",
        "    hom_score_method = homogeneity_score(ground_truth, labels)\n",
        "    com_score_method = completeness_score(ground_truth, labels)\n",
        "    print('---------')\n",
        "    print(f'Metrics for clustering with {method_name}')\n",
        "    print(f'Mutual Information (MI) score ({method_name}): {mi_score_method:.4f}')\n",
        "    print(f'Normalized Mutual Information (NMI) score ({method_name}): {nmi_score_method:.4f}')\n",
        "    print(f'Adjusted Mutual Information (AMI) score ({method_name}): {ami_score_method:.4f}')\n",
        "    print(f'Davies Bouldin (DB) score ({method_name}): {davies_bouldin_score_method:.4f}')\n",
        "    print(f'Silhouette score ({method_name}): {silhouette_score_method:.4f}')\n",
        "    print(f'Rand score ({method_name}): {rand_score_method:.4f}')\n",
        "    print(f'Adjusted Rand score ({method_name}): {adjusted_rand_score_method:.4f}')\n",
        "    print(f'Homogeneity score ({method_name}): {hom_score_method:.4f}')\n",
        "    print(f'Completeness score ({method_name}): {com_score_method:.4f}')\n",
        "    return silhouette_score_method\n",
        "\n",
        "    "
      ]
    },
    {
      "cell_type": "markdown",
      "source": [
        "# Φόρτωση γραφήματος\n"
      ],
      "metadata": {
        "id": "GVO0i6lJSldV"
      },
      "id": "GVO0i6lJSldV"
    },
    {
      "cell_type": "code",
      "execution_count": null,
      "id": "7a316d88",
      "metadata": {
        "id": "7a316d88"
      },
      "outputs": [],
      "source": [
        "G = nx.karate_club_graph()\n",
        "nx.draw(G, with_labels=True, font_weight='bold')"
      ]
    },
    {
      "cell_type": "code",
      "execution_count": null,
      "id": "b9d902c5",
      "metadata": {
        "id": "b9d902c5"
      },
      "outputs": [],
      "source": [
        "G.nodes()"
      ]
    },
    {
      "cell_type": "code",
      "execution_count": null,
      "id": "8e7a423e",
      "metadata": {
        "id": "8e7a423e"
      },
      "outputs": [],
      "source": [
        "n = nx.number_of_nodes(G)\n",
        "n"
      ]
    },
    {
      "cell_type": "code",
      "execution_count": null,
      "id": "94b3103f",
      "metadata": {
        "id": "94b3103f"
      },
      "outputs": [],
      "source": [
        "Mr_Hi = 0\n",
        "John_A = 33\n",
        "\n",
        "club_labels = nx.get_node_attributes(G,'club')"
      ]
    },
    {
      "cell_type": "code",
      "execution_count": null,
      "id": "2567a825",
      "metadata": {
        "id": "2567a825"
      },
      "outputs": [],
      "source": [
        "circ_pos = nx.circular_layout(G)\n",
        "nx.draw(G,circ_pos)\n",
        "# highlight Mr Hi (green) and John A (red)\n",
        "nx.draw_networkx_nodes(G, circ_pos, nodelist=[Mr_Hi], node_color='g', alpha=1)\n",
        "nx.draw_networkx_nodes(G, circ_pos, nodelist=[John_A], node_color='r', alpha=1)"
      ]
    },
    {
      "cell_type": "code",
      "execution_count": null,
      "id": "cc3bec17",
      "metadata": {
        "id": "cc3bec17"
      },
      "outputs": [],
      "source": [
        "# density\n",
        "print(\"Network density:\", nx.density(G))\n",
        "# average degree\n",
        "degree = G.degree()\n",
        "degree_list = []\n",
        "for (_,d) in degree:\n",
        "    degree_list.append(d)\n",
        "av_degree = sum(degree_list) / len(degree_list)\n",
        "print('The average degree is ' + str(av_degree))"
      ]
    },
    {
      "cell_type": "code",
      "execution_count": null,
      "id": "4ac53117",
      "metadata": {
        "id": "4ac53117"
      },
      "outputs": [],
      "source": [
        "from operator import itemgetter\n",
        "\n",
        "degree_dict = dict(G.degree(G.nodes()))\n",
        "nx.set_node_attributes(G, degree_dict, 'degree')\n",
        "sorted_degree = sorted(degree_dict.items(), key=itemgetter(1), reverse=True)\n",
        "print(\"Nodes by degree:\")\n",
        "for d in sorted_degree:\n",
        "    print(d)"
      ]
    },
    {
      "cell_type": "code",
      "execution_count": null,
      "id": "70fe783a",
      "metadata": {
        "id": "70fe783a"
      },
      "outputs": [],
      "source": [
        "club_labels = nx.get_node_attributes(G,'club')"
      ]
    },
    {
      "cell_type": "code",
      "execution_count": null,
      "id": "4f3b5d90",
      "metadata": {
        "id": "4f3b5d90"
      },
      "outputs": [],
      "source": [
        "node_label = {key:club_labels[key] for key in club_labels}\n",
        "node_label"
      ]
    },
    {
      "cell_type": "code",
      "execution_count": null,
      "id": "92b617cd",
      "metadata": {
        "id": "92b617cd"
      },
      "outputs": [],
      "source": [
        "labels = list(node_label.values())\n",
        "le = preprocessing.LabelEncoder()\n",
        "labels = list(le.fit_transform(labels))\n",
        "labels"
      ]
    },
    {
      "cell_type": "markdown",
      "id": "de797324",
      "metadata": {
        "id": "de797324"
      },
      "source": [
        "# Community Detection - Louvain\n",
        "\n",
        "Σκοπός είναι να βρεθούν κοινότητες μεταξύ των κόμβων του γράφου."
      ]
    },
    {
      "cell_type": "code",
      "execution_count": null,
      "id": "9cc1ba90",
      "metadata": {
        "id": "9cc1ba90"
      },
      "outputs": [],
      "source": [
        "def plot_community(G, partition):\n",
        "    pos = nx.spring_layout(G)\n",
        "    cmap = cm.get_cmap('viridis', max(partition.values()) + 1)\n",
        "    nx.draw_networkx_nodes(G, pos, partition.keys(), node_size=300, node_color=list(partition.values()))\n",
        "    nx.draw_networkx_edges(G, pos, alpha=0.5)\n",
        "    nx.draw_networkx_labels(G, pos, font_color='w')\n",
        "    plt.show()\n",
        "    plt.close()"
      ]
    },
    {
      "cell_type": "code",
      "execution_count": null,
      "id": "95faa2fe",
      "metadata": {
        "id": "95faa2fe"
      },
      "outputs": [],
      "source": [
        "modularity, silhouette = dict(), dict()"
      ]
    },
    {
      "cell_type": "code",
      "execution_count": null,
      "id": "1edb7357",
      "metadata": {
        "id": "1edb7357"
      },
      "outputs": [],
      "source": [
        "import community.community_louvain as community_louvain"
      ]
    },
    {
      "cell_type": "code",
      "execution_count": null,
      "id": "54be1000",
      "metadata": {
        "colab": {
          "base_uri": "https://localhost:8080/",
          "height": 248
        },
        "id": "54be1000",
        "outputId": "68f62d39-e053-4770-fa59-17c0111344bd"
      },
      "outputs": [
        {
          "output_type": "display_data",
          "data": {
            "text/plain": [
              "<Figure size 432x288 with 1 Axes>"
            ],
            "image/png": "[encoded data removed]"
          },
          "metadata": {}
        }
      ],
      "source": [
        "partition = community_louvain.best_partition(G, resolution=1., random_state=0)\n",
        "num_of_clusters = max(partition.values()) + 1\n",
        "plot_community(G, partition)"
      ]
    },
    {
      "cell_type": "code",
      "execution_count": null,
      "id": "61538d94",
      "metadata": {
        "id": "61538d94"
      },
      "outputs": [],
      "source": [
        "clusters_louv = [[]  for _ in range(num_of_clusters)]\n",
        "for v in partition:\n",
        "    c = partition[v]\n",
        "    clusters_louv[c].append(v)\n",
        "\n",
        "louvain_labels = [c for c in partition.values()]  "
      ]
    },
    {
      "cell_type": "code",
      "execution_count": null,
      "id": "71d0d797",
      "metadata": {
        "colab": {
          "base_uri": "https://localhost:8080/"
        },
        "id": "71d0d797",
        "outputId": "1ce9f500-6766-4b5a-c5b0-f188d7c381ad"
      },
      "outputs": [
        {
          "output_type": "stream",
          "name": "stdout",
          "text": [
            "---------\n",
            "Metrics for communities with Louvain\n",
            "Modularity (Louvain): 0.4156\n",
            "Coverage (Louvain: 0.7564\n",
            "Performance (Louvain: 0.7861\n",
            "---------\n",
            "Metrics for clustering with Louvain\n",
            "Mutual Information (MI) score (Louvain): 0.4882\n",
            "Normalized Mutual Information (NMI) score (Louvain): 0.4977\n",
            "Adjusted Mutual Information (AMI) score (Louvain): 0.4704\n",
            "Davies Bouldin (DB) score (Louvain): 1.8397\n",
            "Silhouette score (Louvain): -0.4706\n",
            "Rand score (Louvain): 0.7184\n",
            "Adjusted Rand score (Louvain): 0.4293\n",
            "Homogeneity score (Louvain): 0.7044\n",
            "Completeness score (Louvain): 0.3848\n"
          ]
        }
      ],
      "source": [
        "m = print_metrics_community('Louvain', G, clusters_louv)\n",
        "s = print_metrics_cluster('Louvain', labels, louvain_labels)\n",
        "modularity['Louvain'] = m\n",
        "silhouette['Louvain'] = s"
      ]
    },
    {
      "cell_type": "code",
      "execution_count": null,
      "id": "043896be",
      "metadata": {
        "colab": {
          "base_uri": "https://localhost:8080/",
          "height": 526
        },
        "id": "043896be",
        "outputId": "5579612e-32b6-4228-f085-88c47314f189"
      },
      "outputs": [
        {
          "output_type": "display_data",
          "data": {
            "text/plain": [
              "<Figure size 432x288 with 1 Axes>"
            ],
            "image/png": "[encoded data removed]"
          },
          "metadata": {}
        },
        {
          "output_type": "stream",
          "name": "stdout",
          "text": [
            "---------\n",
            "Metrics for communities with Louvain\n",
            "Modularity (Louvain): 0.1774\n",
            "Coverage (Louvain: 0.8590\n",
            "Performance (Louvain: 0.5009\n",
            "---------\n",
            "Metrics for clustering with Louvain\n",
            "Mutual Information (MI) score (Louvain): 0.2322\n",
            "Normalized Mutual Information (NMI) score (Louvain): 0.3654\n",
            "Adjusted Mutual Information (AMI) score (Louvain): 0.3493\n",
            "Davies Bouldin (DB) score (Louvain): 0.6400\n",
            "Silhouette score (Louvain): 0.3627\n",
            "Rand score (Louvain): 0.6292\n",
            "Adjusted Rand score (Louvain): 0.2629\n",
            "Homogeneity score (Louvain): 0.3350\n",
            "Completeness score (Louvain): 0.4018\n"
          ]
        }
      ],
      "source": [
        "combined1, combined2 = clusters_louv[0] + clusters_louv[1], clusters_louv[2] + clusters_louv[3] \n",
        "combined_community = [combined1, combined2]\n",
        "\n",
        "partition = dict()\n",
        "for i, community in enumerate(combined_community):\n",
        "    for node in community:\n",
        "        partition[node] = i\n",
        "        \n",
        "plot_community(G, partition)\n",
        "num_clusters = 2\n",
        "\n",
        "clusters_louv = [[]  for _ in range(num_of_clusters)]\n",
        "for v in partition:\n",
        "    c = partition[v]\n",
        "    clusters_louv[c].append(v)\n",
        "\n",
        "louvain_labels = [c for c in partition.values()] \n",
        "\n",
        "m = print_metrics_community('Louvain', G, clusters_louv)\n",
        "s = print_metrics_cluster('Louvain', labels, louvain_labels)\n",
        "modularity['Louvainv2'] = m\n",
        "silhouette['Louvainv2'] = s"
      ]
    },
    {
      "cell_type": "markdown",
      "source": [
        "# Community Detection - Girvan Newman"
      ],
      "metadata": {
        "id": "kGzw09qGV8mm"
      },
      "id": "kGzw09qGV8mm"
    },
    {
      "cell_type": "code",
      "execution_count": null,
      "id": "a76cc3a2",
      "metadata": {
        "id": "a76cc3a2"
      },
      "outputs": [],
      "source": [
        "import operator"
      ]
    },
    {
      "cell_type": "code",
      "execution_count": null,
      "id": "dc3aa59b",
      "metadata": {
        "id": "dc3aa59b",
        "colab": {
          "base_uri": "https://localhost:8080/"
        },
        "outputId": "6d32636e-5e7d-4b0a-efb8-c227fb78e407"
      },
      "outputs": [
        {
          "output_type": "stream",
          "name": "stdout",
          "text": [
            "Removed edge: (0, 31)\n",
            "Removed edge: (0, 2)\n",
            "Removed edge: (0, 8)\n",
            "Removed edge: (13, 33)\n",
            "Removed edge: (19, 33)\n",
            "Removed edge: (2, 32)\n",
            "Removed edge: (1, 30)\n",
            "Removed edge: (1, 2)\n",
            "Removed edge: (2, 3)\n",
            "Removed edge: (2, 7)\n",
            "Removed edge: (2, 13)\n"
          ]
        }
      ],
      "source": [
        "number_of_communities = 2\n",
        "num_of_cc = nx.number_connected_components(G)\n",
        "while num_of_cc < number_of_communities:\n",
        "    B = nx.edge_betweenness_centrality(G)\n",
        "    edge = max(B.items(), key=operator.itemgetter(1))[0]\n",
        "    G.remove_edge(edge[0], edge[1])\n",
        "    print(f'Removed edge: {edge}')\n",
        "    num_of_cc = nx.number_connected_components(G)"
      ]
    },
    {
      "cell_type": "code",
      "source": [
        "# Colors for the nodes of each community\n",
        "palette = ['yellow', 'cyan', 'lightgreen', 'lightgrey']\n",
        "node_color = [None] * len(G)\n",
        "cc = nx.connected_components(G)\n",
        "for i,c in enumerate(cc):\n",
        "    for node in c:\n",
        "        node_color[node] = palette[i]"
      ],
      "metadata": {
        "id": "rCJx46xwWmcO"
      },
      "id": "rCJx46xwWmcO",
      "execution_count": null,
      "outputs": []
    },
    {
      "cell_type": "code",
      "source": [
        "# Convert cc to list of communities\n",
        "cc = nx.connected_components(G)\n",
        "partition = list()\n",
        "for c in cc:\n",
        "    partition.append(list(c))"
      ],
      "metadata": {
        "id": "pW0O_FvVWqm1"
      },
      "id": "pW0O_FvVWqm1",
      "execution_count": null,
      "outputs": []
    },
    {
      "cell_type": "code",
      "source": [
        "# Create the original graph again\n",
        "G = nx.karate_club_graph()"
      ],
      "metadata": {
        "id": "2XRjJeonWwGR"
      },
      "id": "2XRjJeonWwGR",
      "execution_count": null,
      "outputs": []
    },
    {
      "cell_type": "code",
      "source": [
        "# Draw the graph using the colors \n",
        "plt.title('Girvan-Newman clustering')\n",
        "nx.draw(G, with_labels=True, node_color=node_color)\n",
        "plt.show()"
      ],
      "metadata": {
        "colab": {
          "base_uri": "https://localhost:8080/",
          "height": 264
        },
        "id": "xcYlQaXBWwON",
        "outputId": "9d52ccfc-d87f-4d70-a6d9-d11ccadab7c6"
      },
      "id": "xcYlQaXBWwON",
      "execution_count": null,
      "outputs": [
        {
          "output_type": "display_data",
          "data": {
            "text/plain": [
              "<Figure size 432x288 with 1 Axes>"
            ],
            "image/png": "[encoded data removed]"
          },
          "metadata": {}
        }
      ]
    },
    {
      "cell_type": "code",
      "source": [
        "# Metrics for the clustering\n",
        "import networkx.algorithms.community as nx_comm\n",
        "\n",
        "modularity = nx_comm.modularity(G, partition)\n",
        "print(f'Modularity (Girvan-Newman): {modularity}')\n",
        "\n",
        "coverage = nx_comm.coverage(G, partition)\n",
        "print(f'Coverage (Girvan-Newman): {coverage}')\n",
        "\n",
        "performance = nx_comm.performance(G, partition)\n",
        "print(f'Performance (Girvan-Newman): {performance}')"
      ],
      "metadata": {
        "colab": {
          "base_uri": "https://localhost:8080/"
        },
        "id": "UFkkkphLWwUV",
        "outputId": "c94a89bf-e1f8-49de-8992-06938efeb7df"
      },
      "id": "UFkkkphLWwUV",
      "execution_count": null,
      "outputs": [
        {
          "output_type": "stream",
          "name": "stdout",
          "text": [
            "Modularity (Girvan-Newman): 0.3599605522682445\n",
            "Coverage (Girvan-Newman): 0.8717948717948718\n",
            "Performance (Girvan-Newman): 0.6114081996434938\n"
          ]
        }
      ]
    },
    {
      "cell_type": "code",
      "source": [
        "m = print_metrics_community('Girvan-Newman', G, partition)\n",
        "s = print_metrics_cluster('Girvan-Newman', labels, node_color)\n",
        "modularity['Girvan-Newman'] = m\n",
        "silhouette['Girvan-Newman'] = s"
      ],
      "metadata": {
        "colab": {
          "base_uri": "https://localhost:8080/"
        },
        "id": "c5ZG18g5cC5K",
        "outputId": "92cc5046-5a12-45b3-879f-8e9d92e54cae"
      },
      "id": "c5ZG18g5cC5K",
      "execution_count": null,
      "outputs": [
        {
          "output_type": "stream",
          "name": "stdout",
          "text": [
            "---------\n",
            "Metrics for communities with Girvan-Newman\n",
            "Modularity (Girvan-Newman): 0.3600\n",
            "Coverage (Girvan-Newman: 0.8718\n",
            "Performance (Girvan-Newman: 0.6114\n",
            "---------\n",
            "Metrics for clustering with Girvan-Newman\n",
            "Mutual Information (MI) score (Girvan-Newman): 0.5051\n",
            "Normalized Mutual Information (NMI) score (Girvan-Newman): 0.7324\n",
            "Adjusted Mutual Information (AMI) score (Girvan-Newman): 0.7263\n",
            "Davies Bouldin (DB) score (Girvan-Newman): 0.2105\n",
            "Silhouette score (Girvan-Newman): 0.8268\n",
            "Rand score (Girvan-Newman): 0.8859\n",
            "Adjusted Rand score (Girvan-Newman): 0.7717\n",
            "Homogeneity score (Girvan-Newman): 0.7287\n",
            "Completeness score (Girvan-Newman): 0.7361\n"
          ]
        }
      ]
    },
    {
      "cell_type": "markdown",
      "id": "fc9bae28",
      "metadata": {
        "id": "fc9bae28"
      },
      "source": [
        "# Features\n",
        " \n",
        "Τα μέλη του δικτύου χωρίζονται γύρω από τον κόμβο 0 (Mr. Hi) και τον κόμβο 33 (Officer). Μαθηματικά, η δομή του δικτύου μπορεί εύκολα να αναπραστεί ως ο πίνακας γειτνίασης (Adjacency Matrix). \n",
        " \n",
        "Ο γράφος που μελετούμε είναι μη κατευθυνόμενος και χωρίς βάρη (undirected & unweighted). Αυτό σημαίνει ότι οι ακμές δεν σχετίζονται με την κατεύθυνση (Α συμμετρικός) και οι ακμές λαμβάνουν binary τιμή."
      ]
    },
    {
      "cell_type": "code",
      "execution_count": null,
      "id": "973c89e4",
      "metadata": {
        "id": "973c89e4"
      },
      "outputs": [],
      "source": [
        "g_self_loops = copy.deepcopy(G)\n",
        "self_loops = [(i, i) for i in list(G.nodes())]\n",
        "g_self_loops.add_edges_from(self_loops)"
      ]
    },
    {
      "cell_type": "code",
      "execution_count": null,
      "id": "bf3305d0",
      "metadata": {
        "id": "bf3305d0"
      },
      "outputs": [],
      "source": [
        "A = nx.convert_matrix.to_numpy_matrix(G, nodelist=None, weight=None)\n",
        "A = np.asarray(A)\n",
        "\n",
        "A_self_loops = nx.convert_matrix.to_numpy_matrix(g_self_loops, nodelist=None, weight=None)\n",
        "A_self_loops = np.asarray(A_self_loops)"
      ]
    },
    {
      "cell_type": "code",
      "execution_count": null,
      "id": "11f2054c",
      "metadata": {
        "colab": {
          "base_uri": "https://localhost:8080/"
        },
        "id": "11f2054c",
        "outputId": "519463ec-60bb-42c2-8652-0200261e27b7"
      },
      "outputs": [
        {
          "output_type": "execute_result",
          "data": {
            "text/plain": [
              "array([[0., 1., 1., ..., 1., 0., 0.],\n",
              "       [1., 0., 1., ..., 0., 0., 0.],\n",
              "       [1., 1., 0., ..., 0., 1., 0.],\n",
              "       ...,\n",
              "       [1., 0., 0., ..., 0., 1., 1.],\n",
              "       [0., 0., 1., ..., 1., 0., 1.],\n",
              "       [0., 0., 0., ..., 1., 1., 0.]])"
            ]
          },
          "metadata": {},
          "execution_count": 32
        }
      ],
      "source": [
        "A"
      ]
    },
    {
      "cell_type": "code",
      "execution_count": null,
      "id": "1cfe67b5",
      "metadata": {
        "colab": {
          "base_uri": "https://localhost:8080/"
        },
        "id": "1cfe67b5",
        "outputId": "dac8e771-53f6-4217-b1b3-8c45bd1b33b0"
      },
      "outputs": [
        {
          "output_type": "execute_result",
          "data": {
            "text/plain": [
              "array([[1., 1., 1., ..., 1., 0., 0.],\n",
              "       [1., 1., 1., ..., 0., 0., 0.],\n",
              "       [1., 1., 1., ..., 0., 1., 0.],\n",
              "       ...,\n",
              "       [1., 0., 0., ..., 1., 1., 1.],\n",
              "       [0., 0., 1., ..., 1., 1., 1.],\n",
              "       [0., 0., 0., ..., 1., 1., 1.]])"
            ]
          },
          "metadata": {},
          "execution_count": 33
        }
      ],
      "source": [
        "A_self_loops"
      ]
    },
    {
      "cell_type": "code",
      "execution_count": null,
      "id": "faa6fb9d",
      "metadata": {
        "id": "faa6fb9d"
      },
      "outputs": [],
      "source": [
        "num_clusters = 2\n",
        "kmeans = KMeans(n_clusters=2, random_state=0)\n",
        "kmeans.fit(A)\n",
        "y_pred = kmeans.predict(A)"
      ]
    },
    {
      "cell_type": "code",
      "execution_count": null,
      "id": "abb4de69",
      "metadata": {
        "id": "abb4de69"
      },
      "outputs": [],
      "source": [
        "clusters = [[] for _ in range(len(np.unique(y_pred)))]\n",
        "for i, label in enumerate(y_pred):\n",
        "    clusters[label].append(i)"
      ]
    },
    {
      "cell_type": "code",
      "execution_count": null,
      "id": "21fe0569",
      "metadata": {
        "id": "21fe0569"
      },
      "outputs": [],
      "source": [
        "m = print_metrics_community('KMeans', G, clusters)\n",
        "s = print_metrics_cluster('KMeans', labels, y_pred)\n",
        "modularity['Kmeans'] = m\n",
        "silhouette['Kmeans'] = s"
      ]
    },
    {
      "cell_type": "code",
      "execution_count": null,
      "id": "45909ff9",
      "metadata": {
        "id": "45909ff9"
      },
      "outputs": [],
      "source": [
        "kmeans = KMeans(n_clusters=2, random_state=0)\n",
        "kmeans.fit(A_self_loops)\n",
        "y_pred = kmeans.predict(A_self_loops)\n",
        "clusters = [[] for _ in range(len(np.unique(y_pred)))]\n",
        "for i, label in enumerate(y_pred):\n",
        "    clusters[label].append(i)\n",
        "m = print_metrics_community('KMeans_with_self', g_self_loops, clusters)\n",
        "s = print_metrics_cluster('KMeans_with_self', labels, y_pred)\n",
        "modularity['Kmeans_self'] = m\n",
        "silhouette['Kmeans_self'] = s"
      ]
    },
    {
      "cell_type": "code",
      "execution_count": null,
      "id": "d4d61b13",
      "metadata": {
        "id": "d4d61b13"
      },
      "outputs": [],
      "source": [
        "mod_method = list(modularity.keys())\n",
        "mod_res = list(modularity.values())\n",
        "  \n",
        "fig = plt.figure(figsize = (10, 5))\n",
        " \n",
        "plt.bar(mod_method, mod_res, color ='maroon',\n",
        "        width = 0.4)\n",
        " \n",
        "plt.xlabel(\"\")\n",
        "plt.ylabel(\"Modularity\")\n",
        "plt.show()"
      ]
    },
    {
      "cell_type": "code",
      "execution_count": null,
      "id": "effa0819",
      "metadata": {
        "id": "effa0819"
      },
      "outputs": [],
      "source": [
        "silhouette_method = list(silhouette.keys())\n",
        "silhouette_res = list(silhouette.values())\n",
        "  \n",
        "fig = plt.figure(figsize = (10, 5))\n",
        " \n",
        "plt.bar(silhouette_method, silhouette_res, color ='maroon',\n",
        "        width = 0.4)\n",
        "\n",
        "plt.ylim(bottom=0.)\n",
        "plt.xlabel(\"\")\n",
        "plt.ylabel(\"Silhouette\")\n",
        "plt.show()"
      ]
    },
    {
      "cell_type": "code",
      "execution_count": null,
      "id": "f57f3e3d",
      "metadata": {
        "id": "f57f3e3d"
      },
      "outputs": [],
      "source": [
        "n_clusters = [i for i in range(2, 9)]\n",
        "silhouette_scores = []\n",
        "for k in n_clusters:\n",
        "    kmeans = KMeans(n_clusters=k, random_state=0)\n",
        "    kmeans.fit(A_self_loops)\n",
        "    y_pred = kmeans.predict(A_self_loops)\n",
        "    clusters = [[] for _ in range(len(np.unique(y_pred)))]\n",
        "    for i, label in enumerate(y_pred):\n",
        "        clusters[label].append(i)\n",
        "    s = print_metrics_cluster('k='+str(n), labels, y_pred)\n",
        "    silhouette_scores.append(s)\n",
        "\n",
        "plt.plot(silhouette_scores)\n",
        "plt.xticks(np.arange(len(silhouette_scores)), np.arange(2, len(silhouette_scores)+2))\n",
        "plt.show()"
      ]
    },
    {
      "cell_type": "code",
      "execution_count": null,
      "id": "e9378350",
      "metadata": {
        "id": "e9378350"
      },
      "outputs": [],
      "source": [
        ""
      ]
    }
  ],
  "metadata": {
    "kernelspec": {
      "display_name": "Python 3 (ipykernel)",
      "language": "python",
      "name": "python3"
    },
    "language_info": {
      "codemirror_mode": {
        "name": "ipython",
        "version": 3
      },
      "file_extension": ".py",
      "mimetype": "text/x-python",
      "name": "python",
      "nbconvert_exporter": "python",
      "pygments_lexer": "ipython3",
      "version": "3.8.12"
    },
    "colab": {
      "name": "Clustering_KarateClub.ipynb",
      "provenance": [],
      "collapsed_sections": [
        "57w13qpzUxO1",
        "GVO0i6lJSldV",
        "de797324",
        "kGzw09qGV8mm",
        "fc9bae28"
      ],
      "toc_visible": true
    }
  },
  "nbformat": 4,
  "nbformat_minor": 5
}